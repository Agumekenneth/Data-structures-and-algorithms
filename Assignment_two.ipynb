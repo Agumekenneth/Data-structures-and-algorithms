{
 "cells": [
  {
   "cell_type": "markdown",
   "metadata": {},
   "source": [
    " # Lists Operations"
   ]
  },
  {
   "cell_type": "code",
   "execution_count": 30,
   "metadata": {},
   "outputs": [
    {
     "name": "stdout",
     "output_type": "stream",
     "text": [
      "Apple Cherry\n",
      "List after adding two fruits\n",
      "['Apple', 'Banana', 'Cherry', 'Berry', 'Grapes']\n",
      "List after removing the second fruit\n",
      "['Apple', 'Cherry', 'Berry', 'Grapes']\n",
      "List after reversing\n",
      "['Grapes', 'Berry', 'Cherry', 'Apple']\n"
     ]
    },
    {
     "data": {
      "text/plain": [
       "<function __main__.fruits(my_fruits)>"
      ]
     },
     "execution_count": 30,
     "metadata": {},
     "output_type": "execute_result"
    }
   ],
   "source": [
    "# first and last fruits \n",
    "def fruits(my_fruits):\n",
    "    print(my_fruits[0],my_fruits[-1])# we apply slicing so as to obtain the first and last fruits \n",
    "    # Addition of two more fruits\n",
    "    my_fruits.append(\"Berry\")\n",
    "    my_fruits.append(\"Grapes\")\n",
    "    print(\"List after adding two fruits\")\n",
    "    print(my_fruits)\n",
    "    # using indexing to remove the second fruit\n",
    "    print(f\"List after removing the second fruit\")\n",
    "    my_fruits.pop(1)\n",
    "    print(my_fruits)\n",
    "    #Reversing the list\n",
    "    my_fruits = my_fruits[::-1]\n",
    "    print(\"List after reversing\")\n",
    "    print(my_fruits)\n",
    "    return fruits\n",
    "\n",
    "my_fruits =[\"Apple\",\"Banana\",\"Cherry\"]\n",
    "fruits(my_fruits)"
   ]
  },
  {
   "cell_type": "markdown",
   "metadata": {},
   "source": [
    "# Implementing Adding and Removing Items from a List"
   ]
  },
  {
   "cell_type": "code",
   "execution_count": 67,
   "metadata": {},
   "outputs": [
    {
     "name": "stdout",
     "output_type": "stream",
     "text": [
      "'Boy' added to the list.\n",
      "'Girl' added to the list.\n",
      "'Animal' added to the list.\n",
      "Current list: ['Boy', 'Girl', 'Animal']\n",
      "'Boy' removed from the list.\n",
      "Current list after removal: ['Girl', 'Animal']\n",
      "'Girl' removed from the list.\n",
      "'Animal' removed from the list.\n",
      "The list is empty, None.\n"
     ]
    }
   ],
   "source": [
    "# Create an empty list\n",
    "items = []\n",
    "\n",
    "# Adding an item\n",
    "def add_item(list_name, item):\n",
    "    list_name.append(item)\n",
    "    print(f\"'{item}' added to the list.\")\n",
    "\n",
    "add_item(items, \"Boy\")\n",
    "add_item(items, \"Girl\")\n",
    "add_item(items, \"Animal\")\n",
    "\n",
    "print(\"Current list:\", items)\n",
    "\n",
    "# Remove_item\n",
    "def remove_item(list_name):\n",
    "    if list_name:\n",
    "        removed_item = list_name.pop(0)\n",
    "        print(f\"'{removed_item}' removed from the list.\")\n",
    "        return removed_item\n",
    "    else:\n",
    "        print(\"The list is empty, None.\")\n",
    "        return None\n",
    "\n",
    "remove_item(items)\n",
    "\n",
    "print(\"Current list after removal:\", items)\n",
    "\n",
    "remove_item(items)\n",
    "remove_item(items)\n",
    "remove_item(items)  \n"
   ]
  },
  {
   "cell_type": "markdown",
   "metadata": {},
   "source": [
    "# Dictionary Operations"
   ]
  },
  {
   "cell_type": "code",
   "execution_count": 71,
   "metadata": {},
   "outputs": [
    {
     "name": "stdout",
     "output_type": "stream",
     "text": [
      "Book3, has been added to,Fiction\n",
      "Science Fiction genre created and Book4 has been added \n",
      "'Book3' not found in 'Non-Fiction'.\n",
      "Books in 'Fiction': ['Book1', 'Book2', 'Book3']\n",
      "Library contents:\n",
      "Fiction: ['Book1', 'Book2', 'Book3']\n",
      "Non_Fiction: ['Book3']\n",
      "Science Fiction: ['Book4']\n"
     ]
    }
   ],
   "source": [
    "# Creation of the dictionary\n",
    "library = {\n",
    "    \"Fiction\": [\"Book1\",\"Book2\"],\n",
    "    \"Non_Fiction\":[\"Book3\"]\n",
    "}\n",
    "# Addition of a book to a genre\n",
    "def add_book(library,genre,book_title):\n",
    "    if genre in library:\n",
    "        library[genre].append(book_title)\n",
    "        print(f\"{book_title}, has been added to,{genre}\")\n",
    "    else:\n",
    "        library[genre]= [book_title]\n",
    "        print(f\"{genre} genre created and {book_title} has been added \")\n",
    "add_book(library, \"Fiction\", \"Book3\")\n",
    "add_book(library, \"Science Fiction\", \"Book4\")\n",
    "\n",
    "# Remving a book from a genre\n",
    "def remove_book(library, genre, book_title):\n",
    "    if genre in library and book_title in library[genre]:\n",
    "        library[genre].remove(book_title)\n",
    "        print(f\"'{book_title}' removed from '{genre}'.\")\n",
    "    else:\n",
    "        print(f\"'{book_title}' not found in '{genre}'.\")\n",
    "\n",
    "remove_book(library, \"Non-Fiction\", \"Book3\")\n",
    "\n",
    "# All books in a  specific genre\n",
    "def print_books_in_genre(library, genre):\n",
    "    if genre in library:\n",
    "        print(f\"Books in '{genre}': {library[genre]}\")\n",
    "    else:\n",
    "        print(f\"'{genre}' genre does not exist.\")\n",
    "\n",
    "print_books_in_genre(library, \"Fiction\")\n",
    "\n",
    "# All keys and values \n",
    "def print_all_genres_and_books(library):\n",
    "    print(\"Library contents:\")\n",
    "    for genre, books in library.items():\n",
    "        print(f\"{genre}: {books}\")\n",
    "print_all_genres_and_books(library)\n",
    "\n"
   ]
  },
  {
   "cell_type": "markdown",
   "metadata": {},
   "source": [
    "# Nested Dictionary(Creating and Accessing Data)"
   ]
  },
  {
   "cell_type": "code",
   "execution_count": 9,
   "metadata": {},
   "outputs": [
    {
     "name": "stdout",
     "output_type": "stream",
     "text": [
      "Top-level keys: dict_keys(['Country'])\n",
      "second_level keys under Country: dict_keys(['State'])\n",
      "third_level  and values: {'City': ['Neigborhood1', 'Neighborhood2']}\n",
      "Neighborhoods in the City\n",
      "Neigborhood1\n",
      "Neighborhood2\n"
     ]
    }
   ],
   "source": [
    "#Nested Dictionary\n",
    "locations = {\n",
    "    \"Country\":{\n",
    "        \"State\":{\n",
    "            \"City\":[\"Neigborhood1\",\"Neighborhood2\"]\n",
    "        }\n",
    "    }\n",
    "}\n",
    "\n",
    "# printing the top-level keys\n",
    "print(\"Top-level keys:\",locations.keys())\n",
    " # second-level keys\n",
    "second_level = locations[\"Country\"]\n",
    "print(\"second_level keys under Country:\", second_level.keys())\n",
    "# third-level keys and their values\n",
    "third_level = second_level[\"State\"]\n",
    "print(\"third_level  and values:\",third_level)\n",
    "#Neighborhoods\n",
    "neighborhoods = third_level[\"City\"]\n",
    "print(\"Neighborhoods in the City\")\n",
    "for neighborhood in neighborhoods:\n",
    "    print(neighborhood) "
   ]
  }
 ],
 "metadata": {
  "kernelspec": {
   "display_name": "Python 3",
   "language": "python",
   "name": "python3"
  },
  "language_info": {
   "codemirror_mode": {
    "name": "ipython",
    "version": 3
   },
   "file_extension": ".py",
   "mimetype": "text/x-python",
   "name": "python",
   "nbconvert_exporter": "python",
   "pygments_lexer": "ipython3",
   "version": "3.12.5"
  }
 },
 "nbformat": 4,
 "nbformat_minor": 2
}
