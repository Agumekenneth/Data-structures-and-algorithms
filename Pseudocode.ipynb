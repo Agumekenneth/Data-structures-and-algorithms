{
 "cells": [
  {
   "cell_type": "markdown",
   "metadata": {},
   "source": [
    "AGUME KENNETH B30309 S24B38/017"
   ]
  },
  {
   "cell_type": "markdown",
   "metadata": {},
   "source": [
    "# Pseudocode and Flowcharts"
   ]
  },
  {
   "cell_type": "markdown",
   "metadata": {},
   "source": [
    "Pseudocode\n",
    "\n",
    "Pseudocode is  a method of describing a process of writing programming code and algorithms using a natural languange that is human readable and doesnot follow strict syntax \n",
    "\n",
    "Flowcharts\n",
    "\n",
    "This refer's to the visual representation of an algorithm that helps a programmer to illustatre the flow of execution\n",
    "\n",
    "#pseudocode\n",
    "\n",
    "- Thy provide improved problem-solving by breaking complex problems into smaller,manageable steps \n",
    "- It helps instructuring the logic in a step-by-step manner,making it easier to follow and implement\n",
    "\n",
    "#flowcharts\n",
    "- They provide improved problem-solving by indentify errors or inefficienties in the algorithm before coding\n",
    "- They provide a visual representation of the logical flow, making it easy to undserstand the process at a glance\n"
   ]
  },
  {
   "cell_type": "markdown",
   "metadata": {},
   "source": [
    "# Example"
   ]
  },
  {
   "cell_type": "markdown",
   "metadata": {},
   "source": [
    "# 2 Finding the largest of Three Numbers "
   ]
  },
  {
   "cell_type": "code",
   "execution_count": 1,
   "metadata": {},
   "outputs": [],
   "source": [
    "#Pseudocode\n",
    "# BEGIN\n",
    "#     // Step 1: User inputs\n",
    "\n",
    "#     INPUT num1\n",
    "\n",
    "#     INPUT num2\n",
    "\n",
    "#     INPUT num3\n",
    "\n",
    "#     // Step 2: Compare numbers to find the largest\n",
    "#     IF (num1 >= num2) AND (num1 >= num3) THEN\n",
    "#         largest = num1\n",
    "#     ELSE IF (num2 >= num1) AND (num2 >= num3) THEN\n",
    "#         largest = num2\n",
    "#     ELSE\n",
    "#         largest = num3\n",
    "#     ENDIF\n",
    "\n",
    "#     // Step 3: Display the largest number\n",
    "#     OUTPUT largest\n",
    "# END\n",
    "\n"
   ]
  },
  {
   "cell_type": "markdown",
   "metadata": {},
   "source": [
    "# 3 Printing Even Numbers from 1 to 50"
   ]
  },
  {
   "cell_type": "code",
   "execution_count": 2,
   "metadata": {},
   "outputs": [],
   "source": [
    "# BEGIN\n",
    "#     // Step 1: Loop through numbers from 1 to 50\n",
    "#     FOR number IN the RANGE 51:\n",
    "#         // Step 2: Check if the number is even\n",
    "#         IF number MOD 2 = 0 THEN\n",
    "#             OUTPUT number\n",
    "#         ENDIF\n",
    "#     END FOR\n",
    "# END -->\n"
   ]
  }
 ],
 "metadata": {
  "kernelspec": {
   "display_name": "Python 3",
   "language": "python",
   "name": "python3"
  },
  "language_info": {
   "codemirror_mode": {
    "name": "ipython",
    "version": 3
   },
   "file_extension": ".py",
   "mimetype": "text/x-python",
   "name": "python",
   "nbconvert_exporter": "python",
   "pygments_lexer": "ipython3",
   "version": "3.12.5"
  }
 },
 "nbformat": 4,
 "nbformat_minor": 2
}
