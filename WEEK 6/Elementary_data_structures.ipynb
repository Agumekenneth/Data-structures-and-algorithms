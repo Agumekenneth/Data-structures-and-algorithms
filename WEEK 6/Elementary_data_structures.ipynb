{
 "cells": [
  {
   "cell_type": "code",
   "execution_count": 12,
   "metadata": {},
   "outputs": [
    {
     "name": "stdout",
     "output_type": "stream",
     "text": [
      "1\n",
      "[1, 2, 3, 4, 5, 6, 7, 8, 9, 10]\n",
      "[1, 2, 2.5, 3, 4, 5, 6, 7, 8, 9, 10]\n",
      "rrray without 10 [1, 2, 2.5, 3, 4, 5, 6, 7, 8, 9]\n",
      "array without 5 [1, 2, 2.5, 3, 4, 6, 7, 8, 9]\n",
      "The numberis not in the array\n",
      "elements currently in the array:\n",
      "1\n",
      "2\n",
      "2.5\n",
      "3\n",
      "4\n",
      "6\n",
      "7\n",
      "8\n",
      "9\n"
     ]
    }
   ],
   "source": [
    "array = [1,2,3,4,5,6,7,8,9]\n",
    "print(array[0])\n",
    "#print(array)\n",
    "\n",
    "# instering data into an array\n",
    "array.append(10)\n",
    "print(array)\n",
    "array.insert(2,2.5)\n",
    "print(array)\n",
    "\n",
    "# delletinf/removing data from an array\n",
    "array.remove(10)\n",
    "print('array without 10',array)\n",
    "del array[5]\n",
    "print('array without 5',array)\n",
    "\n",
    "# saerch for an element in an array\n",
    "if 800 in array:\n",
    "    print('The number is in the array')\n",
    "else:\n",
    "    print('The numberis not in the array')\n",
    "\n",
    "#traversing in the array\n",
    "print('elements currently in the array:')\n",
    "for num in array:\n",
    "    print(num)"
   ]
  },
  {
   "cell_type": "markdown",
   "metadata": {},
   "source": [
    "# 2D ARRAY"
   ]
  },
  {
   "cell_type": "code",
   "execution_count": 16,
   "metadata": {},
   "outputs": [
    {
     "name": "stdout",
     "output_type": "stream",
     "text": [
      "[[1, 2, 3], [4, 5, 6], [7, 8, 9]]\n",
      "1\n",
      "9\n"
     ]
    }
   ],
   "source": [
    "array1 =[\n",
    "    [1,2,3],\n",
    "    [4,5,6],\n",
    "    [7,8,9]\n",
    "]\n",
    "print(array1)\n",
    "print(array1[0][0])# how ypu print out elements within a 2D array\n",
    "print(array1[2][2])"
   ]
  },
  {
   "cell_type": "markdown",
   "metadata": {},
   "source": [
    "# LINKED LIST"
   ]
  },
  {
   "cell_type": "markdown",
   "metadata": {},
   "source": [
    "Data structure where size can be changed\n",
    "It uses a pointer"
   ]
  },
  {
   "cell_type": "markdown",
   "metadata": {},
   "source": [
    "node-a structure that contains the following\n",
    "\n",
    "data(Value sorted in the node)\n",
    "\n",
    "pointer(reference to the next node)\n",
    "\n",
    "head-the first node in a linked list\n",
    "\n",
    "tail-the last nodenin a linked list"
   ]
  },
  {
   "cell_type": "code",
   "execution_count": 29,
   "metadata": {},
   "outputs": [
    {
     "name": "stdout",
     "output_type": "stream",
     "text": [
      "linked_list\n",
      "1->2->3->none\n",
      "1->1.5->2->3->none\n",
      "1->2->3->none\n"
     ]
    }
   ],
   "source": [
    "linked_list={\n",
    "    0:(1,1),\n",
    "    1:(2,2),\n",
    "    2:(3,-1)\n",
    "}\n",
    "#print(linked_list)\n",
    "def dipslay_linked_list():\n",
    "    index = 0\n",
    "    while index!=-1:\n",
    "        value,next_index =linked_list[index]\n",
    "        print(value,end='->')\n",
    "        index =next_index\n",
    "    print(\"none\")\n",
    "print(\"linked_list\")\n",
    "dipslay_linked_list()\n",
    "\n",
    "linked_list[1]=(1.5,2)\n",
    "linked_list[2]=(2,3)\n",
    "linked_list[3] = (3,-1)\n",
    "dipslay_linked_list()\n",
    "\n",
    "#remove data from a linked list\n",
    "del linked_list[1]\n",
    "linked_list[0] = (1,2)\n",
    "dipslay_linked_list()\n"
   ]
  },
  {
   "cell_type": "markdown",
   "metadata": {},
   "source": [
    "# Stacks"
   ]
  },
  {
   "cell_type": "markdown",
   "metadata": {},
   "source": [
    "A data structure that uses the principle of last in, first out"
   ]
  },
  {
   "cell_type": "code",
   "execution_count": 32,
   "metadata": {},
   "outputs": [
    {
     "name": "stdout",
     "output_type": "stream",
     "text": [
      "stack [1, 2, 3]\n",
      "popped element 3\n",
      "top most element 2\n"
     ]
    }
   ],
   "source": [
    "stack =[]\n",
    "stack.append(1)\n",
    "stack.append(2)\n",
    "stack.append(3)\n",
    "print(\"stack\",stack)\n",
    "\n",
    "#remove elements from a stack\n",
    "if stack:\n",
    "    popped = stack.pop()\n",
    "    print(\"popped element\",popped)\n",
    "\n",
    "if stack:\n",
    "    print(\"top most element\",stack[-1])"
   ]
  },
  {
   "cell_type": "markdown",
   "metadata": {},
   "source": [
    "# Queue's"
   ]
  },
  {
   "cell_type": "code",
   "execution_count": 36,
   "metadata": {},
   "outputs": [
    {
     "name": "stdout",
     "output_type": "stream",
     "text": [
      "queue: deque([1, 2, 3])\n",
      "queue is now a list [1, 2, 3]\n",
      "removed element: 1\n",
      "front element 2\n"
     ]
    }
   ],
   "source": [
    "from collections import deque\n",
    "\n",
    "queue =deque()\n",
    "queue.append(1)\n",
    "queue.append(2)\n",
    "queue.append(3)\n",
    "print(\"queue:\",queue)\n",
    "print(\"queue is now a list\",list(queue))\n",
    "\n",
    "if queue:\n",
    "    removed_element = queue.popleft()\n",
    "    print(\"removed element:\",removed_element)\n",
    "\n",
    "if queue:\n",
    "    print(\"front element\",queue[0])"
   ]
  }
 ],
 "metadata": {
  "kernelspec": {
   "display_name": "Python 3",
   "language": "python",
   "name": "python3"
  },
  "language_info": {
   "codemirror_mode": {
    "name": "ipython",
    "version": 3
   },
   "file_extension": ".py",
   "mimetype": "text/x-python",
   "name": "python",
   "nbconvert_exporter": "python",
   "pygments_lexer": "ipython3",
   "version": "3.12.5"
  }
 },
 "nbformat": 4,
 "nbformat_minor": 2
}
