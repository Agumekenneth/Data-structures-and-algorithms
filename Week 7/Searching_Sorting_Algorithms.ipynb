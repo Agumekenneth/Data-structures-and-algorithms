{
 "cells": [
  {
   "cell_type": "markdown",
   "metadata": {},
   "source": [
    "# Searching Algorithms"
   ]
  },
  {
   "cell_type": "markdown",
   "metadata": {},
   "source": [
    "- These can be referred to as essential tools in computer science used to locate specific items within a collection of data. They designed to basically navigate through data structures to find the required or desired information. They are mostly used in datbases and web search engines etc "
   ]
  },
  {
   "cell_type": "markdown",
   "metadata": {},
   "source": [
    "Linear Search \n",
    "-  This can be defined as a simple way for finding an item in a sequential list by checking each item in order until the target value is reached."
   ]
  },
  {
   "cell_type": "markdown",
   "metadata": {},
   "source": [
    "Advantages\n",
    "- Linear search is simple to understand and easy to implement.\n",
    "- Unlike binary search, linear search works on both sorted and unsorted data.\n",
    "- It can be used on arrays, linked lists, or other data structures.\n",
    "- For small lists, linear search is efficient and has minimal overhead.\n",
    "- It operates in-place and does not require additional memory allocation.\n"
   ]
  },
  {
   "cell_type": "code",
   "execution_count": 1,
   "metadata": {},
   "outputs": [
    {
     "name": "stdout",
     "output_type": "stream",
     "text": [
      "Element found at index 2\n"
     ]
    }
   ],
   "source": [
    "def linear_search(arr, target):\n",
    "    for i in range(len(arr)):\n",
    "        if arr[i] == target:\n",
    "            return i  # Return the index where the target is found\n",
    "    return -1  # Return -1 if the target is not found\n",
    "\n",
    "# Example usage\n",
    "arr = [10, 20, 30, 40, 50]\n",
    "target = 30\n",
    "result = linear_search(arr, target)\n",
    "\n",
    "if result != -1:\n",
    "    print(f\"Element found at index {result}\")\n",
    "else:\n",
    "    print(\"Element not found\")\n"
   ]
  },
  {
   "cell_type": "markdown",
   "metadata": {},
   "source": [
    "Binary Search\n",
    "- This is an efficient searching algorithm used for finding an element in a sorted list by dividing the search intervalin half. \n"
   ]
  },
  {
   "cell_type": "code",
   "execution_count": 4,
   "metadata": {},
   "outputs": [
    {
     "name": "stdout",
     "output_type": "stream",
     "text": [
      "Element found at index 2\n"
     ]
    }
   ],
   "source": [
    "# recursive Approach\n",
    "def binary_search_recursive(arr, low, high, target):\n",
    "    if low > high:\n",
    "        return -1  # Target not found\n",
    "\n",
    "    mid = (low + high) // 2\n",
    "\n",
    "    if arr[mid] == target:# Target found\n",
    "        return mid\n",
    "    elif arr[mid] < target:# Target is in the right half\n",
    "        return binary_search_recursive(arr, mid + 1, high, target)\n",
    "    else:\n",
    "        return binary_search_recursive(arr, low, mid - 1, target)\n",
    "\n",
    "# Example usage\n",
    "arr = [10, 20, 30, 40, 50]\n",
    "target = 30\n",
    "result = binary_search_recursive(arr, 0, len(arr) - 1, target)# Start with low=0 and high=len(arr)-1\n",
    "\n",
    "if result != -1:# Target found\n",
    "    print(f\"Element found at index {result}\")\n",
    "else:\n",
    "    print(\"Element not found\")\n"
   ]
  },
  {
   "cell_type": "markdown",
   "metadata": {},
   "source": [
    "# Sorting Algorithms"
   ]
  },
  {
   "cell_type": "markdown",
   "metadata": {},
   "source": [
    "A sorting algorithm is one the used to rearrange a given array or list of elements in an order."
   ]
  },
  {
   "cell_type": "markdown",
   "metadata": {},
   "source": [
    " Bubble Sort"
   ]
  },
  {
   "cell_type": "markdown",
   "metadata": {},
   "source": [
    "- This refers to an algorithm that compares two adjacent elements and swaps them until they are in the intended order."
   ]
  },
  {
   "cell_type": "code",
   "execution_count": 6,
   "metadata": {},
   "outputs": [
    {
     "name": "stdout",
     "output_type": "stream",
     "text": [
      "Sorted array: [5, 11, 12, 22, 25, 34, 64, 90]\n"
     ]
    }
   ],
   "source": [
    "my_array = [64, 34, 25, 12, 22, 11, 90, 5]# Bubble sort\n",
    "\n",
    "n = len(my_array)# Traverse through all array elements\n",
    "for i in range(n-1):# Last i elements are already in place\n",
    "    for j in range(n-i-1):# Traverse the array from 0 to n-i-1\n",
    "        if my_array[j] > my_array[j+1]:# Swap if the element found is greater\n",
    "            my_array[j], my_array[j+1] = my_array[j+1], my_array[j]# Swap\n",
    "\n",
    "print(\"Sorted array:\", my_array)# Driver code to test above"
   ]
  },
  {
   "cell_type": "markdown",
   "metadata": {},
   "source": [
    "Insertion Sort"
   ]
  },
  {
   "cell_type": "markdown",
   "metadata": {},
   "source": [
    "Insertion Sort is a simple and efficient sorting algorithm that builds the sorted list one element at a time. It works similarly to how we arrange playing cards in our hands."
   ]
  },
  {
   "cell_type": "code",
   "execution_count": 1,
   "metadata": {},
   "outputs": [
    {
     "name": "stdout",
     "output_type": "stream",
     "text": [
      "Sorted array: [5, 11, 12, 22, 25, 34, 64, 90]\n"
     ]
    }
   ],
   "source": [
    "my_array = [64, 34, 25, 12, 22, 11, 90, 5]\n",
    "\n",
    "n = len(my_array)# Traverse through all array elements\n",
    "for i in range(1,n):# Traverse the array from 1 to n\n",
    "    insert_index = i# Move elements of my_array[0..i-1], that are greater than current_value, to one position ahead of their current position\n",
    "    current_value = my_array.pop(i)# Store the current value to be placed at the correct position\n",
    "    for j in range(i-1, -1, -1):# Move elements of my_array[0..i-1], that are greater than current_value, to one position ahead of their current position\n",
    "        if my_array[j] > current_value:# Move elements of my_array[0..i-1], that are greater than current_value, to one position ahead of their current position\n",
    "            insert_index = j# Move elements of my_array[0..i-1], that are greater than current_value, to one position ahead of their current position\n",
    "    my_array.insert(insert_index, current_value)\n",
    "\n",
    "print(\"Sorted array:\", my_array)\n"
   ]
  },
  {
   "cell_type": "markdown",
   "metadata": {},
   "source": [
    "Selection Sort\n",
    "\n"
   ]
  },
  {
   "cell_type": "markdown",
   "metadata": {},
   "source": [
    "- Selection Sort is a simple comparison-based sorting algorithm. It works by repeatedly selecting the smallest (or largest) element from the unsorted portion of the list and moving it to its correct position."
   ]
  },
  {
   "cell_type": "markdown",
   "metadata": {},
   "source": [
    "Complexity Analysis of Selection\n",
    "- Best Case (Already Sorted),The algorithm still goes through all elements to find the minimum element, even if the array is already sorted.The number of comparisons remains the same.(n−1)+(n−2)+...+1= \n",
    "2\n",
    "n(n−1)\n",
    "​\n",
    "-iTs time complexity is  \n",
    "𝑂\n",
    "(\n",
    "𝑛\n",
    "2\n",
    ")\n",
    "O(n \n",
    "2\n",
    " )\n",
    "\n",
    "Worst Case(Reverse Sorted)\n",
    "- The algorithm performs the same number of comparisons as in the best case. However, it performs the maximum number of swaps (one per iteration).\n",
    "- It has Time complexity of O(n \n",
    "2\n",
    " )\n",
    "Average Case(Random Order)\n",
    "- The number of comparisons remains the same as in both best and worst cases. On average, the number of swaps is also \n",
    "𝑂\n",
    "(\n",
    "𝑛\n",
    ")\n",
    "O(n).\n",
    "- It has a time complexity of  \n",
    "𝑂\n",
    "(\n",
    "𝑛\n",
    "2\n",
    ")\n",
    "O(n \n",
    "2\n",
    " ) \n",
    "\n",
    "Space complexity\n",
    "- Selection Sort is an in-place sorting algorithm, meaning it does not require additional memory apart from a few auxiliary variables.\n",
    "- It's complexity is O(1)\n",
    "\n",
    "Advantages \n",
    "- The algorithm is straightforward and easy to understand, making it a good choice for teaching sorting concepts.\n",
    "- Due to its simplicity, it can be useful for sorting small datasets where performance is not a critical concern.\n",
    "- It uses minimal swaps which makes it useful in situations where swapping elements is expensive.\n",
    "- Unlike some sorting algorithms (e.g., Bubble Sort), Selection Sort always performs \n",
    "𝑂\n",
    "(\n",
    "𝑛\n",
    "2\n",
    ")\n",
    "O(n \n",
    "2\n",
    " ) comparisons regardless of the input order.\n",
    "\n",
    "Disadvantages \n",
    "- It has poor time complexity which makes it inefficient for large datasets compared to algorithms like Merge Sort (\n",
    "𝑂\n",
    "(\n",
    "𝑛\n",
    "log\n",
    "⁡\n",
    "𝑛\n",
    ")\n",
    "O(nlogn)) or Quick Sort (\n",
    "𝑂\n",
    "(\n",
    "𝑛\n",
    "log\n",
    "⁡\n",
    "𝑛\n",
    ")\n",
    "O(nlogn) on average).\n",
    "- It is not a stable sort because swapping distant elements can change the relative order of equal elements\n",
    "- Regardless of the initial order of elements, it always performs \n",
    "𝑂\n",
    "(\n",
    "𝑛\n",
    "2\n",
    ")\n",
    "O(n \n",
    "2\n",
    " ) comparisons, even if the array is already sorted.\n",
    "- "
   ]
  },
  {
   "cell_type": "code",
   "execution_count": 8,
   "metadata": {},
   "outputs": [
    {
     "name": "stdout",
     "output_type": "stream",
     "text": [
      "Sorted array: [11, 12, 22, 25, 64]\n"
     ]
    }
   ],
   "source": [
    "def selection_sort(arr):\n",
    "    n = len(arr)# Traverse through all array elements\n",
    "    for i in range(n):# Find the minimum element in the remaining unsorted array\n",
    "        min_index = i  # Assume the first element is the minimum\n",
    "        for j in range(i + 1, n):# Traverse the array from i+1 to n\n",
    "            if arr[j] < arr[min_index]:  # Find the smallest element\n",
    "                min_index = j# Swap the found minimum element with the first element\n",
    "        \n",
    "        arr[i], arr[min_index] = arr[min_index], arr[i]  # Swap\n",
    "\n",
    "# Example usage\n",
    "arr = [64, 25, 12, 22, 11]\n",
    "selection_sort(arr)\n",
    "print(\"Sorted array:\", arr)\n"
   ]
  },
  {
   "cell_type": "markdown",
   "metadata": {},
   "source": [
    "Quicksort"
   ]
  },
  {
   "cell_type": "markdown",
   "metadata": {},
   "source": [
    "- Quicksort is a divide-and-conquer sorting algorithm that efficiently sorts an array by partitioning it into two halves and recursively sorting them. It is one of the fastest sorting algorithms in practice."
   ]
  },
  {
   "cell_type": "code",
   "execution_count": 9,
   "metadata": {},
   "outputs": [
    {
     "name": "stdout",
     "output_type": "stream",
     "text": [
      "Sorted array: [5, 11, 12, 22, 25, 34, 64, 90]\n"
     ]
    }
   ],
   "source": [
    "def partition(array, low, high):# This function takes the last element as pivot, places the pivot element at its correct position in the sorted array, and places all smaller (smaller than pivot) to the left of the pivot and all greater elements to the right of the pivot\n",
    "    pivot = array[high]# Index of smaller element\n",
    "    i = low - 1# Traverse through all array elements\n",
    "\n",
    "    for j in range(low, high):# If the current element is smaller than the pivot\n",
    "        if array[j] <= pivot:# Increment index of smaller element\n",
    "            i += 1\n",
    "            array[i], array[j] = array[j], array[i]# Swap\n",
    "\n",
    "    array[i+1], array[high] = array[high], array[i+1]# Swap\n",
    "    return i+1# Return the partitioning index\n",
    "\n",
    "def quicksort(array, low=0, high=None):# The main function that implements QuickSort\n",
    "    if high is None:# Set the default value of high\n",
    "        high = len(array) - 1# Check if the low and high are valid\n",
    "\n",
    "    if low < high:# pi is partitioning index, array[p] is now at right place\n",
    "        pivot_index = partition(array, low, high)# Separately sort elements before partition and after partition\n",
    "        quicksort(array, low, pivot_index-1)# Separately sort elements before partition and after partition\n",
    "        quicksort(array, pivot_index+1, high)# Driver code to test above\n",
    "\n",
    "my_array = [64, 34, 25, 12, 22, 11, 90, 5]\n",
    "quicksort(my_array)\n",
    "print(\"Sorted array:\", my_array)\n"
   ]
  },
  {
   "cell_type": "markdown",
   "metadata": {},
   "source": [
    "complexity Analysis of Quick Sort\n",
    "- Best case:(Ω(n log n)), this occurs when the pivot element divides the array into two equal halves.\n",
    "- Average Case:(0(nlogn)), This occurs when the pivot divides the array into two parts, but not necessarily equal.\n",
    "- Worst Case:(O(n²)), This occurs when the smallest or largest element is always chosen as the pivot.\n",
    "- Auxiliary Space:O(n), this occurs due to the recurssive call stack."
   ]
  },
  {
   "cell_type": "markdown",
   "metadata": {},
   "source": [
    "Advantages\n",
    "-  It is a divide-and-conquer algorthm that makes it easier to solve problems.\n",
    "- It is efficient on large data sets.\n",
    "- It has a low overhead, as it only requires a small amount of memory to function\n",
    "\n",
    "Disadvantages\n",
    "- It has a worst-case time complexity of O(n2), which occurs when the pivot is chosen poorly.\n",
    "- It is not a good choice for small data sets\n"
   ]
  },
  {
   "cell_type": "markdown",
   "metadata": {},
   "source": [
    "Mergesort"
   ]
  },
  {
   "cell_type": "markdown",
   "metadata": {},
   "source": [
    "- Merge Sort is a divide-and-conquer sorting algorithm that splits an array into smaller subarrays, sorts them, and then merges them back together. It is particularly efficient for large datasets and maintains stability.\n",
    "\n"
   ]
  },
  {
   "cell_type": "markdown",
   "metadata": {},
   "source": []
  }
 ],
 "metadata": {
  "kernelspec": {
   "display_name": "Python 3",
   "language": "python",
   "name": "python3"
  },
  "language_info": {
   "codemirror_mode": {
    "name": "ipython",
    "version": 3
   },
   "file_extension": ".py",
   "mimetype": "text/x-python",
   "name": "python",
   "nbconvert_exporter": "python",
   "pygments_lexer": "ipython3",
   "version": "3.12.5"
  }
 },
 "nbformat": 4,
 "nbformat_minor": 2
}
