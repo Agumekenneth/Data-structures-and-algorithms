{
 "cells": [
  {
   "cell_type": "markdown",
   "metadata": {},
   "source": [
    "# Searching Algorithms"
   ]
  },
  {
   "cell_type": "markdown",
   "metadata": {},
   "source": [
    "- These can be referred to as essential tools in computer science used to locate specific items within a collection of data. They designed to basically navigate through data structures to find the required or desired information. They are mostly used in datbases and web search engines etc "
   ]
  },
  {
   "cell_type": "markdown",
   "metadata": {},
   "source": [
    "Linear Search \n",
    "-  This can be defined as a simple way for finding an item in a sequential list by checking each item in order until the target value is reached."
   ]
  },
  {
   "cell_type": "code",
   "execution_count": 1,
   "metadata": {},
   "outputs": [
    {
     "name": "stdout",
     "output_type": "stream",
     "text": [
      "Element found at index 2\n"
     ]
    }
   ],
   "source": [
    "def linear_search(arr, target):\n",
    "    for i in range(len(arr)):\n",
    "        if arr[i] == target:\n",
    "            return i  # Return the index where the target is found\n",
    "    return -1  # Return -1 if the target is not found\n",
    "\n",
    "# Example usage\n",
    "arr = [10, 20, 30, 40, 50]\n",
    "target = 30\n",
    "result = linear_search(arr, target)\n",
    "\n",
    "if result != -1:\n",
    "    print(f\"Element found at index {result}\")\n",
    "else:\n",
    "    print(\"Element not found\")\n"
   ]
  },
  {
   "cell_type": "markdown",
   "metadata": {},
   "source": [
    "Binary Search\n",
    "- This is an efficient searching algorithm used for finding an element in a sorted list by dividing the search intervalin half. \n"
   ]
  },
  {
   "cell_type": "code",
   "execution_count": 4,
   "metadata": {},
   "outputs": [
    {
     "name": "stdout",
     "output_type": "stream",
     "text": [
      "Element found at index 2\n"
     ]
    }
   ],
   "source": [
    "# recursive Approach\n",
    "def binary_search_recursive(arr, low, high, target):\n",
    "    if low > high:\n",
    "        return -1  # Target not found\n",
    "\n",
    "    mid = (low + high) // 2\n",
    "\n",
    "    if arr[mid] == target:# Target found\n",
    "        return mid\n",
    "    elif arr[mid] < target:# Target is in the right half\n",
    "        return binary_search_recursive(arr, mid + 1, high, target)\n",
    "    else:\n",
    "        return binary_search_recursive(arr, low, mid - 1, target)\n",
    "\n",
    "# Example usage\n",
    "arr = [10, 20, 30, 40, 50]\n",
    "target = 30\n",
    "result = binary_search_recursive(arr, 0, len(arr) - 1, target)# Start with low=0 and high=len(arr)-1\n",
    "\n",
    "if result != -1:# Target found\n",
    "    print(f\"Element found at index {result}\")\n",
    "else:\n",
    "    print(\"Element not found\")\n"
   ]
  }
 ],
 "metadata": {
  "kernelspec": {
   "display_name": "Python 3",
   "language": "python",
   "name": "python3"
  },
  "language_info": {
   "codemirror_mode": {
    "name": "ipython",
    "version": 3
   },
   "file_extension": ".py",
   "mimetype": "text/x-python",
   "name": "python",
   "nbconvert_exporter": "python",
   "pygments_lexer": "ipython3",
   "version": "3.12.5"
  }
 },
 "nbformat": 4,
 "nbformat_minor": 2
}
