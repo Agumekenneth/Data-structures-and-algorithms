{
 "cells": [
  {
   "cell_type": "markdown",
   "metadata": {},
   "source": [
    "# Searching Algorithms"
   ]
  },
  {
   "cell_type": "markdown",
   "metadata": {},
   "source": [
    "- These can be referred to as essential tools in computer science used to locate specific items within a collection of data. They designed to basically navigate through data structures to find the required or desired information. They are mostly used in datbases and web search engines etc "
   ]
  },
  {
   "cell_type": "markdown",
   "metadata": {},
   "source": [
    "Linear Search \n",
    "-  This can be defined as a simple way for finding an item in a sequential list by checking each item in order until the target value is reached."
   ]
  },
  {
   "cell_type": "markdown",
   "metadata": {},
   "source": [
    "Advantages\n",
    "- Linear search is simple to understand and easy to implement.\n",
    "- Unlike binary search, linear search works on both sorted and unsorted data.\n",
    "- It can be used on arrays, linked lists, or other data structures.\n",
    "- For small lists, linear search is efficient and has minimal overhead.\n",
    "- It operates in-place and does not require additional memory allocation.\n",
    "\n",
    "Disadvantages \n",
    "-  Linear search has a worst-case time complexity of O(n), making it inefficient for large datasets\n",
    "- It searches elements one by one, making it impractical for searching in large databases.\n",
    "- If searches are common, an indexed or more optimized search algorithm is preferable"
   ]
  },
  {
   "cell_type": "code",
   "execution_count": 1,
   "metadata": {},
   "outputs": [
    {
     "name": "stdout",
     "output_type": "stream",
     "text": [
      "Element found at index 2\n"
     ]
    }
   ],
   "source": [
    "def linear_search(arr, target):\n",
    "    for i in range(len(arr)):\n",
    "        if arr[i] == target:\n",
    "            return i  # Return the index where the target is found\n",
    "    return -1  # Return -1 if the target is not found\n",
    "\n",
    "# Example usage\n",
    "arr = [10, 20, 30, 40, 50]\n",
    "target = 30\n",
    "result = linear_search(arr, target)\n",
    "\n",
    "if result != -1:\n",
    "    print(f\"Element found at index {result}\")\n",
    "else:\n",
    "    print(\"Element not found\")\n"
   ]
  },
  {
   "cell_type": "markdown",
   "metadata": {},
   "source": [
    "Pseudocode"
   ]
  },
  {
   "cell_type": "markdown",
   "metadata": {},
   "source": [
    "BEGIN LINEAR_SEARCH(arr, target)\n",
    "\n",
    "    INPUT: arr (list of numbers), target (search element)\n",
    "\n",
    "    OUTPUT: index of target if found, otherwise -1\n",
    "\n",
    "    FOR i FROM 0 TO length of arr - 1 DO\n",
    "\n",
    "        IF arr[i] = target THEN\n",
    "\n",
    "            RETURN i  // Return index where the target is found\n",
    "\n",
    "        ENDIF\n",
    "\n",
    "    ENDFOR\n",
    "\n",
    "    RETURN -1  // Target not found\n",
    "\n",
    "END LINEAR_SEARCH\n",
    "\n",
    "\n",
    "BEGIN MAIN\n",
    "    INPUT: arr ← [10, 20, 30, 40, 50], target ← 30\n",
    "    result ← LINEAR_SEARCH(arr, target)\n",
    "\n",
    "    IF result ≠ -1 THEN\n",
    "\n",
    "        OUTPUT: \"Element found at index\", result\n",
    "\n",
    "    ELSE\n",
    "\n",
    "        OUTPUT: \"Element not found\"\n",
    "\n",
    "    ENDIF\n",
    "    \n",
    "END MAIN\n"
   ]
  },
  {
   "cell_type": "markdown",
   "metadata": {},
   "source": [
    "Advantages\n",
    "- Binary search has a time complexity of O(log n), making it significantly faster than linear search for large datasets.\n",
    "- The logarithmic time complexity allows it to handle large lists efficiently.\n",
    "- Compared to linear search, binary search requires fewer comparisons to find an element\n",
    "- If the dataset is sorted, binary search is one of the most efficient searching algorithms.\n",
    "- It offers flexibility in implementation based on the use case.\n",
    "\n",
    "Disadvantages\n",
    "- Unlike linear search, binary search only works on sorted datasets. If the data is unsorted, sorting it first adds extra computational cost (O(n log n) for most sorting algorithms).\n",
    "- For small datasets, the overhead of implementing binary search may not be justified over a simple linear search.\n",
    "- If data is frequently inserted or deleted, keeping it sorted adds extra computational effort.\n",
    "- Since binary search requires direct access to elements using indexes, it is less efficient for linked lists compared to arrays.\n"
   ]
  },
  {
   "cell_type": "markdown",
   "metadata": {},
   "source": [
    "Binary Search\n",
    "- This is an efficient searching algorithm used for finding an element in a sorted list by dividing the search interval in half. \n"
   ]
  },
  {
   "cell_type": "code",
   "execution_count": 4,
   "metadata": {},
   "outputs": [
    {
     "name": "stdout",
     "output_type": "stream",
     "text": [
      "Element found at index 2\n"
     ]
    }
   ],
   "source": [
    "# recursive Approach\n",
    "def binary_search_recursive(arr, low, high, target):\n",
    "    if low > high:\n",
    "        return -1  # Target not found\n",
    "\n",
    "    mid = (low + high) // 2\n",
    "\n",
    "    if arr[mid] == target:# Target found\n",
    "        return mid\n",
    "    elif arr[mid] < target:# Target is in the right half\n",
    "        return binary_search_recursive(arr, mid + 1, high, target)\n",
    "    else:\n",
    "        return binary_search_recursive(arr, low, mid - 1, target)\n",
    "\n",
    "# Example usage\n",
    "arr = [10, 20, 30, 40, 50]\n",
    "target = 30\n",
    "result = binary_search_recursive(arr, 0, len(arr) - 1, target)# Start with low=0 and high=len(arr)-1\n",
    "\n",
    "if result != -1:# Target found\n",
    "    print(f\"Element found at index {result}\")\n",
    "else:\n",
    "    print(\"Element not found\")\n"
   ]
  },
  {
   "cell_type": "markdown",
   "metadata": {},
   "source": [
    "Pseudocode"
   ]
  },
  {
   "cell_type": "markdown",
   "metadata": {},
   "source": [
    "BEGIN BINARY_SEARCH_RECURSIVE(arr, low, high, target)\n",
    "\n",
    "    INPUT: arr (sorted list), low (starting index), high (ending index), target (search element)\n",
    "\n",
    "    OUTPUT: index of target if found, otherwise -1\n",
    "\n",
    "    IF low > high THEN\n",
    "        RETURN -1  // Target not found\n",
    "\n",
    "    ENDIF\n",
    "\n",
    "    mid ← (low + high) / 2  // Find middle index\n",
    "\n",
    "    IF arr[mid] = target THEN\n",
    "\n",
    "        RETURN mid  // Target found\n",
    "\n",
    "    ELSE IF arr[mid] < target THEN\n",
    "\n",
    "        RETURN BINARY_SEARCH_RECURSIVE(arr, mid + 1, high, target)  // Search right half\n",
    "\n",
    "    ELSE\n",
    "\n",
    "        RETURN BINARY_SEARCH_RECURSIVE(arr, low, mid - 1, target)  // Search left half\n",
    "\n",
    "    ENDIF\n",
    "\n",
    "END BINARY_SEARCH_RECURSIVE\n",
    "\n",
    "BEGIN MAIN\n",
    "\n",
    "    INPUT: arr ← [10, 20, 30, 40, 50], target ← 30\n",
    "\n",
    "    result ← BINARY_SEARCH_RECURSIVE(arr, 0, length \n",
    "    of arr - 1, target)\n",
    "\n",
    "    IF result ≠ -1 THEN\n",
    "\n",
    "        OUTPUT: \"Element found at index\", result\n",
    "\n",
    "    ELSE\n",
    "\n",
    "        OUTPUT: \"Element not found\"\n",
    "\n",
    "    ENDIF\n",
    "    \n",
    "END MAIN\n"
   ]
  },
  {
   "cell_type": "markdown",
   "metadata": {},
   "source": [
    "# Sorting Algorithms"
   ]
  },
  {
   "cell_type": "markdown",
   "metadata": {},
   "source": [
    "A sorting algorithm is one the used to rearrange a given array or list of elements in an order."
   ]
  },
  {
   "cell_type": "markdown",
   "metadata": {},
   "source": [
    " Bubble Sort"
   ]
  },
  {
   "cell_type": "markdown",
   "metadata": {},
   "source": [
    "- This refers to an algorithm that compares two adjacent elements and swaps them until they are in the intended order."
   ]
  },
  {
   "cell_type": "markdown",
   "metadata": {},
   "source": [
    "Complexity Analysis for Bubble Sort \n",
    "\n",
    "Time Complexity\n",
    "\n",
    "Best Case (O(n))\n",
    "- This occurs when the array is already sorted.\n",
    "- The algorithm performs only n - 1 comparisons and no swaps.\n",
    "\n",
    "Average Case (Θ(n²))\n",
    "- This occurs when elements are in random order.\n",
    "- Each element is compared with every other element in the worst scenario\n",
    "\n",
    "Worst Case (O(n²))\n",
    "- This occurs when the array is sorted in reverse order.\n",
    "- The algorithm makes the maximum number of comparisons and swaps.\n"
   ]
  },
  {
   "cell_type": "markdown",
   "metadata": {},
   "source": [
    "Advantages\n",
    "- Bubble sort is easy to understand and requires minimal code.\n",
    "-  Maintains the relative order of equal elements, making it useful when order matters.\n",
    "- Requires only O(1) extra memory, making it space-efficient.\n",
    "- With an optimized version (checking if swaps occurred in a pass), it performs efficiently on nearly sorted data.\n",
    "- Works well for small arrays where simplicity is preferred over efficiency.\n",
    "\n",
    "Disadvantages \n",
    "-  Has an average and worst-case time complexity of O(n²), making it impractical for large datasets.\n",
    "- Even if the list is mostly sorted, the algorithm continues checking, making unnecessary comparisons\n",
    "- It is slower than other sorting algorithms.\n",
    "- Due to its inefficiency, it is rarely used in real-world scenarios except for educational purposes."
   ]
  },
  {
   "cell_type": "code",
   "execution_count": 6,
   "metadata": {},
   "outputs": [
    {
     "name": "stdout",
     "output_type": "stream",
     "text": [
      "Sorted array: [5, 11, 12, 22, 25, 34, 64, 90]\n"
     ]
    }
   ],
   "source": [
    "my_array = [64, 34, 25, 12, 22, 11, 90, 5]# Bubble sort\n",
    "\n",
    "n = len(my_array)# Traverse through all array elements\n",
    "for i in range(n-1):# Last i elements are already in place\n",
    "    for j in range(n-i-1):# Traverse the array from 0 to n-i-1\n",
    "        if my_array[j] > my_array[j+1]:# Swap if the element found is greater\n",
    "            my_array[j], my_array[j+1] = my_array[j+1], my_array[j]# Swap\n",
    "\n",
    "print(\"Sorted array:\", my_array)# Driver code to test above"
   ]
  },
  {
   "cell_type": "markdown",
   "metadata": {},
   "source": [
    "Pseudocode "
   ]
  },
  {
   "cell_type": "markdown",
   "metadata": {},
   "source": [
    "BEGIN BUBBLE_SORT(arr)\n",
    "\n",
    "    INPUT: arr (list of numbers)\n",
    "\n",
    "    OUTPUT: sorted list (in-place sorting)\n",
    "\n",
    "    n ← length of arr  // Get the size of the array\n",
    "\n",
    "    FOR i FROM 0 TO n - 2 DO  // Last i elements are already sorted\n",
    "\n",
    "        FOR j FROM 0 TO n - i - 2 DO  // Traverse unsorted part of the array\n",
    "\n",
    "            IF arr[j] > arr[j + 1] THEN\n",
    "\n",
    "                SWAP arr[j] WITH arr[j + 1]  // Swap adjacent elements if needed\n",
    "\n",
    "            ENDIF\n",
    "\n",
    "        ENDFOR\n",
    "\n",
    "    ENDFOR\n",
    "\n",
    "END BUBBLE_SORT\n",
    "\n",
    "\n",
    "BEGIN MAIN\n",
    "\n",
    "    INPUT: arr ← [64, 34, 25, 12, 22, 11, 90, 5]\n",
    "\n",
    "    CALL BUBBLE_SORT(arr)\n",
    "\n",
    "    OUTPUT: \"Sorted array:\", arr\n",
    "    \n",
    "END MAIN\n"
   ]
  },
  {
   "cell_type": "markdown",
   "metadata": {},
   "source": [
    "Insertion Sort"
   ]
  },
  {
   "cell_type": "markdown",
   "metadata": {},
   "source": [
    "Insertion Sort is a simple and efficient sorting algorithm that builds the sorted list one element at a time. It works similarly to how we arrange playing cards in our hands."
   ]
  },
  {
   "cell_type": "markdown",
   "metadata": {},
   "source": [
    "Complexity Analysis of Insertion sort\n",
    "\n",
    "Time Complexity\n",
    "\n",
    "Best Case (Ω(n))\n",
    "- Occurs when the array is already sorted\n",
    "- The algorithm makes n - 1 comparisons but no swaps and has a Time Complexity: Ω(n)\n",
    "\n",
    "Average Case (Θ(n²))\n",
    "- Occurs when elements are in random order\n",
    "- On average, each element is compared with half of the previous elements.\n",
    "\n",
    "Worst Case (O(n²))\n",
    "- Occurs when the array is sorted in reverse order.\n",
    "- Each element must be compared with all previous elements and moved\n",
    "\n",
    "Space Complexity\n",
    "- Insertion Sort sorts the array in place, using only a constant amount of extra space.\n",
    "- Space Complexity: O(1) (In-place sorting algorithm)\n"
   ]
  },
  {
   "cell_type": "markdown",
   "metadata": {},
   "source": [
    "Advantages \n",
    "- The algorithm is straightforward and requires minimal code.\n",
    "- Performs well for small datasets or when data is almost sorted, with a best-case time complexity of O(n).\n",
    "- Maintains the relative order of equal elements, making it useful for sorting records with multiple keys.\n",
    "- Requires only O(1) extra memory, making it space-efficient.\n",
    "- The algorithm performs better when the input is partially sorted, reducing unnecessary comparisons and swaps.\n",
    "\n",
    "\n",
    "Disdvantages \n",
    "- Has a worst-case and average-case time complexity of O(n²), making it slow for large datasets.\n",
    "- If the data is in reverse order, it requires maximum comparisons and shifts.\n",
    "- Algorithms like Merge Sort (O(n log n)) or Quick Sort (O(n log n)) outperform Insertion Sort on larger inputs\n",
    "- Due to its quadratic time complexity, it is not ideal for big datasets.\n"
   ]
  },
  {
   "cell_type": "code",
   "execution_count": 1,
   "metadata": {},
   "outputs": [
    {
     "name": "stdout",
     "output_type": "stream",
     "text": [
      "Sorted array: [5, 11, 12, 22, 25, 34, 64, 90]\n"
     ]
    }
   ],
   "source": [
    "my_array = [64, 34, 25, 12, 22, 11, 90, 5]\n",
    "\n",
    "n = len(my_array)# Traverse through all array elements\n",
    "for i in range(1,n):# Traverse the array from 1 to n\n",
    "    insert_index = i# Move elements of my_array[0..i-1], that are greater than current_value, to one position ahead of their current position\n",
    "    current_value = my_array.pop(i)# Store the current value to be placed at the correct position\n",
    "    for j in range(i-1, -1, -1):# Move elements of my_array[0..i-1], that are greater than current_value, to one position ahead of their current position\n",
    "        if my_array[j] > current_value:# Move elements of my_array[0..i-1], that are greater than current_value, to one position ahead of their current position\n",
    "            insert_index = j# Move elements of my_array[0..i-1], that are greater than current_value, to one position ahead of their current position\n",
    "    my_array.insert(insert_index, current_value)\n",
    "\n",
    "print(\"Sorted array:\", my_array)\n"
   ]
  },
  {
   "cell_type": "markdown",
   "metadata": {},
   "source": [
    "Pseudocode"
   ]
  },
  {
   "cell_type": "markdown",
   "metadata": {},
   "source": [
    "BEGIN INSERTION_SORT(arr)\n",
    "\n",
    "    INPUT: arr (list of numbers)\n",
    "\n",
    "    OUTPUT: sorted list (in-place sorting)\n",
    "\n",
    "    n ← length of arr  // Get the size of the array\n",
    "\n",
    "    FOR i FROM 1 TO n - 1 DO\n",
    "\n",
    "        insert_index ← i  // Set initial insertion index\n",
    "\n",
    "        current_value ← REMOVE arr[i]  // Store the current value and remove it from the array\n",
    "\n",
    "        FOR j FROM i - 1 DOWNTO 0 DO\n",
    "\n",
    "            IF arr[j] > current_value THEN\n",
    "\n",
    "                insert_index ← j  // Update insert_index if a larger element is found\n",
    "\n",
    "            ENDIF\n",
    "\n",
    "        ENDFOR\n",
    "\n",
    "        INSERT current_value AT arr[insert_index]  // Insert current_value at the correct position\n",
    "\n",
    "    ENDFOR\n",
    "\n",
    "END INSERTION_SORT\n",
    "\n",
    "\n",
    "BEGIN MAIN\n",
    "\n",
    "    INPUT: arr ← [64, 34, 25, 12, 22, 11, 90, 5]\n",
    "\n",
    "    CALL INSERTION_SORT(arr)\n",
    "\n",
    "    OUTPUT: \"Sorted array:\", arr\n",
    "    \n",
    "END MAIN\n"
   ]
  },
  {
   "cell_type": "markdown",
   "metadata": {},
   "source": [
    "Selection Sort\n",
    "\n"
   ]
  },
  {
   "cell_type": "markdown",
   "metadata": {},
   "source": [
    "- Selection Sort is a simple comparison-based sorting algorithm. It works by repeatedly selecting the smallest (or largest) element from the unsorted portion of the list and moving it to its correct position."
   ]
  },
  {
   "cell_type": "markdown",
   "metadata": {},
   "source": [
    "Complexity Analysis of Selection\n",
    "- Best Case (Already Sorted),The algorithm still goes through all elements to find the minimum element, even if the array is already sorted.The number of comparisons remains the same.(n−1)+(n−2)+...+1= \n",
    "2\n",
    "n(n−1)\n",
    "​\n",
    "-iTs time complexity is  \n",
    "𝑂\n",
    "(\n",
    "𝑛\n",
    "2\n",
    ")\n",
    "O(n \n",
    "2\n",
    " )\n",
    "\n",
    "Worst Case(Reverse Sorted)\n",
    "- The algorithm performs the same number of comparisons as in the best case. However, it performs the maximum number of swaps (one per iteration).\n",
    "- It has Time complexity of O(n \n",
    "2\n",
    " )\n",
    "Average Case(Random Order)\n",
    "- The number of comparisons remains the same as in both best and worst cases. On average, the number of swaps is also \n",
    "𝑂\n",
    "(\n",
    "𝑛\n",
    ")\n",
    "O(n).\n",
    "- It has a time complexity of  \n",
    "𝑂\n",
    "(\n",
    "𝑛\n",
    "2\n",
    ")\n",
    "O(n \n",
    "2\n",
    " ) \n",
    "\n",
    "Space complexity\n",
    "- Selection Sort is an in-place sorting algorithm, meaning it does not require additional memory apart from a few auxiliary variables.\n",
    "- It's complexity is O(1)\n",
    "\n",
    "Advantages \n",
    "- The algorithm is straightforward and easy to understand, making it a good choice for teaching sorting concepts.\n",
    "- Due to its simplicity, it can be useful for sorting small datasets where performance is not a critical concern.\n",
    "- It uses minimal swaps which makes it useful in situations where swapping elements is expensive.\n",
    "- Unlike some sorting algorithms (e.g., Bubble Sort), Selection Sort always performs \n",
    "𝑂\n",
    "(\n",
    "𝑛\n",
    "2\n",
    ")\n",
    "O(n \n",
    "2\n",
    " ) comparisons regardless of the input order.\n",
    "\n",
    "Disadvantages \n",
    "- It has poor time complexity which makes it inefficient for large datasets compared to algorithms like Merge Sort (\n",
    "𝑂\n",
    "(\n",
    "𝑛\n",
    "log\n",
    "⁡\n",
    "𝑛\n",
    ")\n",
    "O(nlogn)) or Quick Sort (\n",
    "𝑂\n",
    "(\n",
    "𝑛\n",
    "log\n",
    "⁡\n",
    "𝑛\n",
    ")\n",
    "O(nlogn) on average).\n",
    "- It is not a stable sort because swapping distant elements can change the relative order of equal elements\n",
    "- Regardless of the initial order of elements, it always performs \n",
    "𝑂\n",
    "(\n",
    "𝑛\n",
    "2\n",
    ")\n",
    "O(n \n",
    "2\n",
    " ) comparisons, even if the array is already sorted.\n",
    "- "
   ]
  },
  {
   "cell_type": "code",
   "execution_count": 8,
   "metadata": {},
   "outputs": [
    {
     "name": "stdout",
     "output_type": "stream",
     "text": [
      "Sorted array: [11, 12, 22, 25, 64]\n"
     ]
    }
   ],
   "source": [
    "def selection_sort(arr):\n",
    "    n = len(arr)# Traverse through all array elements\n",
    "    for i in range(n):# Find the minimum element in the remaining unsorted array\n",
    "        min_index = i  # Assume the first element is the minimum\n",
    "        for j in range(i + 1, n):# Traverse the array from i+1 to n\n",
    "            if arr[j] < arr[min_index]:  # Find the smallest element\n",
    "                min_index = j# Swap the found minimum element with the first element\n",
    "        \n",
    "        arr[i], arr[min_index] = arr[min_index], arr[i]  # Swap\n",
    "\n",
    "# Example usage\n",
    "arr = [64, 25, 12, 22, 11]\n",
    "selection_sort(arr)\n",
    "print(\"Sorted array:\", arr)\n"
   ]
  },
  {
   "cell_type": "markdown",
   "metadata": {},
   "source": [
    "Pseudocode "
   ]
  },
  {
   "cell_type": "markdown",
   "metadata": {},
   "source": [
    "BEGIN SELECTION_SORT(arr)\n",
    "\n",
    "    INPUT: arr (list of numbers)\n",
    "\n",
    "    OUTPUT: sorted list (in-place sorting)\n",
    "\n",
    "    n ← length of arr  // Get the size of the array\n",
    "\n",
    "    FOR i FROM 0 TO n - 1 DO\n",
    "\n",
    "        min_index ← i  // Assume the first element is the minimum\n",
    "\n",
    "        FOR j FROM i + 1 TO n - 1 DO\n",
    "\n",
    "            IF arr[j] < arr[min_index] THEN\n",
    "\n",
    "                min_index ← j  // Update min_index if a smaller element is found\n",
    "\n",
    "            ENDIF\n",
    "\n",
    "        ENDFOR\n",
    "\n",
    "        SWAP arr[i] WITH arr[min_index]  // Swap the found minimum with the first element of the unsorted part\n",
    "\n",
    "    ENDFOR\n",
    "\n",
    "END SELECTION_SORT\n",
    "\n",
    "\n",
    "BEGIN MAIN\n",
    "\n",
    "    INPUT: arr ← [64, 25, 12, 22, 11]\n",
    "\n",
    "    CALL SELECTION_SORT(arr)\n",
    "\n",
    "    OUTPUT: \"Sorted array:\", arr\n",
    "    \n",
    "END MAIN\n"
   ]
  },
  {
   "cell_type": "markdown",
   "metadata": {},
   "source": [
    "Quicksort"
   ]
  },
  {
   "cell_type": "code",
   "execution_count": null,
   "metadata": {},
   "outputs": [],
   "source": []
  },
  {
   "cell_type": "markdown",
   "metadata": {},
   "source": [
    "- Quicksort is a divide-and-conquer sorting algorithm that efficiently sorts an array by partitioning it into two halves and recursively sorting them. It is one of the fastest sorting algorithms in practice."
   ]
  },
  {
   "cell_type": "code",
   "execution_count": 9,
   "metadata": {},
   "outputs": [
    {
     "name": "stdout",
     "output_type": "stream",
     "text": [
      "Sorted array: [5, 11, 12, 22, 25, 34, 64, 90]\n"
     ]
    }
   ],
   "source": [
    "def partition(array, low, high):# This function takes the last element as pivot, places the pivot element at its correct position in the sorted array, and places all smaller (smaller than pivot) to the left of the pivot and all greater elements to the right of the pivot\n",
    "    pivot = array[high]# Index of smaller element\n",
    "    i = low - 1# Traverse through all array elements\n",
    "\n",
    "    for j in range(low, high):# If the current element is smaller than the pivot\n",
    "        if array[j] <= pivot:# Increment index of smaller element\n",
    "            i += 1\n",
    "            array[i], array[j] = array[j], array[i]# Swap\n",
    "\n",
    "    array[i+1], array[high] = array[high], array[i+1]# Swap\n",
    "    return i+1# Return the partitioning index\n",
    "\n",
    "def quicksort(array, low=0, high=None):# The main function that implements QuickSort\n",
    "    if high is None:# Set the default value of high\n",
    "        high = len(array) - 1# Check if the low and high are valid\n",
    "\n",
    "    if low < high:# pi is partitioning index, array[p] is now at right place\n",
    "        pivot_index = partition(array, low, high)# Separately sort elements before partition and after partition\n",
    "        quicksort(array, low, pivot_index-1)# Separately sort elements before partition and after partition\n",
    "        quicksort(array, pivot_index+1, high)# Driver code to test above\n",
    "\n",
    "my_array = [64, 34, 25, 12, 22, 11, 90, 5]\n",
    "quicksort(my_array)\n",
    "print(\"Sorted array:\", my_array)\n"
   ]
  },
  {
   "cell_type": "markdown",
   "metadata": {},
   "source": [
    "complexity Analysis of Quick Sort\n",
    "- Best case:(Ω(n log n)), this occurs when the pivot element divides the array into two equal halves.\n",
    "- Average Case:(0(nlogn)), This occurs when the pivot divides the array into two parts, but not necessarily equal.\n",
    "- Worst Case:(O(n²)), This occurs when the smallest or largest element is always chosen as the pivot.\n",
    "- Auxiliary Space:O(n), this occurs due to the recurssive call stack."
   ]
  },
  {
   "cell_type": "markdown",
   "metadata": {},
   "source": [
    "Advantages\n",
    "-  It is a divide-and-conquer algorthm that makes it easier to solve problems.\n",
    "- It is efficient on large data sets.\n",
    "- It has a low overhead, as it only requires a small amount of memory to function\n",
    "\n",
    "Disadvantages\n",
    "- It has a worst-case time complexity of O(n2), which occurs when the pivot is chosen poorly.\n",
    "- It is not a good choice for small data sets\n"
   ]
  },
  {
   "cell_type": "markdown",
   "metadata": {},
   "source": [
    "Pseudocode "
   ]
  },
  {
   "cell_type": "markdown",
   "metadata": {},
   "source": [
    "BEGIN PARTITION(array, low, high)\n",
    "\n",
    "    INPUT: array (list of numbers), low (starting \n",
    "    index), high (ending index)\n",
    "\n",
    "    OUTPUT: partition index\n",
    "\n",
    "    pivot ← array[high]  // Choose the last element as the pivot\n",
    "\n",
    "    i ← low - 1  // Index of smaller element\n",
    "\n",
    "    FOR j FROM low TO high - 1 DO\n",
    "\n",
    "        IF array[j] ≤ pivot THEN\n",
    "\n",
    "            i ← i + 1\n",
    "\n",
    "            SWAP array[i] WITH array[j]  // Swap \n",
    "            smaller element with the current element\n",
    "\n",
    "        ENDIF\n",
    "\n",
    "    ENDFOR\n",
    "\n",
    "    SWAP array[i + 1] WITH array[high]  // Place pivot at the correct position\n",
    "\n",
    "    RETURN i + 1  // Return the partition index\n",
    "\n",
    "END PARTITION\n",
    "\n",
    "\n",
    "BEGIN QUICKSORT(array, low, high)\n",
    "\n",
    "    INPUT: array (list of numbers), low (starting index), high (ending index)\n",
    "\n",
    "    OUTPUT: sorted list (in-place sorting)\n",
    "\n",
    "    IF high IS NULL THEN\n",
    "\n",
    "        high ← length of array - 1  // Set default value of high\n",
    "\n",
    "    ENDIF\n",
    "\n",
    "    IF low < high THEN\n",
    "\n",
    "        pivot_index ← PARTITION(array, low, high)  // Get partition index\n",
    "\n",
    "        QUICKSORT(array, low, pivot_index - 1)  // Recursively sort left half\n",
    "\n",
    "        QUICKSORT(array, pivot_index + 1, high)  // Recursively sort right half\n",
    "\n",
    "    ENDIF\n",
    "\n",
    "END QUICKSORT\n",
    "\n",
    "BEGIN MAIN\n",
    "    INPUT: my_array ← [64, 34, 25, 12, 22, 11, 90, 5]\n",
    "\n",
    "    CALL QUICKSORT(my_array, 0, NULL)\n",
    "\n",
    "    OUTPUT: \"Sorted array:\", my_array\n",
    "    \n",
    "END MAIN\n"
   ]
  },
  {
   "cell_type": "markdown",
   "metadata": {},
   "source": [
    "Mergesort"
   ]
  },
  {
   "cell_type": "markdown",
   "metadata": {},
   "source": [
    "- Merge Sort is a divide-and-conquer sorting algorithm that splits an array into smaller subarrays, sorts them, and then merges them back together. It is particularly efficient for large datasets and maintains stability.\n",
    "\n"
   ]
  },
  {
   "cell_type": "markdown",
   "metadata": {},
   "source": [
    "Complexity Analysis of Merge sort\n",
    "\n",
    "Time complexity\n",
    "\n",
    "Best Case (Ω(n log n))\n",
    "- This occurs when the array is already sorted.\n",
    "- The algorithm still divides the array and merges it back, leading to Ω(n log n) complexity\n",
    "\n",
    "Average Case (Θ(n log n))\n",
    "- Occurs when elements are in random order\n",
    "- The array is divided into halves until individual elements remain, and merging takes O(n) time at each level\n",
    "- Since there are log n levels (due to repeated division), the total time complexity is Θ(n log n).\n",
    "\n",
    "Worst Case (O(n log n))\n",
    "- Occurs when the array is sorted in reverse order.\n",
    "- The algorithm follows the same divide and merge process, leading to O(n log n) complexity.\n",
    "\n",
    "Space Complexity\n",
    "- Merge Sort requires additional memory for merging subarrays, making it not in-place.\n",
    "- It has space complexity of  O(n) (due to the auxiliary arrays used for merging).\n",
    "\n",
    "\n",
    "\n",
    "\n",
    "\n",
    "\n"
   ]
  },
  {
   "cell_type": "markdown",
   "metadata": {},
   "source": [
    "Advantages \n",
    "- Merge Sort consistently performs in O(n log n) time, making it much faster than O(n²) sorting algorithms like Bubble Sort and Insertion Sort.\n",
    "- Maintains the relative order of equal elements, which is useful in applications where order matters\n",
    "- Merge Sort always runs in O(n log n) time.\n",
    "- Since linked lists can efficiently merge without extra memory, Merge Sort is often the preferred sorting algorithm for them\n",
    "- The divide-and-conquer approach allows for easy parallel processing.\n",
    "\n",
    "Disadvantages \n",
    "- Merge Sort is not an in-place sorting algorithm since it requires additional space for merging subarrays.\n",
    "- Due to recursion overhead, Merge Sort is often outperformed by simpler algorithms like Insertion Sort for small datasets.\n",
    "- Compared to simpler sorting algorithms like Bubble Sort or Insertion Sort, Merge Sort requires a more complex implementation.\n",
    "- Unlike Insertion Sort, which runs in O(n) for nearly sorted arrays, Merge Sort does not take advantage of pre-sorted data.\n"
   ]
  },
  {
   "cell_type": "code",
   "execution_count": 2,
   "metadata": {},
   "outputs": [
    {
     "name": "stdout",
     "output_type": "stream",
     "text": [
      "Sorted Array: [3, 9, 10, 27, 38, 43, 82]\n"
     ]
    }
   ],
   "source": [
    "def merge_sort(arr):\n",
    "    if len(arr) <= 1:\n",
    "        return arr  # Base case: Already sorted\n",
    "\n",
    "    # Split the array into two halves\n",
    "    mid = len(arr) // 2# Recursively sort each half\n",
    "    left_half = merge_sort(arr[:mid])\n",
    "    right_half = merge_sort(arr[mid:])\n",
    "\n",
    "    # Merge the sorted halves\n",
    "    return merge(left_half, right_half)\n",
    "\n",
    "def merge(left, right):\n",
    "    sorted_array = []\n",
    "    i = j = 0\n",
    "\n",
    "    # Compare elements and merge them in sorted order\n",
    "    while i < len(left) and j < len(right):\n",
    "        if left[i] < right[j]:\n",
    "            sorted_array.append(left[i])\n",
    "            i += 1\n",
    "        else:\n",
    "            sorted_array.append(right[j])\n",
    "            j += 1\n",
    "\n",
    "    # Add any remaining elements\n",
    "    sorted_array.extend(left[i:])\n",
    "    sorted_array.extend(right[j:])\n",
    "\n",
    "    return sorted_array\n",
    "\n",
    "# Example usage\n",
    "arr = [38, 27, 43, 3, 9, 82, 10]\n",
    "sorted_arr = merge_sort(arr)\n",
    "print(\"Sorted Array:\", sorted_arr)\n"
   ]
  },
  {
   "cell_type": "markdown",
   "metadata": {},
   "source": [
    "Pseudocode \n",
    "\n",
    "BEGIN MERGE_SORT(arr)\n",
    "\n",
    "    INPUT: arr (list of numbers)\n",
    "\n",
    "    OUTPUT: sorted list\n",
    "\n",
    "    IF length of arr ≤ 1 THEN\n",
    "\n",
    "        RETURN arr  // Base case: Already sorted\n",
    "\n",
    "    ENDIF\n",
    "\n",
    "    mid ← length of arr / 2\n",
    "    \n",
    "    left_half ← MERGE_SORT(arr[0 : mid])  // \n",
    "    \n",
    "    Recursively sort left half\n",
    "\n",
    "    right_half ← MERGE_SORT(arr[mid : end])  // \n",
    "\n",
    "    Recursively sort right half\n",
    "\n",
    "    RETURN MERGE(left_half, right_half)  // Merge the sorted halves\n",
    "\n",
    "END MERGE_SORT\n",
    "\n",
    "\n",
    "BEGIN MERGE(left, right)\n",
    "\n",
    "    INPUT: left (sorted list), right (sorted list)\n",
    "\n",
    "    OUTPUT: merged sorted list\n",
    "\n",
    "    sorted_array ← empty list\n",
    "\n",
    "    i ← 0  // Pointer for left half\n",
    "\n",
    "    j ← 0  // Pointer for right half\n",
    "\n",
    "    WHILE i < length of left AND j < length of right DO\n",
    "\n",
    "        IF left[i] < right[j] THEN\n",
    "\n",
    "            Append left[i] to sorted_array\n",
    "\n",
    "            i ← i + 1\n",
    "\n",
    "        ELSE\n",
    "\n",
    "            Append right[j] to sorted_array\n",
    "\n",
    "            j ← j + 1\n",
    "\n",
    "        ENDIF\n",
    "\n",
    "    ENDWHILE\n",
    "\n",
    "    Append remaining elements of left[i:end] to \n",
    "    sorted_array\n",
    "\n",
    "    Append remaining elements of right[j:end] to sorted_array\n",
    "\n",
    "    RETURN sorted_array\n",
    "    \n",
    "END MERGE\n"
   ]
  }
 ],
 "metadata": {
  "kernelspec": {
   "display_name": "Python 3",
   "language": "python",
   "name": "python3"
  },
  "language_info": {
   "codemirror_mode": {
    "name": "ipython",
    "version": 3
   },
   "file_extension": ".py",
   "mimetype": "text/x-python",
   "name": "python",
   "nbconvert_exporter": "python",
   "pygments_lexer": "ipython3",
   "version": "3.12.5"
  }
 },
 "nbformat": 4,
 "nbformat_minor": 2
}
