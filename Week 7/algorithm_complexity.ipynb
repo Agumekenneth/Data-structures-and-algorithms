{
 "cells": [
  {
   "cell_type": "code",
   "execution_count": 1,
   "metadata": {},
   "outputs": [],
   "source": [
    "import warnings\n",
    "warnings.filterwarnings(\"ignore\")"
   ]
  },
  {
   "cell_type": "markdown",
   "metadata": {},
   "source": [
    "QUESTION 3\n"
   ]
  },
  {
   "cell_type": "markdown",
   "metadata": {},
   "source": [
    "## a \n",
    "\n",
    "Algorithm analysis is the process of evaluating the performance of an algorithm in terms of time complexity and space complexity.\n",
    "\n",
    "algorithm analysis is performed in away which invloves ;\n",
    "\n",
    "asymptotic analysis which is the analysis of behaviour of an algorithm as input size increases\n",
    "\n",
    "experimental analysis involves running an algorithm on a set of inputs and measures its performance\n",
    "\n",
    "worst case analysis analyzez how an algorithm performs when given the worst possible input.\n",
    "\n",
    "## b questions algorithm analysis answers\n",
    "\n",
    "how does algorithm perform when input size increases\n",
    "\n",
    "the worst case scenario or space usage\n",
    "\n",
    "is algorithm efficient in terms of time and usage\n",
    "\n",
    "how does algorithm compare to other algorithms for same task\n",
    "\n",
    "\n",
    "\n"
   ]
  },
  {
   "cell_type": "markdown",
   "metadata": {},
   "source": [
    "## correctness effectiveness and termination\n",
    "\n",
    "correctness means the algorithm always produces the expected output for valid inputs\n",
    "\n",
    "termination means it will always finish executing in a finite number of steps not run indefinitely\n",
    "\n",
    "effectiveness means how well the algorithm performs its intended tasks considering both correctness and efficiency"
   ]
  },
  {
   "cell_type": "markdown",
   "metadata": {},
   "source": [
    "## c time complexity\n",
    "\n",
    "time complexity refers to how long an algorithm takes to execute based on its input size.\n",
    "\n",
    "it is analyzed by counting the number of loops and operations within an algorithm. its is categorized by using the big (O)notation. examples of the big (O) include\n",
    "\n",
    " O(1) which is consant time which is the most efficient algorithms include greedy\n",
    "\n",
    " O(n) which is linear time it runs according to the input size its given algorithms used include greedy\n",
    "\n",
    " O(log n)which is the logarithimic time  algorithms include greedy algorithms\n",
    "\n",
    " O(nlog n) which is log linear time alhorithms used here include sorting,binary and divide and conquer\n",
    "\n",
    " O(2^n)which is exponential time  and increaeses as the input size increases\n",
    "\n",
    " O(n!) factorial time  which grwos in a factorial way based on size of input data \n",
    "\n",
    " in terms of efficiency from the fastest to the slowest O(1)>O(log n)>O(n)>O(n log n)>O(n^2)>O(2^n)"
   ]
  },
  {
   "cell_type": "markdown",
   "metadata": {},
   "source": [
    "## d space complexity\n",
    "\n",
    "is the amount of space an algorithm takes to finish or solve a task. it includes space for input values\n",
    "\n",
    "factors  the affect the space complexity include population size(input size) and the problem size ,if the problem to be solved is big more space is needed\n",
    "\n",
    "interms of space the most efficient algorithm complex is the O(1)>O(log n)>O(n)>(n log n)>O(n^2)>O(2^n)"
   ]
  }
 ],
 "metadata": {
  "kernelspec": {
   "display_name": "Python 3",
   "language": "python",
   "name": "python3"
  },
  "language_info": {
   "codemirror_mode": {
    "name": "ipython",
    "version": 3
   },
   "file_extension": ".py",
   "mimetype": "text/x-python",
   "name": "python",
   "nbconvert_exporter": "python",
   "pygments_lexer": "ipython3",
   "version": "3.12.5"
  }
 },
 "nbformat": 4,
 "nbformat_minor": 2
}
