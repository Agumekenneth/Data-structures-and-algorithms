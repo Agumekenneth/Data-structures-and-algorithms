{
 "cells": [
  {
   "cell_type": "code",
   "execution_count": 1,
   "metadata": {},
   "outputs": [],
   "source": [
    "import warnings\n",
    "warnings.filterwarnings(\"ignore\")"
   ]
  },
  {
   "cell_type": "markdown",
   "metadata": {},
   "source": [
    "QUESTION 3\n"
   ]
  },
  {
   "cell_type": "markdown",
   "metadata": {},
   "source": [
    "## a \n",
    "\n",
    "Algorithm analysis is the process of evaluating the performance of an algorithm in terms of time complexity and space complexity.\n",
    "\n",
    "algorithm analysis is performed in away which invloves ;\n",
    "\n",
    "asymptotic analysis which is the analysis of behaviour of an algorithm as input size increases\n",
    "\n",
    "experimental analysis involves running an algorithm on a set of inputs and measures its performance\n",
    "\n",
    "worst case analysis analyzez how an algorithm performs when given the worst possible input.\n",
    "\n",
    "## b questions algorithm analysis answers\n",
    "\n",
    "how does algorithm perform when input size increases\n",
    "\n",
    "the worst case scenario or space usage\n",
    "\n",
    "is algorithm efficient in terms of time and usage\n",
    "\n",
    "how does algorithm compare to other algorithms for same task\n",
    "\n",
    "\n",
    "\n"
   ]
  },
  {
   "cell_type": "markdown",
   "metadata": {},
   "source": [
    "## correctness effectiveness and termination\n",
    "\n",
    "correctness means the algorithm always produces the expected output for valid inputs\n",
    "\n",
    "termination means it will always finish executing in a finite number of steps not run indefinitely\n",
    "\n",
    "effectiveness means how well the algorithm performs its intended tasks considering both correctness and efficiency"
   ]
  },
  {
   "cell_type": "markdown",
   "metadata": {},
   "source": [
    "## c time complexity\n",
    "\n",
    "time complexity refers to how long an algorithm takes to execute based on its input size.\n",
    "\n",
    "it is analyzed by counting the number of loops and operations within an algorithm. its is categorized by using the big (O)notation. examples of the big (O) include\n",
    "\n",
    " O(1) which is consant time which is the most efficient algorithms include greedy\n",
    "\n",
    " O(n) which is linear time it runs according to the input size its given algorithms used include greedy\n",
    "\n",
    " O(log n)which is the logarithimic time  algorithms include greedy algorithms\n",
    "\n",
    " O(nlog n) which is log linear time alhorithms used here include sorting,binary and divide and conquer\n",
    "\n",
    " O(2^n)which is exponential time  and increaeses as the input size increases\n",
    "\n",
    " O(n!) factorial time  which grwos in a factorial way based on size of input data \n",
    "\n",
    " in terms of efficiency from the fastest to the slowest O(1)>O(log n)>O(n)>O(n log n)>O(n^2)>O(2^n)"
   ]
  },
  {
   "cell_type": "markdown",
   "metadata": {},
   "source": [
    "## d space complexity\n",
    "\n",
    "is the amount of space an algorithm takes to finish or solve a task. it includes space for input values\n",
    "\n",
    "factors  the affect the space complexity include population size(input size) and the problem size ,if the problem to be solved is big more space is needed\n",
    "\n",
    "interms of space the most efficient algorithm complex is the O(1)>O(log n)>O(n)>(n log n)>O(n^2)>O(2^n)"
   ]
  },
  {
   "cell_type": "code",
   "execution_count": 2,
   "metadata": {},
   "outputs": [
    {
     "name": "stdout",
     "output_type": "stream",
     "text": [
      "[2, 3, 45, 6, 78]\n"
     ]
    }
   ],
   "source": [
    "#constant time\n",
    "list=[2,3,45,6,78,9]\n",
    "list.pop()\n",
    "print(list)#with no iterations the last element in the list will be removed hence O(1)"
   ]
  },
  {
   "cell_type": "code",
   "execution_count": 3,
   "metadata": {},
   "outputs": [
    {
     "name": "stdout",
     "output_type": "stream",
     "text": [
      "continue\n",
      "continue\n",
      "continue\n",
      "continue\n",
      "continue\n",
      "continue\n",
      "continue\n",
      "continue\n",
      "continue\n",
      "continue\n"
     ]
    }
   ],
   "source": [
    "#LINEAR TIME\n",
    "n=10#given an input size\n",
    "for i in range(1,n+1):\n",
    "    print(\"continue\")#this of O(n) since it has to iterate over a loop and given an input size"
   ]
  },
  {
   "cell_type": "code",
   "execution_count": 4,
   "metadata": {},
   "outputs": [
    {
     "name": "stdout",
     "output_type": "stream",
     "text": [
      "1*1=1\n",
      "1*2=2\n",
      "1*3=3\n",
      "1*4=4\n",
      "1*5=5\n",
      "1*6=6\n",
      "1*7=7\n",
      "1*8=8\n",
      "1*9=9\n",
      "2*1=2\n",
      "2*2=4\n",
      "2*3=6\n",
      "2*4=8\n",
      "2*5=10\n",
      "2*6=12\n",
      "2*7=14\n",
      "2*8=16\n",
      "2*9=18\n",
      "3*1=3\n",
      "3*2=6\n",
      "3*3=9\n",
      "3*4=12\n",
      "3*5=15\n",
      "3*6=18\n",
      "3*7=21\n",
      "3*8=24\n",
      "3*9=27\n",
      "4*1=4\n",
      "4*2=8\n",
      "4*3=12\n",
      "4*4=16\n",
      "4*5=20\n",
      "4*6=24\n",
      "4*7=28\n",
      "4*8=32\n",
      "4*9=36\n",
      "5*1=5\n",
      "5*2=10\n",
      "5*3=15\n",
      "5*4=20\n",
      "5*5=25\n",
      "5*6=30\n",
      "5*7=35\n",
      "5*8=40\n",
      "5*9=45\n",
      "6*1=6\n",
      "6*2=12\n",
      "6*3=18\n",
      "6*4=24\n",
      "6*5=30\n",
      "6*6=36\n",
      "6*7=42\n",
      "6*8=48\n",
      "6*9=54\n",
      "7*1=7\n",
      "7*2=14\n",
      "7*3=21\n",
      "7*4=28\n",
      "7*5=35\n",
      "7*6=42\n",
      "7*7=49\n",
      "7*8=56\n",
      "7*9=63\n",
      "8*1=8\n",
      "8*2=16\n",
      "8*3=24\n",
      "8*4=32\n",
      "8*5=40\n",
      "8*6=48\n",
      "8*7=56\n",
      "8*8=64\n",
      "8*9=72\n",
      "9*1=9\n",
      "9*2=18\n",
      "9*3=27\n",
      "9*4=36\n",
      "9*5=45\n",
      "9*6=54\n",
      "9*7=63\n",
      "9*8=72\n",
      "9*9=81\n"
     ]
    }
   ],
   "source": [
    "#quadratic time\n",
    "for i in range(1,10):\n",
    "    for j in range(1,10):\n",
    "        print(f\"{i}*{j}={i*j}\")\n",
    "        #here we can see that one input value of i will multiple with another in j hence n*n giving us n^2.\n",
    "        #it works with nested loops\n"
   ]
  },
  {
   "cell_type": "code",
   "execution_count": 5,
   "metadata": {},
   "outputs": [
    {
     "name": "stdout",
     "output_type": "stream",
     "text": [
      "logarithimic reduction of N:16\n",
      "algorithimic runtime for reducing N to 1: 1\n",
      "8\n",
      "algorithimic runtime for reducing N to 1: 2\n",
      "4\n",
      "algorithimic runtime for reducing N to 1: 3\n",
      "2\n",
      "algorithimic runtime for reducing N to 1: 4\n"
     ]
    }
   ],
   "source": [
    "#logarithimc time \n",
    "\n",
    "N=16\n",
    "number_of_operations=0\n",
    "print(\"logarithimic reduction of N:\",end=\"\")\n",
    "i=N\n",
    "while(i>1):\n",
    "    print(i,end=\"\")\n",
    "    number_of_operations+=1\n",
    "    i=i//2\n",
    "    print()\n",
    "    print(\"algorithimic runtime for reducing N to 1:\",number_of_operations)\n",
    "    \n",
    "    #(this the same as log base 2 of 16 giving you 4 iterations)\n",
    "    \n"
   ]
  }
 ],
 "metadata": {
  "kernelspec": {
   "display_name": "Python 3",
   "language": "python",
   "name": "python3"
  },
  "language_info": {
   "codemirror_mode": {
    "name": "ipython",
    "version": 3
   },
   "file_extension": ".py",
   "mimetype": "text/x-python",
   "name": "python",
   "nbconvert_exporter": "python",
   "pygments_lexer": "ipython3",
   "version": "3.12.5"
  }
 },
 "nbformat": 4,
 "nbformat_minor": 2
}
