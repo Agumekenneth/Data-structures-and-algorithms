{
 "cells": [
  {
   "cell_type": "code",
   "execution_count": 1,
   "metadata": {},
   "outputs": [
    {
     "name": "stdout",
     "output_type": "stream",
     "text": [
      "Element found at index 2\n"
     ]
    }
   ],
   "source": [
    "#Linear  search\n",
    "def linear_search(arr, target):\n",
    "    for i in range(len(arr)):\n",
    "        if arr[i] == target:\n",
    "            return i  # Return the index where the target is found\n",
    "    return -1  # Return -1 if the target is not found\n",
    "\n",
    "# Example usage\n",
    "arr = [10, 20, 30, 40, 50]\n",
    "target = 30\n",
    "result = linear_search(arr, target)\n",
    "\n",
    "if result != -1:\n",
    "    print(f\"Element found at index {result}\")\n",
    "else:\n",
    "    print(\"Element not found\")\n"
   ]
  },
  {
   "cell_type": "code",
   "execution_count": 2,
   "metadata": {},
   "outputs": [
    {
     "name": "stdout",
     "output_type": "stream",
     "text": [
      "Element found at index 2\n"
     ]
    }
   ],
   "source": [
    "#Binary search\n",
    "# recursive Approach\n",
    "def binary_search_recursive(arr, low, high, target):\n",
    "    if low > high:\n",
    "        return -1  # Target not found\n",
    "\n",
    "    mid = (low + high) // 2\n",
    "\n",
    "    if arr[mid] == target:# Target found\n",
    "        return mid\n",
    "    elif arr[mid] < target:# Target is in the right half\n",
    "        return binary_search_recursive(arr, mid + 1, high, target)\n",
    "    else:\n",
    "        return binary_search_recursive(arr, low, mid - 1, target)\n",
    "\n",
    "# Example usage\n",
    "arr = [10, 20, 30, 40, 50]\n",
    "target = 30\n",
    "result = binary_search_recursive(arr, 0, len(arr) - 1, target)# Start with low=0 and high=len(arr)-1\n",
    "\n",
    "if result != -1:# Target found\n",
    "    print(f\"Element found at index {result}\")\n",
    "else:\n",
    "    print(\"Element not found\")\n"
   ]
  },
  {
   "cell_type": "code",
   "execution_count": 3,
   "metadata": {},
   "outputs": [
    {
     "name": "stdout",
     "output_type": "stream",
     "text": [
      "Sorted array: [5, 11, 12, 22, 25, 34, 64, 90]\n"
     ]
    }
   ],
   "source": [
    "#BUBBLE SORT\n",
    "my_array = [64, 34, 25, 12, 22, 11, 90, 5]# Bubble sort\n",
    "\n",
    "n = len(my_array)# Traverse through all array elements\n",
    "for i in range(n-1):# Last i elements are already in place\n",
    "    for j in range(n-i-1):# Traverse the array from 0 to n-i-1\n",
    "        if my_array[j] > my_array[j+1]:# Swap if the element found is greater\n",
    "            my_array[j], my_array[j+1] = my_array[j+1], my_array[j]# Swap\n",
    "\n",
    "print(\"Sorted array:\", my_array)# Driver code to test above"
   ]
  },
  {
   "cell_type": "code",
   "execution_count": 5,
   "metadata": {},
   "outputs": [
    {
     "name": "stdout",
     "output_type": "stream",
     "text": [
      "Sorted array: [5, 11, 12, 22, 25, 34, 64, 90]\n"
     ]
    }
   ],
   "source": [
    "#insertion sort\n",
    "my_array = [64, 34, 25, 12, 22, 11, 90, 5]\n",
    "\n",
    "n = len(my_array)# Traverse through all array elements\n",
    "for i in range(1,n):# Traverse the array from 1 to n\n",
    "    insert_index = i# Move elements of my_array[0..i-1], that are greater than current_value, to one position ahead of their current position\n",
    "    current_value = my_array.pop(i)# Store the current value to be placed at the correct position\n",
    "    for j in range(i-1, -1, -1):# Move elements of my_array[0..i-1], that are greater than current_value, to one position ahead of their current position\n",
    "        if my_array[j] > current_value:# Move elements of my_array[0..i-1], that are greater than current_value, to one position ahead of their current position\n",
    "            insert_index = j# Move elements of my_array[0..i-1], that are greater than current_value, to one position ahead of their current position\n",
    "    my_array.insert(insert_index, current_value)\n",
    "\n",
    "print(\"Sorted array:\", my_array)\n"
   ]
  },
  {
   "cell_type": "code",
   "execution_count": 20,
   "metadata": {},
   "outputs": [
    {
     "name": "stdout",
     "output_type": "stream",
     "text": [
      "the element is at index:7\n"
     ]
    }
   ],
   "source": [
    "def linear_search(arr,target):\n",
    "    for i in range(len(arr)):\n",
    "        if arr[i] ==target:\n",
    "            return i\n",
    "    return -1\n",
    "arr = [23,56,78,23,45,78,90,54]  \n",
    "target = 54\n",
    "result = linear_search(arr, target)  \n",
    "if result != -1:\n",
    "    print(f\"the element is at index:{result}\")\n",
    "else:\n",
    "    print(\"Element not found\")"
   ]
  },
  {
   "cell_type": "code",
   "execution_count": 24,
   "metadata": {},
   "outputs": [
    {
     "name": "stdout",
     "output_type": "stream",
     "text": [
      "Element not found at index6\n"
     ]
    }
   ],
   "source": [
    "def binary_search_recursive(arr,low,high,target):\n",
    "    if low > high:\n",
    "        return -1\n",
    "    mid = (high + low)//2\n",
    "    if arr[mid] == target:\n",
    "        return mid\n",
    "    elif arr[mid] < target:\n",
    "        return binary_search_recursive(arr,mid+1,high,target)\n",
    "    else:\n",
    "        return binary_search_recursive(arr,low,mid-1,target)\n",
    "arr =[12,34,56,78,88,89,90]\n",
    "target = 90\n",
    "result = binary_search_recursive(arr,0, len(arr)-1,target)\n",
    "if result != -1:\n",
    "    print(f\"Element not found at index{result}\")\n",
    "else:\n",
    "    print(\"Element not found\")"
   ]
  },
  {
   "cell_type": "code",
   "execution_count": 43,
   "metadata": {},
   "outputs": [
    {
     "name": "stdout",
     "output_type": "stream",
     "text": [
      "Sorted array: [11, 12, 22, 25, 34, 64, 90]\n"
     ]
    }
   ],
   "source": [
    "arr = [64,34,25,12,22,11,90]\n",
    "n = len(arr)\n",
    "for i in range(n-1):\n",
    "    for j in range(n-1-1):\n",
    "        if arr[j] > arr[j+1]:\n",
    "            arr[j],arr[j+1] = arr[j+1],arr[j]\n",
    "print(\"Sorted array:\",arr)"
   ]
  },
  {
   "cell_type": "code",
   "execution_count": 53,
   "metadata": {},
   "outputs": [
    {
     "name": "stdout",
     "output_type": "stream",
     "text": [
      "Sorted array:  [12, 34, 36, 56, 74, 39]\n"
     ]
    }
   ],
   "source": [
    "arr =[12,34,56,74,36,39]\n",
    "n= len(arr)\n",
    "for i in range(n-1):\n",
    "    for j in range(n-1-1):\n",
    "        if arr[j]> arr[j+1]:\n",
    "            arr[j],arr[j+1]= arr[j+1],arr[j]\n",
    "print(f\"Sorted array: \", arr)"
   ]
  },
  {
   "cell_type": "code",
   "execution_count": 44,
   "metadata": {},
   "outputs": [
    {
     "name": "stdout",
     "output_type": "stream",
     "text": [
      "Sorted array: [2, 12, 34, 56, 78, 89, 90]\n"
     ]
    }
   ],
   "source": [
    "arr = [12,34,56,2,78,89,90]\n",
    "n = len(arr)\n",
    "for i in range(n-1):\n",
    "    for j in range(n-1-1):\n",
    "        if arr[j]> arr[j+1]:\n",
    "            arr[j],arr[j+1]= arr[j+1],arr[j]\n",
    "print(f\"Sorted array:\",arr)"
   ]
  },
  {
   "cell_type": "code",
   "execution_count": 51,
   "metadata": {},
   "outputs": [
    {
     "name": "stdout",
     "output_type": "stream",
     "text": [
      "Element found at index:  1\n"
     ]
    }
   ],
   "source": [
    "def linear_search(arr,target):\n",
    "    for i in range(len(arr)):\n",
    "        if arr[i]==target:\n",
    "            return i\n",
    "    return -1\n",
    "arr=[23,45,56,78,89,98,99,56]\n",
    "target = 45\n",
    "result = linear_search(arr,target)\n",
    "if result != -1:\n",
    "    print(f\"Element found at index: \",result)\n",
    "else:\n",
    "    print(f\"Element not found \")"
   ]
  },
  {
   "cell_type": "code",
   "execution_count": 56,
   "metadata": {},
   "outputs": [
    {
     "name": "stdout",
     "output_type": "stream",
     "text": [
      "Sorted Array: [12, 25, 34, 45, 46, 56, 76, 90, 98]\n"
     ]
    }
   ],
   "source": [
    "# bubble sort\n",
    "arr= [12,45,34,56,76,46,90,98,25]\n",
    "n = len(arr)\n",
    "for i in range(n-1):\n",
    "    for j in range(n-i-1):\n",
    "        if arr[j]>arr[j+1]:\n",
    "            arr[j],arr[j+1]= arr[j+1],arr[j]\n",
    "print(f\"Sorted Array:\",arr)"
   ]
  },
  {
   "cell_type": "code",
   "execution_count": 79,
   "metadata": {},
   "outputs": [
    {
     "name": "stdout",
     "output_type": "stream",
     "text": [
      "Element found at index: 3\n"
     ]
    }
   ],
   "source": [
    "def binary_search(arr, low, high, target):\n",
    "    if low > high:\n",
    "        return -1\n",
    "    mid = (low + high) // 2\n",
    "    if arr[mid] == target:\n",
    "        return mid\n",
    "    elif arr[mid] > target:\n",
    "        return binary_search(arr, low, mid - 1, target)  # Fixed\n",
    "    else:\n",
    "        return binary_search(arr, mid + 1, high, target)  # Fixed\n",
    "\n",
    "array = [12, 34, 45, 56, 67, 77, 88, 89, 90]\n",
    "target = 56\n",
    "result = binary_search(array, 0, len(array) - 1, target)  # Fixed 'arr' to 'array'\n",
    "\n",
    "if result != -1:\n",
    "    print(f\"Element found at index:\", result)\n",
    "else:\n",
    "    print(\"Element not found\")\n"
   ]
  },
  {
   "cell_type": "code",
   "execution_count": 64,
   "metadata": {},
   "outputs": [
    {
     "name": "stdout",
     "output_type": "stream",
     "text": [
      "89\n"
     ]
    }
   ],
   "source": [
    "def fibonacci(n):\n",
    "    if n==0:\n",
    "        return 0\n",
    "    elif n==1:\n",
    "        return 1\n",
    "    else:\n",
    "        return fibonacci(n-1) + fibonacci(n-2)\n",
    "print(fibonacci(11))"
   ]
  },
  {
   "cell_type": "code",
   "execution_count": 68,
   "metadata": {},
   "outputs": [
    {
     "name": "stdout",
     "output_type": "stream",
     "text": [
      "3628800\n"
     ]
    }
   ],
   "source": [
    "def factorial(n):\n",
    "    if n==0:\n",
    "        return 1\n",
    "    else:\n",
    "        return n *factorial(n-1)\n",
    "print(factorial(10))\n"
   ]
  },
  {
   "cell_type": "code",
   "execution_count": 70,
   "metadata": {},
   "outputs": [
    {
     "name": "stdout",
     "output_type": "stream",
     "text": [
      "55\n"
     ]
    }
   ],
   "source": [
    "def sum_natural(n):\n",
    "    if n==0:\n",
    "        return 0\n",
    "    else:\n",
    "        return n + sum_natural(n-1)\n",
    "print(sum_natural(10))"
   ]
  },
  {
   "cell_type": "code",
   "execution_count": 1,
   "metadata": {},
   "outputs": [
    {
     "name": "stdout",
     "output_type": "stream",
     "text": [
      "Sorted array:  [12, 25, 34, 45, 46, 56, 76, 90, 98]\n"
     ]
    }
   ],
   "source": [
    "def selection_sort(arr):\n",
    "    n = len(arr)\n",
    "    for i in range(n):\n",
    "        min_index = i\n",
    "        for j in range(i+1,n):\n",
    "            if arr[j] < arr[min_index]:\n",
    "                min_index = j\n",
    "        arr[i],arr[min_index] = arr[min_index],arr[i]\n",
    "    return arr\n",
    "arr = [12,45,34,56,76,46,90,98,25]\n",
    "result = selection_sort(arr)\n",
    "if result != -1:\n",
    "    print(f\"Sorted array: \",result)"
   ]
  },
  {
   "cell_type": "code",
   "execution_count": 2,
   "metadata": {},
   "outputs": [
    {
     "name": "stdout",
     "output_type": "stream",
     "text": [
      "Sorted array:  [12, 25, 34, 45, 46, 56, 76, 90, 98]\n"
     ]
    }
   ],
   "source": [
    "def insertion_sort(arr):\n",
    "    n = len(arr)\n",
    "    for i in range(1,n):\n",
    "        insert_index = i\n",
    "        current_value = arr.pop(i)\n",
    "        for j in range(i-1,-1,-1):\n",
    "            if arr[j] > current_value:\n",
    "                insert_index = j\n",
    "        arr.insert(insert_index,current_value)\n",
    "    return arr\n",
    "arr = [12,45,34,56,76,46,90,98,25]\n",
    "result = insertion_sort(arr)\n",
    "if result != -1:\n",
    "    print(f\"Sorted array: \",result)"
   ]
  },
  {
   "cell_type": "code",
   "execution_count": null,
   "metadata": {},
   "outputs": [],
   "source": []
  }
 ],
 "metadata": {
  "kernelspec": {
   "display_name": "Python 3",
   "language": "python",
   "name": "python3"
  },
  "language_info": {
   "codemirror_mode": {
    "name": "ipython",
    "version": 3
   },
   "file_extension": ".py",
   "mimetype": "text/x-python",
   "name": "python",
   "nbconvert_exporter": "python",
   "pygments_lexer": "ipython3",
   "version": "3.12.5"
  }
 },
 "nbformat": 4,
 "nbformat_minor": 2
}
