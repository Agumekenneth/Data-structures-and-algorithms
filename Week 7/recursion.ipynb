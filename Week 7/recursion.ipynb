{
 "cells": [
  {
   "cell_type": "markdown",
   "metadata": {},
   "source": [
    "# Recursion\n",
    "- This can be defined as a function  that calls it's self directly or indirectly to solve a problem.\n"
   ]
  },
  {
   "cell_type": "markdown",
   "metadata": {},
   "source": [
    "# Difference between recursion ana iteration "
   ]
  },
  {
   "cell_type": "markdown",
   "metadata": {},
   "source": [
    "- In recursion, a function calls it's self repeatedly until a base condition is met while an iteration  refers to a loop that repeatedly excutes a set of statements until a certain condition is met.\n",
    "- In recursion, function stacks and stack memory's are used while in iteration loops that don't require function calls are used.\n",
    "- It is slow in interms of performance due to function call overhead and stack usage while iterations are generally faster since they avoid fuction calls.\n",
    "- It results into stack overflow if the recursion depth is too high while Iterations have no risk of stack overflow.\n",
    "- It is suitable for problems that have a natural recursive structure while Iterations are preferred for simple loops and problems that can be solved using repeated steps withiut needing backtracking.\n"
   ]
  },
  {
   "cell_type": "markdown",
   "metadata": {},
   "source": [
    "# Key properties of recursive functions\n",
    "- The primary property of a recursive functon is the ability to solve a problem by breaking it into smaller sub-problems which can be solve d in the same way.\n",
    "- A recursive function must have a base case or stopping criteria to avoid infinite recursion.\n",
    "- Recursion involves calling the same function within itself, which leads to a call stack.\n",
    "Recursive functions may be less efficient than iterative solutions in terms of memory and performance.\n"
   ]
  },
  {
   "cell_type": "markdown",
   "metadata": {},
   "source": [
    "# How does recursion utilize memory, and what is the role of the call stack?\n",
    "- Function Call and Stack Frame,Each recursive call creates a new stack frame that stores the function's local variables, parameters, and return address.\n",
    "- Stack Growth,As recursion deepens, new stack frames keep getting added on top of the stack, consuming more memory.\n",
    "- Base Case and Stack Unwinding,When the base case is reached, the function starts returning values, and stack frames are popped off the stack in a last-in, first-out (LIFO) order.\n",
    "- Risk of Stack Overflow,if recursion goes too deep (e.g., due to missing or incorrect base case conditions), the stack may overflow, causing a program crash.\n"
   ]
  },
  {
   "cell_type": "markdown",
   "metadata": {},
   "source": [
    "# Why a base condition is necessary in recursion"
   ]
  },
  {
   "cell_type": "markdown",
   "metadata": {},
   "source": [
    "- By defining a base condition, we ensure that the recursion has a well-defined endpoint and that the function can return the desired result. It helps to prevent infinite loops and allows the recursive function to produce the expected output."
   ]
  },
  {
   "cell_type": "markdown",
   "metadata": {},
   "source": [
    "# What are the advantages and disadvantages of using recursion?"
   ]
  },
  {
   "cell_type": "markdown",
   "metadata": {
    "vscode": {
     "languageId": "markdown"
    }
   },
   "source": [
    "Advantages of using recursion:\n",
    "- Recursive solutions can be more concise and easier to understand for problems with a natural recursive structure.\n",
    "- Recursive solutions can break down complex problems into smaller, more manageable subproblems.\n",
    "- Recursive solutions can be more elegant and intuitive for certain algorithms, such as tree traversal or backtracking.\n",
    "\n",
    "Disadvantages of using recursion:\n",
    "\n",
    "- Recursive solutions can be less efficient in terms of memory and performance compared to iterative solutions.\n",
    "- Recursive solutions may have a higher overhead due to function call stack and memory usage.\n",
    "- Recursive solutions may lead to stack overflow if the recursion depth is too high or if the base case is not properly defined.\n",
    "- Recursive solutions may be harder to debug and analyze due to the complex call stack."
   ]
  },
  {
   "cell_type": "markdown",
   "metadata": {},
   "source": [
    "# When should recursion be used instead of iteration?\n",
    "- When the problem can be divided into smaller subproblems: Recursion is particularly useful when a problem can be divided into smaller subproblems that can be solved in the same way. \n",
    "- When the problem has a natural recursive structure: Some problems are naturally defined in a recursive manner, where the solution can be expressed in terms of smaller subproblems. In such cases, recursion provides a more intuitive and concise solution.\n",
    "- "
   ]
  },
  {
   "cell_type": "markdown",
   "metadata": {
    "vscode": {
     "languageId": "plaintext"
    }
   },
   "source": [
    "# Recursive Problems with Explanations, Code, and Complexity Analysis"
   ]
  },
  {
   "cell_type": "markdown",
   "metadata": {},
   "source": [
    "How is the factorial of a number defined mathematically?\n",
    "- The factorial of a non-negative integer \n",
    "𝑛\n",
    "n, denoted as \n",
    "𝑛\n",
    "!\n",
    "n!, is defined mathematically as:\n",
    "\n",
    "n! = n * (n-1)!\n"
   ]
  },
  {
   "cell_type": "markdown",
   "metadata": {},
   "source": [
    "How can factorial be implemented using recursion?\n"
   ]
  },
  {
   "cell_type": "code",
   "execution_count": 2,
   "metadata": {},
   "outputs": [
    {
     "name": "stdout",
     "output_type": "stream",
     "text": [
      "120\n"
     ]
    }
   ],
   "source": [
    "def factorial(n):\n",
    "    if n == 0:#base case\n",
    "        return 1\n",
    "    return n * factorial(n-1)\n",
    "print(factorial(5))"
   ]
  },
  {
   "cell_type": "markdown",
   "metadata": {},
   "source": [
    "How can factorial be implemented iteratively?\n"
   ]
  },
  {
   "cell_type": "code",
   "execution_count": 4,
   "metadata": {},
   "outputs": [
    {
     "name": "stdout",
     "output_type": "stream",
     "text": [
      "120\n"
     ]
    }
   ],
   "source": [
    "def factorial_iterative(n):\n",
    "    result = 1\n",
    "    for i in range(2, n + 1):  # Loop from 2 to n\n",
    "        result *= i\n",
    "    return result\n",
    "\n",
    "# Example usage\n",
    "print(factorial_iterative(5))  # Output: 120\n",
    "\n",
    "# Initialize result = 1 since multiplying by 1 doesn’t change the value.\n",
    "# Loop through numbers from 2 to n, multiplying each with result.\n",
    "# Return the final computed factorial.\n"
   ]
  },
  {
   "cell_type": "markdown",
   "metadata": {},
   "source": [
    "What is the time complexity of both recursive and iterative implementations?"
   ]
  },
  {
   "cell_type": "markdown",
   "metadata": {},
   "source": [
    "Recursive time implementation\n",
    "- The total time complexity is O(n).\n",
    "- The The recursive approach uses O(n) additional space due to the recursive call stack.\n",
    "\n",
    "Iterative implementation\n",
    "- The total number of iterations is \n",
    "𝑛\n",
    "−\n",
    "1\n",
    "n−1, which simplifies to O(n).\n",
    "- The iterative approach uses O(1) extra space since it only maintains a few variables.This is due to constant space.\n",
    "\n"
   ]
  },
  {
   "cell_type": "markdown",
   "metadata": {},
   "source": [
    "What are the space requirements for the recursive and iterative approaches?"
   ]
  },
  {
   "cell_type": "markdown",
   "metadata": {},
   "source": [
    "Recursive Approach\n",
    "\n",
    "Space Complexity: O(n)\n",
    "- Since each recursive call is added to the call stack, the function requires O(n) space for storing function calls.\n",
    "- This can cause a stack overflow for large values of \n",
    "𝑛\n",
    "n, as the recursion depth is limited.\n",
    "\n",
    "Iterative Approach\n",
    "\n",
    "Space Complexity: O(1)\n",
    "- The iterative method uses only a few variables (result, i), requiring constant space.\n",
    "- Unlike recursion, it does not create additional stack frames, making it more space-efficient\n"
   ]
  },
  {
   "cell_type": "markdown",
   "metadata": {},
   "source": [
    "# Fibonacci Series"
   ]
  },
  {
   "cell_type": "markdown",
   "metadata": {},
   "source": [
    "What is the Fibonacci sequence?\n",
    "- The Fibonacci sequence is a series of numbers where each number is the sum of the two preceding ones, starting from 0 and 1. "
   ]
  },
  {
   "cell_type": "markdown",
   "metadata": {},
   "source": [
    "How can Fibonacci numbers be generated using recursion?"
   ]
  },
  {
   "cell_type": "code",
   "execution_count": 7,
   "metadata": {},
   "outputs": [
    {
     "name": "stdout",
     "output_type": "stream",
     "text": [
      "55\n"
     ]
    }
   ],
   "source": [
    "def fibonacci(n):\n",
    "    if n ==0:# Base case\n",
    "        return 0\n",
    "    elif n == 1:# Base case\n",
    "        return 1\n",
    "    else:\n",
    "        return fibonacci(n-1)  + fibonacci(n-2)\n",
    "print(fibonacci(10))"
   ]
  },
  {
   "cell_type": "markdown",
   "metadata": {},
   "source": [
    "What are the inefficiencies of the naive recursive approach?"
   ]
  }
 ],
 "metadata": {
  "kernelspec": {
   "display_name": "Python 3",
   "language": "python",
   "name": "python3"
  },
  "language_info": {
   "codemirror_mode": {
    "name": "ipython",
    "version": 3
   },
   "file_extension": ".py",
   "mimetype": "text/x-python",
   "name": "python",
   "nbconvert_exporter": "python",
   "pygments_lexer": "ipython3",
   "version": "3.12.5"
  }
 },
 "nbformat": 4,
 "nbformat_minor": 2
}
