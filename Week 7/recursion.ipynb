{
 "cells": [
  {
   "cell_type": "markdown",
   "metadata": {},
   "source": [
    "AGUME KENNETH B30309"
   ]
  },
  {
   "cell_type": "markdown",
   "metadata": {},
   "source": [
    "# Recursion\n",
    "- This can be defined as a function  that calls it's self directly or indirectly to solve a problem.\n"
   ]
  },
  {
   "cell_type": "markdown",
   "metadata": {},
   "source": [
    "# Difference between recursion ana iteration "
   ]
  },
  {
   "cell_type": "markdown",
   "metadata": {},
   "source": [
    "- In recursion, a function calls it's self repeatedly until a base condition is met while an iteration  refers to a loop that repeatedly excutes a set of statements until a certain condition is met.\n",
    "- In recursion, function stacks and stack memory's are used while in iteration loops that don't require function calls are used.\n",
    "- It is slow in interms of performance due to function call overhead and stack usage while iterations are generally faster since they avoid fuction calls.\n",
    "- It results into stack overflow if the recursion depth is too high while Iterations have no risk of stack overflow.\n",
    "- It is suitable for problems that have a natural recursive structure while Iterations are preferred for simple loops and problems that can be solved using repeated steps withiut needing backtracking.\n"
   ]
  },
  {
   "cell_type": "markdown",
   "metadata": {},
   "source": [
    "# Key properties of recursive functions\n",
    "- The primary property of a recursive functon is the ability to solve a problem by breaking it into smaller sub-problems which can be solve d in the same way.\n",
    "- A recursive function must have a base case or stopping criteria to avoid infinite recursion.\n",
    "- Recursion involves calling the same function within itself, which leads to a call stack.\n",
    "Recursive functions may be less efficient than iterative solutions in terms of memory and performance.\n"
   ]
  },
  {
   "cell_type": "markdown",
   "metadata": {},
   "source": [
    "# How does recursion utilize memory, and what is the role of the call stack?\n",
    "- Function Call and Stack Frame,Each recursive call creates a new stack frame that stores the function's local variables, parameters, and return address.\n",
    "- Stack Growth,As recursion deepens, new stack frames keep getting added on top of the stack, consuming more memory.\n",
    "- Base Case and Stack Unwinding,When the base case is reached, the function starts returning values, and stack frames are popped off the stack in a last-in, first-out (LIFO) order.\n",
    "- Risk of Stack Overflow,if recursion goes too deep (e.g., due to missing or incorrect base case conditions), the stack may overflow, causing a program crash.\n"
   ]
  },
  {
   "cell_type": "markdown",
   "metadata": {},
   "source": [
    "# Why a base condition is necessary in recursion"
   ]
  },
  {
   "cell_type": "markdown",
   "metadata": {},
   "source": [
    "- By defining a base condition, we ensure that the recursion has a well-defined endpoint and that the function can return the desired result. It helps to prevent infinite loops and allows the recursive function to produce the expected output."
   ]
  },
  {
   "cell_type": "markdown",
   "metadata": {},
   "source": [
    "# What are the advantages and disadvantages of using recursion?"
   ]
  },
  {
   "cell_type": "markdown",
   "metadata": {},
   "source": [
    "Advantages of using recursion:\n",
    "- Recursive solutions can be more concise and easier to understand for problems with a natural recursive structure.\n",
    "- Recursive solutions can break down complex problems into smaller, more manageable subproblems.\n",
    "- Recursive solutions can be more elegant and intuitive for certain algorithms, such as tree traversal or backtracking.\n",
    "\n",
    "Disadvantages of using recursion:\n",
    "\n",
    "- Recursive solutions can be less efficient in terms of memory and performance compared to iterative solutions.\n",
    "- Recursive solutions may have a higher overhead due to function call stack and memory usage.\n",
    "- Recursive solutions may lead to stack overflow if the recursion depth is too high or if the base case is not properly defined.\n",
    "- Recursive solutions may be harder to debug and analyze due to the complex call stack."
   ]
  },
  {
   "cell_type": "markdown",
   "metadata": {},
   "source": [
    "# When should recursion be used instead of iteration?\n",
    "- When the problem can be divided into smaller subproblems: Recursion is particularly useful when a problem can be divided into smaller subproblems that can be solved in the same way. \n",
    "- When the problem has a natural recursive structure: Some problems are naturally defined in a recursive manner, where the solution can be expressed in terms of smaller subproblems. In such cases, recursion provides a more intuitive and concise solution.\n",
    "- "
   ]
  },
  {
   "cell_type": "markdown",
   "metadata": {
    "vscode": {
     "languageId": "plaintext"
    }
   },
   "source": [
    "# Recursive Problems with Explanations, Code, and Complexity Analysis"
   ]
  },
  {
   "cell_type": "markdown",
   "metadata": {},
   "source": [
    "How is the factorial of a number defined mathematically?\n",
    "- The factorial of a non-negative integer \n",
    "𝑛\n",
    "n, denoted as \n",
    "𝑛\n",
    "!\n",
    "n!, is defined mathematically as:\n",
    "\n",
    "n! = n * (n-1)!\n"
   ]
  },
  {
   "cell_type": "markdown",
   "metadata": {},
   "source": [
    "How can factorial be implemented using recursion?\n"
   ]
  },
  {
   "cell_type": "code",
   "execution_count": 2,
   "metadata": {},
   "outputs": [
    {
     "name": "stdout",
     "output_type": "stream",
     "text": [
      "120\n"
     ]
    }
   ],
   "source": [
    "def factorial(n):\n",
    "    if n == 0:#base case\n",
    "        return 1\n",
    "    return n * factorial(n-1)\n",
    "print(factorial(5))"
   ]
  },
  {
   "cell_type": "markdown",
   "metadata": {},
   "source": [
    "How can factorial be implemented iteratively?\n"
   ]
  },
  {
   "cell_type": "code",
   "execution_count": 4,
   "metadata": {},
   "outputs": [
    {
     "name": "stdout",
     "output_type": "stream",
     "text": [
      "120\n"
     ]
    }
   ],
   "source": [
    "def factorial_iterative(n):\n",
    "    result = 1\n",
    "    for i in range(2, n + 1):  # Loop from 2 to n\n",
    "        result *= i\n",
    "    return result\n",
    "\n",
    "# Example usage\n",
    "print(factorial_iterative(5))  # Output: 120\n",
    "\n",
    "# Initialize result = 1 since multiplying by 1 doesn’t change the value.\n",
    "# Loop through numbers from 2 to n, multiplying each with result.\n",
    "# Return the final computed factorial.\n"
   ]
  },
  {
   "cell_type": "markdown",
   "metadata": {},
   "source": [
    "What is the time complexity of both recursive and iterative implementations?"
   ]
  },
  {
   "cell_type": "markdown",
   "metadata": {},
   "source": [
    "Recursive time implementation\n",
    "- The total time complexity is O(n).\n",
    "- The The recursive approach uses O(n) additional space due to the recursive call stack.\n",
    "\n",
    "Iterative implementation\n",
    "- The total number of iterations is \n",
    "𝑛\n",
    "−\n",
    "1\n",
    "n−1, which simplifies to O(n).\n",
    "- The iterative approach uses O(1) extra space since it only maintains a few variables.This is due to constant space.\n",
    "\n"
   ]
  },
  {
   "cell_type": "markdown",
   "metadata": {},
   "source": [
    "What are the space requirements for the recursive and iterative approaches?"
   ]
  },
  {
   "cell_type": "markdown",
   "metadata": {},
   "source": [
    "Recursive Approach\n",
    "\n",
    "Space Complexity: O(n)\n",
    "- Since each recursive call is added to the call stack, the function requires O(n) space for storing function calls.\n",
    "- This can cause a stack overflow for large values of \n",
    "𝑛\n",
    "n, as the recursion depth is limited.\n",
    "\n",
    "Iterative Approach\n",
    "\n",
    "Space Complexity: O(1)\n",
    "- The iterative method uses only a few variables (result, i), requiring constant space.\n",
    "- Unlike recursion, it does not create additional stack frames, making it more space-efficient\n"
   ]
  },
  {
   "cell_type": "markdown",
   "metadata": {},
   "source": [
    "# Fibonacci Series"
   ]
  },
  {
   "cell_type": "markdown",
   "metadata": {},
   "source": [
    "What is the Fibonacci sequence?\n",
    "- The Fibonacci sequence is a series of numbers where each number is the sum of the two preceding ones, starting from 0 and 1. "
   ]
  },
  {
   "cell_type": "markdown",
   "metadata": {},
   "source": [
    "How can Fibonacci numbers be generated using recursion?"
   ]
  },
  {
   "cell_type": "code",
   "execution_count": 7,
   "metadata": {},
   "outputs": [
    {
     "name": "stdout",
     "output_type": "stream",
     "text": [
      "55\n"
     ]
    }
   ],
   "source": [
    "def fibonacci(n):\n",
    "    if n ==0:# Base case\n",
    "        return 0\n",
    "    elif n == 1:# Base case\n",
    "        return 1\n",
    "    else:\n",
    "        return fibonacci(n-1)  + fibonacci(n-2)\n",
    "print(fibonacci(10))"
   ]
  },
  {
   "cell_type": "markdown",
   "metadata": {},
   "source": [
    "What are the inefficiencies of the naive recursive approach?"
   ]
  },
  {
   "cell_type": "markdown",
   "metadata": {},
   "source": [
    "Exponential Time Complexity(O(2ⁿ))\n",
    "\n",
    "- The function recomputes values multiple times.\n",
    "- Each call to fibonacci(n) recursively calls fibonacci(n-1) and fibonacci(n-2), leading to an exponential number of calls\n",
    "\n",
    "High Memory Usage (Call Stack O(n))\n",
    "- Each recursive call adds a new frame to the call stack, requiring O(n) additional space.\n",
    "Deep which may result into stack overflow for large n\n",
    "\n",
    "Redundant Calculations\n",
    "- Without memoization, values are recomputed instead of stored for reuse which drastically increases the number of function calls.\n"
   ]
  },
  {
   "cell_type": "markdown",
   "metadata": {},
   "source": [
    "How can Fibonacci numbers be computed efficiently using memoization?"
   ]
  },
  {
   "cell_type": "code",
   "execution_count": 9,
   "metadata": {},
   "outputs": [
    {
     "name": "stdout",
     "output_type": "stream",
     "text": [
      "12586269025\n"
     ]
    }
   ],
   "source": [
    "def fibonacci_memo(n, memo={}):\n",
    "    if n in memo:  # Check if value is already computed\n",
    "        return memo[n]\n",
    "    if n <= 1:  # Base cases\n",
    "        return n\n",
    "    memo[n] = fibonacci_memo(n - 1, memo) + fibonacci_memo(n - 2, memo)  # Store result\n",
    "    return memo[n]\n",
    "\n",
    "# Example usage\n",
    "print(fibonacci_memo(50))  # Output: 12586269025 (Fast execution)\n",
    "\n",
    "# Reduces redundant function calls.\n",
    "# Significantly speeds up large Fibonacci computations.\n",
    "# Avoids deep recursion.\n"
   ]
  },
  {
   "cell_type": "markdown",
   "metadata": {},
   "source": [
    "What is the time complexity of the recursive, iterative, and memoized\n",
    "solutions?"
   ]
  },
  {
   "cell_type": "markdown",
   "metadata": {},
   "source": [
    "Recursive Solution\n",
    "\n",
    "Many recursive solutions involve overlapping subproblems, meaning they recompute the same results multiple times.\n",
    "\n",
    "Time Complexity: \n",
    "𝑂\n",
    "(\n",
    "2\n",
    "𝑛\n",
    ")\n",
    "O(2 \n",
    "n\n",
    " )\n",
    "\n",
    "The recursion tree grows exponentially because each call splits into two more calls (except for base cases).\n",
    "\n",
    "Iterative Solution\n",
    "\n",
    "The iterative approach usually avoids redundant calculations by using loops.\n",
    "\n",
    "- Time Complexity: \n",
    "𝑂\n",
    "(\n",
    "𝑛\n",
    ")\n",
    "O(n)\n",
    "\n",
    "For example, in the Fibonacci sequence, an iterative approach calculates each value once in a loop up to \n",
    "𝑛\n",
    "n.\n",
    "\n",
    "Memoized Recursive Solution\n",
    "\n",
    "Memoization stores previously computed results, avoiding redundant calculations.\n",
    "\n",
    "- Time Complexity: \n",
    "𝑂\n",
    "(\n",
    "𝑛\n",
    ")\n",
    "O(n)\n",
    "\n",
    "Since each unique subproblem is computed only once, the total number of computations is proportional to \n",
    "𝑛\n",
    "n.\n"
   ]
  },
  {
   "cell_type": "markdown",
   "metadata": {},
   "source": [
    "# Checking for Palindromes"
   ]
  },
  {
   "cell_type": "markdown",
   "metadata": {},
   "source": [
    "What is a palindrome?"
   ]
  },
  {
   "cell_type": "markdown",
   "metadata": {},
   "source": [
    "A palindrome is a word(string), phrase, number, or sequence that reads the same forward and backward (ignoring spaces, punctuation, and capitalization).\n",
    "\n",
    "Forexample\n",
    "\n",
    "Words: \"madam\", \"racecar\", \"level\"\n",
    "\n",
    "Phrases: \"A man, a plan, a canal, Panama!\"\n",
    "\n",
    "Numbers: 121, 1221, 12321\n",
    "\n",
    "Sequences: [1, 2, 3, 2, 1]\n"
   ]
  },
  {
   "cell_type": "markdown",
   "metadata": {},
   "source": [
    "How can a string be checked for being a palindrome using recursion?"
   ]
  },
  {
   "cell_type": "markdown",
   "metadata": {},
   "source": [
    "A string can be checked for being a palindrome using recursion by comparing its first and last characters and then recursively checking the remaining substring.\n",
    "\n",
    "Recursive Approach:\n",
    "- Base Case:\n",
    "If the string has 0 or 1 characters, it's a palindrome (since an empty string or single character is always a palindrome).\n",
    "\n",
    "Recursive Case:\n",
    "\n",
    "Compare the first and last characters.\n",
    "- If they match, recursively check the substring excluding the first and last characters.\n",
    "- If they don’t match, it's not a palindrome.\n",
    "\n",
    "Time Complexity:\n",
    "- Each recursive call reduces the string length by 2, so there are O(n/2) ≈ O(n) calls.\n",
    "- The time complexity is O(n).\n"
   ]
  },
  {
   "cell_type": "code",
   "execution_count": 10,
   "metadata": {},
   "outputs": [
    {
     "name": "stdout",
     "output_type": "stream",
     "text": [
      "True\n",
      "False\n",
      "True\n"
     ]
    }
   ],
   "source": [
    "def is_palindrome(s):\n",
    "    # Base case: if the string has 0 or 1 characters, it's a palindrome\n",
    "    if len(s) <= 1:\n",
    "        return True\n",
    "    \n",
    "    # Check if first and last characters match\n",
    "    if s[0] != s[-1]:\n",
    "        return False\n",
    "    \n",
    "    # Recursively check the middle substring\n",
    "    return is_palindrome(s[1:-1])\n",
    "\n",
    "# Example usage\n",
    "print(is_palindrome(\"racecar\"))  # Output: True\n",
    "print(is_palindrome(\"hello\"))    # Output: False\n",
    "print(is_palindrome(\"madam\"))    # Output: True\n"
   ]
  },
  {
   "cell_type": "markdown",
   "metadata": {},
   "source": [
    "What is the base condition in a recursive palindrome check?"
   ]
  },
  {
   "cell_type": "markdown",
   "metadata": {},
   "source": [
    "The base condition in a recursive palindrome check is the condition that stops further recursive calls. It ensures that the recursion terminates when it reaches a simple case that can be directly answered.\n",
    "\n",
    "This is done when the string has 0 or 1 characters "
   ]
  },
  {
   "cell_type": "markdown",
   "metadata": {},
   "source": [
    "How can the same problem be solved iteratively?"
   ]
  },
  {
   "cell_type": "markdown",
   "metadata": {},
   "source": [
    "The palindrome check can also be solved iteratively by using two pointers—one starting from the beginning and the other from the end of the string. We compare characters at these positions and move the pointers towards the center.\n",
    "\n",
    "This is done when two pointers are intialized\n"
   ]
  },
  {
   "cell_type": "markdown",
   "metadata": {},
   "source": [
    "What is the time complexity of both approaches?\n",
    "\n"
   ]
  },
  {
   "cell_type": "markdown",
   "metadata": {},
   "source": [
    "The time complexity of both the recursive and iterative palindrome-checking approaches is O(n)\n",
    "\n",
    "Recursive Approach\n",
    "- In each recursive call, we check the first and last characters and then make a recursive call with a smaller substring (s[1:-1]), which reduces the problem size by 2.\n",
    "- The number of recursive calls is O(n/2) ≈ O(n).\n",
    "- Time Complexity: O(n)\n",
    "- Space Complexity: O(n) (due to recursion stack).\n",
    "\n",
    "Iterative Approach\n",
    "- We use two pointers (one from the start and one from the end), moving towards the center.\n",
    "- Each iteration processes two characters, leading to O(n/2) ≈ O(n) iterations.\n",
    "- Time Complexity: O(n)\n",
    "- Space Complexity: O(1) (since we only use a few variables).\n",
    "\n",
    "\n",
    "\n"
   ]
  },
  {
   "cell_type": "markdown",
   "metadata": {},
   "source": [
    "# Memory Usage in Recursion\n"
   ]
  },
  {
   "cell_type": "markdown",
   "metadata": {},
   "source": [
    "How is recursion handled in memory?"
   ]
  },
  {
   "cell_type": "markdown",
   "metadata": {},
   "source": [
    "Recursion is managed using the call stack, a special region in memory that stores function calls, local variables, and return addresses. When a function calls itself recursively, the system pushes a new function frame onto the stack. Once a function completes, its frame is popped off the stack.\n",
    "\n",
    "Steps of Memory Handling in Recursion\n",
    "\n",
    "Function Call (Push to Stack)\n",
    "- Each recursive call allocates new memory for function parameters, local variables, and the return address.\n",
    "\n",
    "Recursive Calls Continue (Stack Grows)\n",
    "- If a function calls itself multiple times (e.g., f(n-1)), new frames keep stacking up until the base condition is met.\n",
    "\n",
    "Base Case is Reached (Stop Recursion)\n",
    "- When the base case is hit, the function starts returning values without making further recursive calls.\n",
    "\n",
    "Function Returns (Pop from Stack)\n",
    "- As each function returns, its stack frame is removed (popped) from the call stack, freeing up memory.\n",
    "\n",
    "Call Stack for is_palindrome(\"racecar\")\n",
    "- Each function waits for the next recursive call to return before it can return itself.\n",
    "Once the base case is hit, the function starts popping off the stack.\n",
    "\n",
    "Space Complexity of Recursion\n",
    "- Each recursive call adds a new frame to the stack, requiring O(n) space for a string of length n.\n",
    "This can lead to stack overflow for very large inputs.\n",
    "Iterative solutions are more memory-efficient since they use O(1) space.\n"
   ]
  },
  {
   "cell_type": "code",
   "execution_count": 11,
   "metadata": {},
   "outputs": [],
   "source": [
    "def is_palindrome(s):\n",
    "    if len(s) <= 1:  # Base case\n",
    "        return True\n",
    "    if s[0] != s[-1]:  # If first and last characters don't match\n",
    "        return False\n",
    "    return is_palindrome(s[1:-1])  # Recursive call with substring\n"
   ]
  },
  {
   "cell_type": "markdown",
   "metadata": {},
   "source": [
    "What happens when too many recursive calls are made?"
   ]
  },
  {
   "cell_type": "markdown",
   "metadata": {},
   "source": [
    "When too many recursive calls are made, the call stack (a limited region of memory) grows beyond its allowed size, leading to a stack overflow error. This happens because each recursive call stores function data (parameters, local variables, return address) on the stack, and if there’s no base case or too many calls before returning, memory runs out.\n",
    "\n"
   ]
  },
  {
   "cell_type": "markdown",
   "metadata": {},
   "source": [
    "What is the recursion limit in Python, and how can it be modified?"
   ]
  },
  {
   "cell_type": "markdown",
   "metadata": {},
   "source": [
    "- Python has a default recursion limit of 1000 to prevent stack overflow caused by deep recursion. If a function exceeds this limit, Python raises a RecursionError."
   ]
  },
  {
   "cell_type": "code",
   "execution_count": 13,
   "metadata": {},
   "outputs": [
    {
     "name": "stdout",
     "output_type": "stream",
     "text": [
      "3000\n"
     ]
    }
   ],
   "source": [
    "#How to check for recursion limit\n",
    "import sys\n",
    "print(sys.getrecursionlimit())  # Default: 1000\n"
   ]
  },
  {
   "cell_type": "code",
   "execution_count": 14,
   "metadata": {},
   "outputs": [
    {
     "name": "stdout",
     "output_type": "stream",
     "text": [
      "5000\n"
     ]
    }
   ],
   "source": [
    "#Modifying the Recursion Limit\n",
    "import sys\n",
    "\n",
    "sys.setrecursionlimit(5000)  # Increase limit to 5000\n",
    "print(sys.getrecursionlimit())  # Output: 5000\n"
   ]
  },
  {
   "cell_type": "markdown",
   "metadata": {},
   "source": [
    "What is tail recursion, and why is it not optimized in Python?"
   ]
  },
  {
   "cell_type": "markdown",
   "metadata": {},
   "source": [
    "- Tail recursion is defined as a recursive function in which the recursive call is the last statement that is executed by the function. So basically nothing is left to execute after the recursion call.\n",
    "\n",
    "Why it is not iptimized in Python\n",
    "\n",
    "Readability & Debugging\n",
    "- Python’s philosophy prioritizes readability (\"Explicit is better than implicit.\" – Zen of Python).\n",
    "TCO removes stack traces, making debugging harder.\n",
    "\n",
    "Interpreter Complexity\n",
    "- Implementing TCO in Python's interpreter (CPython) would require changing stack management, which isn't trivial\n",
    "\n",
    "Recursion Limit Handling\n",
    "- Python enforces a recursion limit (sys.getrecursionlimit()) to prevent accidental infinite recursion.\n",
    "- TCO would bypass this limit, making it harder to detect deep recursion issues."
   ]
  },
  {
   "cell_type": "markdown",
   "metadata": {},
   "source": [
    "How can recursion be converted into iteration to avoid excessive memory\n",
    "usage?"
   ]
  },
  {
   "cell_type": "markdown",
   "metadata": {},
   "source": [
    "- Many recursive functions can be rewritten using loops (while/for). This eliminates the call stack overhead and reduces memory usage from O(n) → O(1).\n",
    "\n"
   ]
  },
  {
   "cell_type": "code",
   "execution_count": 15,
   "metadata": {},
   "outputs": [
    {
     "name": "stdout",
     "output_type": "stream",
     "text": [
      "120\n",
      "120\n"
     ]
    }
   ],
   "source": [
    "#Example 1: Factorial\n",
    "# Recursive (O(n) space, can cause stack overflow)\n",
    "def factorial_recursive(n):\n",
    "    if n == 0:\n",
    "        return 1\n",
    "    return n * factorial_recursive(n - 1)\n",
    "\n",
    "print(factorial_recursive(5))  # Output: 120\n",
    "\n",
    "#Iterative (O(1) space, avoids recursion depth issues)\n",
    "def factorial_iterative(n):\n",
    "    result = 1\n",
    "    for i in range(2, n + 1):\n",
    "        result *= i\n",
    "    return result\n",
    "\n",
    "print(factorial_iterative(5))  # Output: 120\n",
    "\n"
   ]
  },
  {
   "cell_type": "markdown",
   "metadata": {},
   "source": [
    "# Advantages and Disadvantages of Recursion"
   ]
  },
  {
   "cell_type": "markdown",
   "metadata": {},
   "source": [
    "In what situations is recursion more readable than loops?"
   ]
  },
  {
   "cell_type": "markdown",
   "metadata": {},
   "source": [
    "Recursion can be more readable and easier to understand than loops in certain situations, especially when the problem has a natural recursive structure\n",
    "\n",
    "Tree and Graph Traversal\n",
    "- Trees and graphs are naturally hierarchical, making recursion a perfect fit.\n",
    "- Recursion simplifies traversal because each subtree/child node follows the same pattern.\n",
    "- Loop-based approaches often require explicit stacks or queues, making them harder to read.\n",
    "\n",
    "Divide and Conquer Algorithms\n",
    "- Many problems can be divided into smaller subproblems, making recursion a natural choice.\n",
    "\n",
    "Examples:\n",
    "Merge Sort (Dividing the array into halves)\n",
    "Quick Sort (Partitioning the array around a pivot)\n",
    "Binary Search (Dividing the search space)\n",
    "\n",
    "Backtracking Problems\n",
    "- Backtracking explores all possible solutions, making recursion more intuitive.\n",
    "- Iterative approaches would require complex state management.\n",
    "\n",
    "Mathematical Problems (Factorial, Fibonacci, GCD, etc.)\n",
    "- Recursion mirrors mathematical definitions.\n",
    "Examples:\n",
    "Factorial (n!) → n! = n * (n-1)!\n",
    "Fibonacci → F(n) = F(n-1) + F(n-2)\n",
    "Greatest Common Divisor (GCD) → GCD(a, b) = GCD(b, a % b)\n"
   ]
  },
  {
   "cell_type": "markdown",
   "metadata": {},
   "source": [
    "What are the risks of using recursion in terms of performance and memory?"
   ]
  },
  {
   "cell_type": "markdown",
   "metadata": {},
   "source": [
    "While recursion can simplify code and improve readability, it comes with significant risks related to performance and memory usage\n",
    "\n",
    "Stack Overflow (Excessive Memory Usage)\n",
    "- Each recursive call adds a new frame to the call stack.\n",
    "- If recursion is too deep, the stack grows too large, causing a stack overflow.\n",
    "- Python’s default recursion limit is 1000 calls (modifiable using sys.setrecursionlimit).\n",
    "\n",
    "Solution\n",
    "- Always ensure a base case to prevent infinite recursion.\n",
    "- Use iteration when recursion depth is too large.\n",
    "\n",
    "High Time Complexity (Repeated Work in Some Cases)\n",
    "- Naïve recursion can repeat calculations, leading to exponential time complexity (O(2ⁿ)) instead of an optimal O(n) or O(log n).\n",
    "\n",
    "Example: The naïve Fibonacci sequence recomputes values unnecessarily.\n",
    "\n",
    "High Space Complexity (Extra Memory for Call Stack)\n",
    "- Recursion uses O(n) space because each function call remains on the stack until returning.\n",
    "- Iterative approaches often reduce space complexity to O(1).\n",
    "\n",
    "\n"
   ]
  },
  {
   "cell_type": "markdown",
   "metadata": {},
   "source": [
    "What factors should be considered when deciding between recursion and\n",
    "iteration?"
   ]
  },
  {
   "cell_type": "markdown",
   "metadata": {
    "vscode": {
     "languageId": "markdown"
    }
   },
   "source": [
    "- Problem Structure, Recursion is well-suited for problems that have a natural recursive structure, such as tree traversal, backtracking, or problems that can be divided into smaller subproblems. Iteration is more suitable for problems that can be solved using loops and do not have a recursive nature.\n",
    "- Readability and Understandability, Recursion can often lead to more concise and intuitive code, especially for problems that have a recursive definition. It can make the code easier to understand and reason about. However, for complex problems or problems that do not have a natural recursive structure, an iterative approach may be more readable.\n",
    "- Time Complexity, In some cases, recursion may lead to exponential time complexity due to redundant calculations. It is important to analyze the time complexity of both recursive and iterative solutions and choose the one that is more efficient.\n",
    "- Space Complexity, Recursion uses additional memory for the call stack, which can be a concern for problems with deep recursion or large input sizes. Iteration, on the other hand, often has a lower space complexity as it does not require additional stack frames.\n",
    "- Performance, In some cases, recursion may have a performance overhead due to the function call stack and the associated memory management. Iteration can be more performant in such cases.\n",
    "- Base Case and Termination, Recursion requires a well-defined base case and termination condition to avoid infinite recursion. It is important to ensure that the base case is properly defined and that the recursion terminates.\n",
    "- Debugging and Error Handling, Iterative code is often easier to debug and analyze, as the control flow is more explicit. Recursion can make debugging more challenging, especially when dealing with deep recursion or complex recursive calls.\n",
    "- Language and Platform Limitations, Some programming languages or platforms may have limitations on recursion depth or may not optimize tail recursion. It is important to consider these limitations when deciding between recursion and iteration.\n"
   ]
  },
  {
   "cell_type": "markdown",
   "metadata": {},
   "source": [
    "# Conclusion\n"
   ]
  },
  {
   "cell_type": "markdown",
   "metadata": {},
   "source": [
    "Recursion is a fundamental concept in programming that allows a function to call itself to solve problems. The most important lessons from learning recursion;\n",
    "- A recursive function solves a problem by reducing it to a smaller instance of itself.\n",
    "- Every recursive function must have a base case to stop infinite recursion.\n",
    "- Every recursive function needs a stopping condition (base case) to prevent infinite loops.\n",
    "- Without a base case, the function will keep calling itself indefinitely, leading to a stack overflow error."
   ]
  },
  {
   "cell_type": "markdown",
   "metadata": {},
   "source": [
    "In what real-world applications is recursion commonly used?"
   ]
  },
  {
   "cell_type": "markdown",
   "metadata": {},
   "source": [
    "- Tree Traversal: Recursion is widely used for traversing tree data structures, such as binary trees, AVL trees, and B-trees. Examples include in-order, pre-order, and post-order traversal algorithms.\n",
    "\n",
    "- Graph Algorithms: Many graph algorithms, such as depth-first search (DFS) and certain shortest path algorithms, use recursion to explore nodes and edges.\n",
    "\n",
    "- Sorting Algorithms: Recursive sorting algorithms like quicksort and mergesort are commonly used due to their efficiency and simplicity.\n",
    "\n",
    "- Dynamic Programming: Problems that can be broken down into overlapping subproblems, such as the Fibonacci sequence, can be solved using recursive dynamic programming techniques (often with memoization).\n",
    "\n",
    "- Backtracking: Recursive backtracking is used in solving constraint satisfaction problems, such as the N-Queens problem, Sudoku, and maze solving.\n",
    "\n",
    "- Divide and Conquer: Algorithms that follow the divide and conquer paradigm, such as the Fast Fourier Transform (FFT) and Strassen's matrix multiplication, often use recursion.\n",
    "\n",
    "- Parsing: Recursive descent parsers use recursion to process nested structures in programming languages and data formats like JSON and XML.\n",
    "\n",
    "- File System Navigation: Recursion is used to navigate and manipulate hierarchical file systems, such as searching for files and directories.\n",
    "\n",
    "- Game Algorithms: Recursive algorithms are used in game theory and AI for games, such as the minimax algorithm for decision making in games like chess and tic-tac-toe.\n",
    "\n",
    "These applications leverage the power of recursion to simplify complex problems by breaking them down into smaller, more manageable subproblems.\n",
    "\n",
    "Generate"
   ]
  }
 ],
 "metadata": {
  "kernelspec": {
   "display_name": "Python 3",
   "language": "python",
   "name": "python3"
  },
  "language_info": {
   "codemirror_mode": {
    "name": "ipython",
    "version": 3
   },
   "file_extension": ".py",
   "mimetype": "text/x-python",
   "name": "python",
   "nbconvert_exporter": "python",
   "pygments_lexer": "ipython3",
   "version": "3.12.5"
  }
 },
 "nbformat": 4,
 "nbformat_minor": 2
}
