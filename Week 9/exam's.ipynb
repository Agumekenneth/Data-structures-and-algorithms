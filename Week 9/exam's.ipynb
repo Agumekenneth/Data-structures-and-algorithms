{
 "cells": [
  {
   "cell_type": "code",
   "execution_count": 8,
   "metadata": {},
   "outputs": [
    {
     "name": "stdout",
     "output_type": "stream",
     "text": [
      "5\n",
      "5\n",
      "[1, 2, 3, 4]\n",
      "False\n",
      "True\n"
     ]
    }
   ],
   "source": [
    "stack =[]\n",
    "stack.append(1)\n",
    "stack.append(2)\n",
    "stack.append(3)\n",
    "stack.append(4)\n",
    "stack.append(5)\n",
    "\n",
    "#peek\n",
    "print(stack[-1])\n",
    "\n",
    "#pop\n",
    "stacked = stack.pop()\n",
    "print(stacked)\n",
    "print(stack)\n",
    "\n",
    "#isempty\n",
    "if stack:\n",
    "    print(len(stack)==0)\n",
    "\n",
    "# isfull\n",
    "if stack:\n",
    "    print(len(stack)<10)"
   ]
  }
 ],
 "metadata": {
  "kernelspec": {
   "display_name": "Python 3",
   "language": "python",
   "name": "python3"
  },
  "language_info": {
   "codemirror_mode": {
    "name": "ipython",
    "version": 3
   },
   "file_extension": ".py",
   "mimetype": "text/x-python",
   "name": "python",
   "nbconvert_exporter": "python",
   "pygments_lexer": "ipython3",
   "version": "3.12.5"
  }
 },
 "nbformat": 4,
 "nbformat_minor": 2
}
