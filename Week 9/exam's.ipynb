{
 "cells": [
  {
   "cell_type": "code",
   "execution_count": 1,
   "metadata": {},
   "outputs": [
    {
     "name": "stdout",
     "output_type": "stream",
     "text": [
      "11\n",
      "11\n",
      "[1, 2, 3, 4, 5, 6, 7, 8, 9, 10]\n",
      "False\n",
      "False\n"
     ]
    }
   ],
   "source": [
    "stack =[]\n",
    "stack.append(1)\n",
    "stack.append(2)\n",
    "stack.append(3)\n",
    "stack.append(4)\n",
    "stack.append(5)\n",
    "stack.append(6) \n",
    "stack.append(7)\n",
    "stack.append(8)\n",
    "stack.append(9)\n",
    "stack.append(10)\n",
    "stack.append(11)\n",
    "\n",
    "#peek\n",
    "print(stack[-1])\n",
    "\n",
    "#pop\n",
    "stacked = stack.pop()\n",
    "print(stacked)\n",
    "print(stack)\n",
    "\n",
    "#isempty\n",
    "if stack:\n",
    "    print(len(stack)==0)\n",
    "\n",
    "# isfull\n",
    "if stack:\n",
    "    print(len(stack)<10)"
   ]
  },
  {
   "cell_type": "code",
   "execution_count": 7,
   "metadata": {},
   "outputs": [
    {
     "name": "stdout",
     "output_type": "stream",
     "text": [
      "50\n",
      "10\n",
      "[20, 30, 40, 50]\n",
      "20\n"
     ]
    }
   ],
   "source": [
    "from collections import deque\n",
    "queue = deque()\n",
    "queue.append(10)\n",
    "queue.append(20)\n",
    "queue.append(30)\n",
    "queue.append(40)\n",
    "queue.append(50)\n",
    "\n",
    "if queue:\n",
    "   popped= queue.popleft()\n",
    "\n",
    "   print(popped)\n",
    "   \n",
    "if queue:\n",
    "   i =list(queue)\n",
    "   print(i)\n",
    "#peek\n",
    "print(queue[0])"
   ]
  },
  {
   "cell_type": "code",
   "execution_count": 8,
   "metadata": {},
   "outputs": [
    {
     "name": "stdout",
     "output_type": "stream",
     "text": [
      "10\n",
      "20\n",
      "30\n"
     ]
    }
   ],
   "source": [
    "#linked list\n",
    "node1 ={'data':10,'next':None}\n",
    "node2 ={'data':20,'next':None}\n",
    "node3 ={'data':30,'next':None}\n",
    "#linking the nodes\n",
    "node1['next']=node2\n",
    "node2['next']=node3\n",
    "#head points to the first node\n",
    "head = node1\n",
    "#traversing the linked list\n",
    "current = head\n",
    "while current:\n",
    "    print(current['data'])\n",
    "    current = current['next']"
   ]
  }
 ],
 "metadata": {
  "kernelspec": {
   "display_name": "Python 3",
   "language": "python",
   "name": "python3"
  },
  "language_info": {
   "codemirror_mode": {
    "name": "ipython",
    "version": 3
   },
   "file_extension": ".py",
   "mimetype": "text/x-python",
   "name": "python",
   "nbconvert_exporter": "python",
   "pygments_lexer": "ipython3",
   "version": "3.12.5"
  }
 },
 "nbformat": 4,
 "nbformat_minor": 2
}
