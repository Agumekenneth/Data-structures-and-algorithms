{
 "cells": [
  {
   "cell_type": "code",
   "execution_count": 1,
   "metadata": {},
   "outputs": [
    {
     "name": "stdout",
     "output_type": "stream",
     "text": [
      "11\n",
      "11\n",
      "[1, 2, 3, 4, 5, 6, 7, 8, 9, 10]\n",
      "False\n",
      "False\n"
     ]
    }
   ],
   "source": [
    "stack =[]\n",
    "stack.append(1)\n",
    "stack.append(2)\n",
    "stack.append(3)\n",
    "stack.append(4)\n",
    "stack.append(5)\n",
    "stack.append(6) \n",
    "stack.append(7)\n",
    "stack.append(8)\n",
    "stack.append(9)\n",
    "stack.append(10)\n",
    "stack.append(11)\n",
    "\n",
    "#peek\n",
    "print(stack[-1])\n",
    "\n",
    "#pop\n",
    "stacked = stack.pop()\n",
    "print(stacked)\n",
    "print(stack)\n",
    "\n",
    "#isempty\n",
    "if stack:\n",
    "    print(len(stack)==0)\n",
    "\n",
    "# isfull\n",
    "if stack:\n",
    "    print(len(stack)<10)"
   ]
  },
  {
   "cell_type": "code",
   "execution_count": 7,
   "metadata": {},
   "outputs": [
    {
     "name": "stdout",
     "output_type": "stream",
     "text": [
      "50\n",
      "10\n",
      "[20, 30, 40, 50]\n",
      "20\n"
     ]
    }
   ],
   "source": [
    "from collections import deque\n",
    "queue = deque()\n",
    "queue.append(10)\n",
    "queue.append(20)\n",
    "queue.append(30)\n",
    "queue.append(40)\n",
    "queue.append(50)\n",
    "\n",
    "if queue:\n",
    "   popped= queue.popleft()\n",
    "\n",
    "   print(popped)\n",
    "   \n",
    "if queue:\n",
    "   i =list(queue)\n",
    "   print(i)\n",
    "#peek\n",
    "print(queue[0])"
   ]
  },
  {
   "cell_type": "code",
   "execution_count": 8,
   "metadata": {},
   "outputs": [
    {
     "name": "stdout",
     "output_type": "stream",
     "text": [
      "10\n",
      "20\n",
      "30\n"
     ]
    }
   ],
   "source": [
    "#linked list\n",
    "node1 ={'data':10,'next':None}\n",
    "node2 ={'data':20,'next':None}\n",
    "node3 ={'data':30,'next':None}\n",
    "#linking the nodes\n",
    "node1['next']=node2\n",
    "node2['next']=node3\n",
    "#head points to the first node\n",
    "head = node1\n",
    "#traversing the linked list\n",
    "current = head\n",
    "while current:\n",
    "    print(current['data'])\n",
    "    current = current['next']"
   ]
  },
  {
   "cell_type": "code",
   "execution_count": 18,
   "metadata": {},
   "outputs": [
    {
     "name": "stdout",
     "output_type": "stream",
     "text": [
      "Sorted array:  [12, 25, 34, 45, 46, 56, 76, 90, 98]\n"
     ]
    }
   ],
   "source": [
    "def selection_sort(arr):\n",
    "    n = len(arr)\n",
    "    for i in range(n):\n",
    "        min_index = i\n",
    "        for j in range(i+1,n):\n",
    "            if arr[j] < arr[min_index]:\n",
    "                min_index = j\n",
    "        arr[i],arr[min_index] = arr[min_index],arr[i]\n",
    "    return arr\n",
    "arr = [12,45,34,56,76,46,90,98,25]\n",
    "result = selection_sort(arr)\n",
    "if result != -1:\n",
    "    print(f\"Sorted array: \",result)"
   ]
  },
  {
   "cell_type": "code",
   "execution_count": 19,
   "metadata": {},
   "outputs": [
    {
     "name": "stdout",
     "output_type": "stream",
     "text": [
      "sorted array [1, 2, 4, 4, 6, 10, 36, 64, 67, 75, 89, 90]\n"
     ]
    }
   ],
   "source": [
    "def selection_sort(arr):\n",
    "    n = len(arr)\n",
    "    for i in range(n):\n",
    "        min_index = i\n",
    "        for j in range(i+1,n):\n",
    "            if arr[j]<arr[min_index]:\n",
    "                min_index = j\n",
    "        arr[i],arr[min_index]= arr[min_index],arr[i]\n",
    "    return arr\n",
    "arr =[10,36,67,89,90,2,4,6,4,1,64,75]\n",
    "result = selection_sort(arr)\n",
    "print('sorted array',result)"
   ]
  },
  {
   "cell_type": "code",
   "execution_count": 22,
   "metadata": {},
   "outputs": [
    {
     "name": "stdout",
     "output_type": "stream",
     "text": [
      "element found at index 6\n"
     ]
    }
   ],
   "source": [
    "def linear_search(arr,target):\n",
    "    for i in range(len(arr)):\n",
    "        if arr[i]==target:\n",
    "          return i \n",
    "        \n",
    "arr=[23,2,4,5,6,7,8,23,5,7,9,69]\n",
    "target = 8\n",
    "result=linear_search(arr,target)\n",
    "if result != -1:\n",
    "   print('element found at index',result)\n",
    "else:\n",
    "   print('element not found ')\n"
   ]
  },
  {
   "cell_type": "code",
   "execution_count": 29,
   "metadata": {},
   "outputs": [
    {
     "name": "stdout",
     "output_type": "stream",
     "text": [
      "sorted array None\n"
     ]
    }
   ],
   "source": [
    "def insertion_sort(arr):\n",
    "    n = len(arr)\n",
    "    for i in range(1,n):\n",
    "        insert_index = i\n",
    "        current_value = arr.pop(i)\n",
    "        for j in range(i-1,-1,-1):\n",
    "           if arr[j]>current_value:\n",
    "                insert_index = j\n",
    "        arr.insert(insert_index,current_value)\n",
    "arr = [10,3,4,56,67,8,2,1,100,66]\n",
    "result =insertion_sort(arr)\n",
    "if result != -1:\n",
    "   print('sorted array',result)"
   ]
  },
  {
   "cell_type": "code",
   "execution_count": 30,
   "metadata": {},
   "outputs": [
    {
     "name": "stdout",
     "output_type": "stream",
     "text": [
      "Element found at index 4\n"
     ]
    }
   ],
   "source": [
    "def binary_search(arr,low,high,target):\n",
    "    if low > high:\n",
    "        return -1\n",
    "    mid =(low + high)//2\n",
    "    if arr[mid]==target:\n",
    "        return mid\n",
    "    elif arr[mid]<target:\n",
    "        return binary_search(arr, mid+1,high,target)\n",
    "    else:\n",
    "        return binary_search(arr,low, mid-1,target)\n",
    "    \n",
    "arr=[12,22,30,34,56,67,78,98,100]\n",
    "target = 56\n",
    "result = binary_search(arr,0,len(arr)-1,target)\n",
    "if result!=-1:\n",
    "    print('Element found at index',result)\n",
    "else:\n",
    "    print('element not found')\n",
    "\n"
   ]
  },
  {
   "cell_type": "code",
   "execution_count": 34,
   "metadata": {},
   "outputs": [
    {
     "name": "stdout",
     "output_type": "stream",
     "text": [
      "Element found at index 4\n"
     ]
    }
   ],
   "source": [
    "\n",
    "def binary_search(arr, target_value):\n",
    "    left = 0\n",
    "    right = len(arr) - 1\n",
    "    while left <= right:\n",
    "        mid = (left + right) // 2\n",
    "        if arr[mid] == target_value:\n",
    "            return mid\n",
    "        if arr[mid] < target_value:\n",
    "            left = mid + 1\n",
    "        else:\n",
    "            right = mid - 1\n",
    "    return -1\n",
    "\n",
    "arr = [12, 22, 30, 34, 56, 67, 78, 98, 100]\n",
    "target_value = 56\n",
    "result = binary_search(arr, target_value)\n",
    "\n",
    "if result != -1:\n",
    "    print('Element found at index', result)\n",
    "else:\n",
    "    print('Element not found')\n",
    "\n",
    "            \n"
   ]
  }
 ],
 "metadata": {
  "kernelspec": {
   "display_name": "Python 3",
   "language": "python",
   "name": "python3"
  },
  "language_info": {
   "codemirror_mode": {
    "name": "ipython",
    "version": 3
   },
   "file_extension": ".py",
   "mimetype": "text/x-python",
   "name": "python",
   "nbconvert_exporter": "python",
   "pygments_lexer": "ipython3",
   "version": "3.12.5"
  }
 },
 "nbformat": 4,
 "nbformat_minor": 2
}
