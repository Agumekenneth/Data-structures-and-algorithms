{
 "cells": [
  {
   "cell_type": "markdown",
   "metadata": {},
   "source": [
    "AGUME KENNETH B30309 S24B38/017"
   ]
  },
  {
   "cell_type": "markdown",
   "metadata": {},
   "source": [
    "# Pseudocode and Flowcharts"
   ]
  },
  {
   "cell_type": "markdown",
   "metadata": {},
   "source": [
    "Pseudocode\n",
    "\n",
    "Pseudocode is  a method of describing a process of writing programming code and algorithms using a natural languange that is human readable and doesnot follow strict syntax \n",
    "\n",
    "Flowcharts\n",
    "\n",
    "This refer's to the visual representation of an algorithm that helps a programmer to illustatre the flow of execution\n",
    "\n",
    "#pseudocode\n",
    "\n",
    "- Thy provide improved problem-solving by breaking complex problems into smaller,manageable steps \n",
    "- It helps instructuring the logic in a step-by-step manner,making it easier to follow and implement\n",
    "\n",
    "#flowcharts\n",
    "- They provide improved problem-solving by indentify errors or inefficienties in the algorithm before coding\n",
    "- They provide a visual representation of the logical flow, making it easy to undserstand the process at a glance\n"
   ]
  },
  {
   "cell_type": "markdown",
   "metadata": {},
   "source": [
    "# Example"
   ]
  },
  {
   "cell_type": "markdown",
   "metadata": {},
   "source": [
    "# 2 Finding the largest of Three Numbers "
   ]
  },
  {
   "cell_type": "code",
   "execution_count": 1,
   "metadata": {},
   "outputs": [],
   "source": [
    "#Pseudocode\n",
    "# BEGIN\n",
    "#     // Step 1: User inputs\n",
    "\n",
    "#     INPUT num1\n",
    "\n",
    "#     INPUT num2\n",
    "\n",
    "#     INPUT num3\n",
    "\n",
    "#     // Step 2: Compare numbers to find the largest\n",
    "#     IF (num1 >= num2) AND (num1 >= num3) THEN\n",
    "#         largest = num1\n",
    "#     ELSE IF (num2 >= num1) AND (num2 >= num3) THEN\n",
    "#         largest = num2\n",
    "#     ELSE\n",
    "#         largest = num3\n",
    "#     ENDIF\n",
    "\n",
    "#     // Step 3: Display the largest number\n",
    "#     OUTPUT largest\n",
    "# END\n",
    "\n"
   ]
  },
  {
   "cell_type": "markdown",
   "metadata": {},
   "source": [
    "# 3 Printing Even Numbers from 1 to 50"
   ]
  },
  {
   "cell_type": "code",
   "execution_count": 2,
   "metadata": {},
   "outputs": [],
   "source": [
    "# BEGIN\n",
    "#     // Step 1: Loop through numbers from 1 to 50\n",
    "#         SET num = 1\n",
    "#     FOR number IN the RANGE 51:\n",
    "#         // Step 2: Check if the number is even\n",
    "#         IF number MOD 2 = 0 THEN\n",
    "#             OUTPUT number\n",
    "\n",
    "# END -->\n"
   ]
  },
  {
   "cell_type": "markdown",
   "metadata": {},
   "source": [
    "#flowchart"
   ]
  },
  {
   "cell_type": "markdown",
   "metadata": {},
   "source": [
    "# 4 Voting Eligibility Checker"
   ]
  },
  {
   "cell_type": "markdown",
   "metadata": {},
   "source": [
    "BEGIN\n",
    "\n",
    "  INPUT age\n",
    "\n",
    "  IF age >= 18 THEN\n",
    "\n",
    "    OUTPUT eligible vote\n",
    "\n",
    "  ELSE \n",
    "\n",
    "    OUTPUT not eligible\n",
    "    \n",
    "END"
   ]
  },
  {
   "cell_type": "markdown",
   "metadata": {},
   "source": [
    "#flowchart"
   ]
  },
  {
   "cell_type": "markdown",
   "metadata": {},
   "source": [
    "# 5 Grestest Common Divisor(GDC) Calculation"
   ]
  },
  {
   "cell_type": "markdown",
   "metadata": {},
   "source": [
    "BEGIN\n",
    "  FUNCTION GCD(a,b)\n",
    "  WHILE num1 ≠ 0 DO\n",
    "  temp = num2\n",
    "  num2 = num1%num2\n",
    "  num1 = temporary\n",
    "  OUTPUT GCD(num1,num2)\n",
    "  RETURN a\n",
    "  GCD(a,b)\n",
    "\n",
    "  OUTPUT GCD,\n",
    "\n",
    "END"
   ]
  },
  {
   "cell_type": "markdown",
   "metadata": {},
   "source": [
    "#flowchart"
   ]
  },
  {
   "cell_type": "markdown",
   "metadata": {},
   "source": [
    "# 6 Symbols used in Flowcharts"
   ]
  },
  {
   "cell_type": "markdown",
   "metadata": {},
   "source": [
    "Oval\n",
    "- This represents the start and end  of a flowchart\n",
    "\n",
    "Rectangle\n",
    "- This represents the operations to be performed\n",
    "\n",
    "Diamond\n",
    "- This represents the decision making step that leads to different outcomes\n",
    "\n",
    "Parallelogram\n",
    "- This represents input(reading the data) and output of data(displaying the results)\n",
    "\n",
    "Arrows\n",
    "- This shows the directional flow from one step to another\n",
    "\n",
    "Circle\n",
    "- This connects different parts of the flowchart"
   ]
  },
  {
   "cell_type": "markdown",
   "metadata": {},
   "source": [
    "#flowchart"
   ]
  },
  {
   "cell_type": "markdown",
   "metadata": {},
   "source": [
    "# 7 Checking if a number is Positive,Negative or Zero"
   ]
  },
  {
   "cell_type": "markdown",
   "metadata": {},
   "source": [
    "BEGIN\n",
    "   INPUT num\n",
    "   IF num > 0 THEN\n",
    "      OUTPUT positive\n",
    "   ELIF num<0 THen\n",
    "      OUTPUT negative\n",
    "   ELSE\n",
    "      OUTPUT zero\n",
    "\n",
    "END"
   ]
  },
  {
   "cell_type": "markdown",
   "metadata": {},
   "source": [
    "#flowchart"
   ]
  },
  {
   "cell_type": "markdown",
   "metadata": {},
   "source": [
    "# 8 Summing all Numbers fro 1 to N"
   ]
  },
  {
   "cell_type": "markdown",
   "metadata": {},
   "source": [
    "BEGIN\n",
    "  INPUT N\n",
    "  SETsum = 0\n",
    "  SETincreament = 1\n",
    "  WHILE increament <= N DO\n",
    "    sum =sum + increament\n",
    "    increament = increament + 1\n",
    "  OUTPUT sum of numbers N, is, 'sum'\n",
    "END"
   ]
  },
  {
   "cell_type": "markdown",
   "metadata": {},
   "source": [
    "#Explanation\n",
    "\n",
    "The program asks the user to enter a number N.\n",
    "\n",
    "It initializes a variable sum to 0.\n",
    "\n",
    "A loop runs from 1 to N, adding each number to sum.\n",
    "\n",
    "After the loop completes, the final sum is printed."
   ]
  },
  {
   "cell_type": "markdown",
   "metadata": {},
   "source": [
    "#flowchart"
   ]
  },
  {
   "cell_type": "markdown",
   "metadata": {},
   "source": [
    "# 9 ATM Transcation Process"
   ]
  },
  {
   "cell_type": "markdown",
   "metadata": {},
   "source": [
    "BEGIN\n",
    "\n",
    " SET Pin = 2544\n",
    "\n",
    " SET attempts = 0\n",
    " \n",
    " SET maxATTEMPS = 3\n",
    "\n",
    " SET verified = False\n",
    " \n",
    "WHILE attempts < maxATTEMPS DO\n",
    "\n",
    "  OUTPUT PIN\n",
    "\n",
    "  IF PIN = Pin\n",
    "\n",
    "   OUTPUT Access granted\n",
    "\n",
    "   SET verified = True\n",
    "\n",
    "   BREAK\n",
    "\n",
    "  ELSE\n",
    "\n",
    "  OUTPUT Incorrect, try again\n",
    "\n",
    "  attempts =attempts + 1\n",
    "  OUTPUT attempts left\n",
    "\n",
    "  ENDIF\n",
    "\n",
    "ENDWHILE\n",
    "\n",
    "IF verified = True THEN\n",
    "\n",
    "   OUTPUT amount\n",
    "\n",
    "   OUTPUT transcation successful\n",
    "\n",
    "ELSE\n",
    "\n",
    "   OUTPUT Account locked due to many incorrect attempts\n",
    "\n",
    "END"
   ]
  },
  {
   "cell_type": "markdown",
   "metadata": {},
   "source": [
    "The program stores the correct Pin and initializes attempts to 0.\n",
    "\n",
    "The user is given up to 3 attempts to enter the correct PIN.\n",
    "\n",
    "If the PIN is correct within 3 attempts, the user proceeds to withdraw money.\n",
    "\n",
    "If the PIN is incorrect after 3 attempts, the account is locked.\n",
    "\n",
    "If authentication is successful, the user enters an amount to withdraw, and the transaction is completed.\n"
   ]
  },
  {
   "cell_type": "markdown",
   "metadata": {},
   "source": [
    "# 10 Factorial Calculation"
   ]
  },
  {
   "cell_type": "markdown",
   "metadata": {},
   "source": [
    "BEGIN\n",
    " SET factorial =1, i = 1\n",
    " WHILE i<=number DO\n",
    " COMPUTEfactorila =factorial*i\n",
    " INCREASE i by 1\n",
    " OUTPUT factorial\n",
    "END"
   ]
  }
 ],
 "metadata": {
  "kernelspec": {
   "display_name": "Python 3",
   "language": "python",
   "name": "python3"
  },
  "language_info": {
   "codemirror_mode": {
    "name": "ipython",
    "version": 3
   },
   "file_extension": ".py",
   "mimetype": "text/x-python",
   "name": "python",
   "nbconvert_exporter": "python",
   "pygments_lexer": "ipython3",
   "version": "3.12.5"
  }
 },
 "nbformat": 4,
 "nbformat_minor": 2
}
