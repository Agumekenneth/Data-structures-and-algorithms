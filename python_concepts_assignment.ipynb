{
 "cells": [
  {
   "cell_type": "markdown",
   "metadata": {},
   "source": [
    "# SECTION 1\n",
    "\n",
    " # Varibles and Data types"
   ]
  },
  {
   "cell_type": "markdown",
   "metadata": {},
   "source": [
    "A variable can be defined as storage location for nay data type  which is used to execute tasks deppending on the programmers instructions. \n",
    "Variables are divided into two ie Global and local variables"
   ]
  },
  {
   "cell_type": "markdown",
   "metadata": {},
   "source": [
    "Global varibles are one's that are created outside a function ie"
   ]
  },
  {
   "cell_type": "code",
   "execution_count": 1,
   "metadata": {},
   "outputs": [],
   "source": [
    "\n",
    "x = \"awesome\"\n",
    "\n",
    "def type():\n",
    "   \n",
    "    print(\"python is\" + x)\n",
    "   \n",
    "    type()\n"
   ]
  },
  {
   "cell_type": "markdown",
   "metadata": {},
   "source": [
    "Local variables are one's that are created with in a function ie \n"
   ]
  },
  {
   "cell_type": "markdown",
   "metadata": {},
   "source": [
    "# Data types \n",
    "\n",
    " This is an atttribute that tells a computer how to interpret a values \n",
    " "
   ]
  },
  {
   "cell_type": "markdown",
   "metadata": {},
   "source": [
    "A string is a sequencve of zero or more characters  ie  \n",
    "\n",
    "name = \"Cathy\""
   ]
  },
  {
   "cell_type": "markdown",
   "metadata": {},
   "source": [
    "Integers are whole numbers that can either be positive, negative and zero i.e.  4,6,8,-5"
   ]
  },
  {
   "cell_type": "markdown",
   "metadata": {},
   "source": [
    "Floats are data types that represent valuses with decimal points i.e 123.566"
   ]
  },
  {
   "cell_type": "markdown",
   "metadata": {},
   "source": [
    "Booleans are data types that represent data that is either true or false but can't be both "
   ]
  },
  {
   "cell_type": "markdown",
   "metadata": {},
   "source": [
    "# Control flow\n",
    "\n",
    "The if statement\n",
    "This checks if the condition of the statement is true in order for it to be executed \n",
    "\n",
    "Elif statement \n",
    "This checks if the condition is either True or False then it moves to the next thus it checks for multiple conditions.\n",
    "\n",
    "Else statement \n",
    "This excutes both the true and false part of the given conditions in a code.\n",
    "\n"
   ]
  },
  {
   "cell_type": "code",
   "execution_count": 3,
   "metadata": {},
   "outputs": [
    {
     "name": "stdout",
     "output_type": "stream",
     "text": [
      "Positive\n"
     ]
    }
   ],
   "source": [
    "\n",
    "\n",
    "num = int(input(\"Enter any number please!\"))\n",
    "\n",
    "if num > 0:\n",
    "\n",
    "    print(f\"Positive\")\n",
    "\n",
    "elif num < 0:\n",
    "\n",
    "    print(f\"Negative\")\n",
    "\n",
    "else:\n",
    "\n",
    "    print(\"zero\")\n",
    "   "
   ]
  },
  {
   "cell_type": "markdown",
   "metadata": {},
   "source": [
    "For loops are one's used to print out values within another loop while While loops are one's that excute a block of code over and over again until the output is true "
   ]
  },
  {
   "cell_type": "code",
   "execution_count": 4,
   "metadata": {},
   "outputs": [
    {
     "name": "stdout",
     "output_type": "stream",
     "text": [
      "1 1\n",
      "1 2\n",
      "1 3\n",
      "1 4\n",
      "1 5\n",
      "1 6\n",
      "1 7\n",
      "1 8\n",
      "1 9\n",
      "1 10\n",
      "2 1\n",
      "2 2\n",
      "2 3\n",
      "2 4\n",
      "2 5\n",
      "2 6\n",
      "2 7\n",
      "2 8\n",
      "2 9\n",
      "2 10\n",
      "3 1\n",
      "3 2\n",
      "3 3\n",
      "3 4\n",
      "3 5\n",
      "3 6\n",
      "3 7\n",
      "3 8\n",
      "3 9\n",
      "3 10\n",
      "4 1\n",
      "4 2\n",
      "4 3\n",
      "4 4\n",
      "4 5\n",
      "4 6\n",
      "4 7\n",
      "4 8\n",
      "4 9\n",
      "4 10\n",
      "5 1\n",
      "5 2\n",
      "5 3\n",
      "5 4\n",
      "5 5\n",
      "5 6\n",
      "5 7\n",
      "5 8\n",
      "5 9\n",
      "5 10\n",
      "6 1\n",
      "6 2\n",
      "6 3\n",
      "6 4\n",
      "6 5\n",
      "6 6\n",
      "6 7\n",
      "6 8\n",
      "6 9\n",
      "6 10\n",
      "7 1\n",
      "7 2\n",
      "7 3\n",
      "7 4\n",
      "7 5\n",
      "7 6\n",
      "7 7\n",
      "7 8\n",
      "7 9\n",
      "7 10\n",
      "8 1\n",
      "8 2\n",
      "8 3\n",
      "8 4\n",
      "8 5\n",
      "8 6\n",
      "8 7\n",
      "8 8\n",
      "8 9\n",
      "8 10\n",
      "9 1\n",
      "9 2\n",
      "9 3\n",
      "9 4\n",
      "9 5\n",
      "9 6\n",
      "9 7\n",
      "9 8\n",
      "9 9\n",
      "9 10\n",
      "10 1\n",
      "10 2\n",
      "10 3\n",
      "10 4\n",
      "10 5\n",
      "10 6\n",
      "10 7\n",
      "10 8\n",
      "10 9\n",
      "10 10\n",
      "1\n",
      "2\n",
      "3\n",
      "4\n",
      "5\n",
      "6\n",
      "7\n",
      "8\n",
      "9\n",
      "10\n"
     ]
    }
   ],
   "source": [
    "#Examples\n",
    "\n",
    "#For loops\n",
    "\n",
    "for i in range(1,11):\n",
    "\n",
    "    for j in range(1,11):\n",
    "    \n",
    "        print(i,j)\n",
    "\n",
    "#While loops\n",
    "\n",
    "number = 1\n",
    "\n",
    "while number <= 10:\n",
    "\n",
    "    print(number)\n",
    "    \n",
    "    number += 1\n",
    "\n"
   ]
  },
  {
   "cell_type": "markdown",
   "metadata": {},
   "source": [
    "# Loop control statements "
   ]
  },
  {
   "cell_type": "markdown",
   "metadata": {},
   "source": [
    "Break statemet \n",
    "\n",
    "Used to exit both a for or while loop prematurely once a certain condition is met thus stops printing out values in the console depending on the assigned value \n",
    "\n",
    "Continue statement\n",
    " \n",
    " This prints out the other values while skipping the assigned value in an iteration\n",
    "\n",
    "Pass statement\n",
    "\n",
    "This refers to a placeholder that keeps a value for future use once called by the programmer\n"
   ]
  },
  {
   "cell_type": "code",
   "execution_count": 5,
   "metadata": {},
   "outputs": [
    {
     "name": "stdout",
     "output_type": "stream",
     "text": [
      "1\n",
      "2\n",
      "3\n",
      "4\n",
      "6\n",
      "7\n",
      "8\n",
      "9\n",
      "1\n",
      "2\n",
      "3\n",
      "4\n",
      "5\n",
      "6\n",
      "7\n",
      "8\n",
      "9\n"
     ]
    }
   ],
   "source": [
    "#Examples\n",
    "\n",
    "#Break Statement\n",
    "\n",
    "for i in range(1, 10):\n",
    "\n",
    "    if i == 5:\n",
    "\n",
    "        break  \n",
    "\n",
    "        print(i)\n",
    "\n",
    "#Continue statement\n",
    "\n",
    "for i in range(1, 10):\n",
    "\n",
    "    if i == 5:\n",
    "\n",
    "        continue  \n",
    "\n",
    "    print(i)\n",
    "\n",
    "#Pass statement \n",
    "\n",
    "for i in range(1, 10):\n",
    "\n",
    "    if i == 5:\n",
    "\n",
    "        pass  \n",
    "        \n",
    "    print(i)\n"
   ]
  },
  {
   "cell_type": "markdown",
   "metadata": {},
   "source": [
    "# SECTION 2"
   ]
  },
  {
   "cell_type": "markdown",
   "metadata": {},
   "source": [
    "# Functions basic's"
   ]
  },
  {
   "cell_type": "markdown",
   "metadata": {},
   "source": [
    "A function is defined by using def as a keyword and then followed by parentheses(). Incase of any arguments the inputs are put in the parentheses bracket so as to be easily identified "
   ]
  },
  {
   "cell_type": "code",
   "execution_count": 6,
   "metadata": {},
   "outputs": [
    {
     "name": "stdout",
     "output_type": "stream",
     "text": [
      "The answer is: 6\n"
     ]
    },
    {
     "data": {
      "text/plain": [
       "6"
      ]
     },
     "execution_count": 6,
     "metadata": {},
     "output_type": "execute_result"
    }
   ],
   "source": [
    "#Example\n",
    "\n",
    "num1 = int(input(\"Enter a number \"))\n",
    "\n",
    "num2 = int(input(\"Enter a number \"))\n",
    "\n",
    "add = num1+num2\n",
    "\n",
    "def answer(add):\n",
    "\n",
    "    sum = num1+num2\n",
    "\n",
    "    print(f\"The answer is: {sum}\")\n",
    "\n",
    "    return sum\n",
    "    \n",
    "answer(add)"
   ]
  },
  {
   "cell_type": "markdown",
   "metadata": {},
   "source": [
    "# Default and keyword Arguments"
   ]
  },
  {
   "cell_type": "markdown",
   "metadata": {},
   "source": [
    "Default arguments allow you to define a default value for a function parameter. If the caller does not provide a value for that parameter, the default value is used.\n",
    "\n",
    "Keyword arguments allow you to pass arguments to a function using the parameter names. This makes the code more readable and flexible, especially when a function has many parameters.\n",
    "\n",
    "\n",
    "\n"
   ]
  },
  {
   "cell_type": "code",
   "execution_count": 7,
   "metadata": {},
   "outputs": [
    {
     "name": "stdout",
     "output_type": "stream",
     "text": [
      "Hello, Guest!\n",
      "Hello, Beatrice!\n"
     ]
    }
   ],
   "source": [
    "#Example\n",
    "\n",
    "def greet(name=\"Guest\"):\n",
    "\n",
    "    print(f\"Hello, {name}!\")\n",
    "\n",
    "#Call the function without an argument\n",
    "\n",
    "greet()  # Uses the default value \"Guest\"\n",
    "\n",
    " #Call the function with an argument\n",
    "\n",
    "greet(\"Beatrice\")  # Overrides the default value\n"
   ]
  },
  {
   "cell_type": "markdown",
   "metadata": {},
   "source": [
    "# Lambda functions"
   ]
  },
  {
   "cell_type": "markdown",
   "metadata": {},
   "source": [
    "These are one's that can take any number of arguments but return just one value in the form of an expression"
   ]
  },
  {
   "cell_type": "code",
   "execution_count": 9,
   "metadata": {},
   "outputs": [
    {
     "name": "stdout",
     "output_type": "stream",
     "text": [
      "[(2, 'apple'), (1, 'banana'), (3, 'cherry')]\n"
     ]
    }
   ],
   "source": [
    "#lambda function\n",
    "\n",
    "#List of tuples\n",
    "\n",
    "data = [(1, 'banana'), (2, 'apple'), (3, 'cherry')]\n",
    "\n",
    "#Sort the list of tuples by the second element \n",
    "#using a lambda function\n",
    "\n",
    "sorted_data = sorted(data, key=lambda x: x[1])\n",
    "\n",
    "print(sorted_data)\n",
    "\n"
   ]
  },
  {
   "cell_type": "markdown",
   "metadata": {},
   "source": [
    "# Scope of variables "
   ]
  },
  {
   "cell_type": "markdown",
   "metadata": {},
   "source": [
    "Local variables\n",
    "\n",
    "These are one's that are created inside a function\n",
    "\n",
    "Global variables \n",
    "\n",
    "These are one's created outside a function\n",
    "\n",
    "Non local variables\n",
    "\n",
    "These are one's created with in nested functions where the fuction shouldn't belong to the inner function\n"
   ]
  },
  {
   "cell_type": "code",
   "execution_count": 10,
   "metadata": {},
   "outputs": [
    {
     "name": "stdout",
     "output_type": "stream",
     "text": [
      "Inner function: 10\n",
      "Outer function: 10\n"
     ]
    }
   ],
   "source": [
    "#Examples\n",
    "\n",
    "#Local variables\n",
    "\n",
    "def local_variable():\n",
    "\n",
    "    x =\"fantastic\"\n",
    "\n",
    "    print(\"python is \"+x)\n",
    "\n",
    "    local_variables()\n",
    "\n",
    "    #Global Variables\n",
    "\n",
    "    x = \"awesome\"\n",
    "\n",
    "def global_variables():\n",
    "   \n",
    "    print(\"python is\" + x)\n",
    "   \n",
    "    global_variables()\n",
    "\n",
    "#Non local variables \n",
    "\n",
    "def outer_function():\n",
    "\n",
    "    x = 10  # Enclosing scope\n",
    "\n",
    "    def inner_function():\n",
    "\n",
    "        print(\"Inner function:\", x)  # Access x from enclosing scope\n",
    "\n",
    "    inner_function()\n",
    "    \n",
    "    print(\"Outer function:\", x)\n",
    "\n",
    "outer_function()\n",
    "\n"
   ]
  },
  {
   "cell_type": "markdown",
   "metadata": {},
   "source": [
    "# SECTION 3"
   ]
  },
  {
   "cell_type": "markdown",
   "metadata": {},
   "source": [
    "# lists"
   ]
  },
  {
   "cell_type": "markdown",
   "metadata": {},
   "source": [
    "A list is an in built data structure that allows a programmer to store a collection of items. i.e list are divided into several types such as ordered lists(one's that maintain their order), Mutable(One's that can be modified), Heterogeneous(One's that contain different data types) and Indexed(One's accessed using their index ie starting from 0 )\n"
   ]
  },
  {
   "cell_type": "markdown",
   "metadata": {},
   "source": [
    "List slicing is feature that allows a programmer to extract a portion of list by specifying the range of indices. i.e List[start:stop:step]"
   ]
  },
  {
   "cell_type": "markdown",
   "metadata": {},
   "source": [
    "append()\n",
    "\n",
    "This allows a user to add an element at the end of a list \n",
    "\n",
    "pop()\n",
    "\n",
    "This removes and returns an element from a list. By default it always removes the last element in a list but one can specify the indices."
   ]
  },
  {
   "cell_type": "code",
   "execution_count": 11,
   "metadata": {},
   "outputs": [
    {
     "name": "stdout",
     "output_type": "stream",
     "text": [
      "The sliced string is: rgam\n",
      "The fruits are: ['banana', 'apple', 'mango', 'pineapple']\n",
      "The new numbers are: [76, 95, 78, 90, 100]\n"
     ]
    }
   ],
   "source": [
    "#Examples\n",
    "\n",
    "#String slicing\n",
    "\n",
    "string = 'programming'\n",
    "\n",
    "def string_slicing(string):\n",
    "\n",
    "    str = string[1:8:2]\n",
    "\n",
    "    print(f\"The sliced string is: {str}\")\n",
    "\n",
    "    return str\n",
    "\n",
    "string_slicing(string)\n",
    "\n",
    "#string addition and removing of elements\n",
    "\n",
    "fruits =[\"banana\",\"apple\",\"mango\"]\n",
    "\n",
    "fruits.append('pineapple')\n",
    "\n",
    "print(f\"The fruits are: {fruits}\")\n",
    "\n",
    "numbers = [76,95,78,90,100,67]\n",
    "\n",
    "numbers.pop()\n",
    "\n",
    "print(f\"The new numbers are: {numbers}\")\n"
   ]
  },
  {
   "cell_type": "markdown",
   "metadata": {},
   "source": [
    "# Dictionaries"
   ]
  },
  {
   "cell_type": "markdown",
   "metadata": {},
   "source": [
    "A dictionary refers to an unordered collection of jey-value pairs.\n",
    "\n",
    "All keys in dictionaries are unique which enables the dictionaries to map to corresponding values. They are mutable which allows a usre to update, add and to remove key-value pairs "
   ]
  },
  {
   "cell_type": "markdown",
   "metadata": {},
   "source": [
    "Key features\n",
    "\n",
    "Key-Value Pairs: Each item in a dictionary is a pair of a key and a value: {key: value}.\n",
    "\n",
    "Keys: Must be immutable (e.g., strings, numbers, or tuples) and unique.\n",
    "\n",
    "Values: Can be of any data type and may be duplicated.\n",
    "\n",
    "Unordered: From Python 3.7 onward, dictionaries maintain the insertion order.\n",
    "\n",
    "Mutable: You can modify, add, or remove key-value pairs.\n"
   ]
  },
  {
   "cell_type": "code",
   "execution_count": 13,
   "metadata": {},
   "outputs": [
    {
     "name": "stdout",
     "output_type": "stream",
     "text": [
      "dict_keys(['name', 'age', 'city'])\n",
      "name\n",
      "age\n",
      "city\n",
      "dict_values(['Alice', 25, 'New York'])\n",
      "Alice\n",
      "25\n",
      "New York\n",
      "dict_items([('name', 'Alice'), ('age', 25), ('city', 'New York')])\n",
      "Key: name, Value: Alice\n",
      "Key: age, Value: 25\n",
      "Key: city, Value: New York\n"
     ]
    }
   ],
   "source": [
    "#Examples \n",
    "\n",
    "#Using Keys()\n",
    "\n",
    "person = {\"name\": \"Alice\", \"age\": 25, \"city\": \"New York\"}\n",
    "\n",
    "keys = person.keys()\n",
    "print(keys)  # Output: dict_keys(['name', 'age', 'city'])\n",
    "\n",
    "for key in person.keys():\n",
    "    print(key)\n",
    "\n",
    "\n",
    "#Using Values()\n",
    "\n",
    "person = {\"name\": \"Alice\", \"age\": 25, \"city\": \"New York\"}\n",
    "\n",
    "values = person.values()\n",
    "print(values)  # Output: dict_values(['Alice', 25, 'New York'])\n",
    "\n",
    "\n",
    "for value in person.values():\n",
    "    print(value)\n",
    "\n",
    "#Using items()\n",
    "\n",
    "\n",
    "person = {\"name\": \"Alice\", \"age\": 25, \"city\": \"New York\"}\n",
    "\n",
    "\n",
    "items = person.items()\n",
    "print(items)  # Output: dict_items([('name', 'Alice'), ('age', 25), ('city', 'New York')])\n",
    "\n",
    "\n",
    "for key, value in person.items():\n",
    "    print(f\"Key: {key}, Value: {value}\")\n",
    "\n",
    "\n",
    "\n",
    "\n",
    "\n"
   ]
  },
  {
   "cell_type": "markdown",
   "metadata": {},
   "source": [
    "# Sets"
   ]
  },
  {
   "cell_type": "markdown",
   "metadata": {},
   "source": [
    "A set is used to store a collection of items, the union of sets shows all elements or items in that given set, the intersection shows elements that are in both sets, difference is difference between elements in a set"
   ]
  },
  {
   "cell_type": "code",
   "execution_count": 14,
   "metadata": {},
   "outputs": [
    {
     "name": "stdout",
     "output_type": "stream",
     "text": [
      "{40, 10}\n",
      "{40, 10, 50, 20, 60, 30}\n",
      "{20, 30}\n"
     ]
    }
   ],
   "source": [
    "#Examples\n",
    "a={10,20,30,40}\n",
    "b={30,20,50,60}\n",
    "print(a.difference(b))\n",
    "print(a.union(b))\n",
    "print(a.intersection(b))"
   ]
  },
  {
   "cell_type": "markdown",
   "metadata": {},
   "source": [
    "# Tuples"
   ]
  },
  {
   "cell_type": "markdown",
   "metadata": {},
   "source": [
    "Tuples are immutable and ordered that is they cannot be changed,they are defined using parathenses\n",
    "\n"
   ]
  },
  {
   "cell_type": "code",
   "execution_count": 16,
   "metadata": {},
   "outputs": [
    {
     "name": "stdout",
     "output_type": "stream",
     "text": [
      "(1, 2, 5, 6, 7)\n"
     ]
    },
    {
     "data": {
      "text/plain": [
       "2"
      ]
     },
     "execution_count": 16,
     "metadata": {},
     "output_type": "execute_result"
    }
   ],
   "source": [
    "#tuple crearion\n",
    "li=[1,2,5,6,7]\n",
    "print(tuple(li))\n",
    "\n",
    "#Indexing\n",
    "tup=(1,2,3,4,5,6)\n",
    "\n",
    "tup.index(3)"
   ]
  },
  {
   "cell_type": "markdown",
   "metadata": {},
   "source": [
    "# Strings"
   ]
  },
  {
   "cell_type": "markdown",
   "metadata": {},
   "source": [
    "Strings are used for storing text\n",
    "\n",
    "The split method splits a string into a list\n",
    "\n",
    "The join method takes all iterable items and joins them into a string\n",
    "\n",
    "The replace method replaces a specified phrase with another"
   ]
  },
  {
   "cell_type": "code",
   "execution_count": 18,
   "metadata": {},
   "outputs": [
    {
     "name": "stdout",
     "output_type": "stream",
     "text": [
      "the string after reversing is skeeg rof skeeg\n",
      " the string after replacing is skeeg_rof_skeeg\n"
     ]
    }
   ],
   "source": [
    "#String slicing\n",
    "def demonstrate(string):\n",
    "    string=string[::-1]\n",
    "    print(f\"the string after reversing is {string}\")\n",
    "    string=string.replace(\" \",\"_\")\n",
    "    print(f\" the string after replacing is {string}\")\n",
    "my_string=(\"geeks for geeks\")\n",
    "demonstrate(my_string)"
   ]
  },
  {
   "cell_type": "markdown",
   "metadata": {},
   "source": [
    "# SECTION 4\n"
   ]
  },
  {
   "cell_type": "markdown",
   "metadata": {},
   "source": [
    "# Built in functions"
   ]
  },
  {
   "cell_type": "markdown",
   "metadata": {},
   "source": [
    "Sum shows the total of all elements in a list\n",
    "\n",
    "len shows how many characters are in a given list\n",
    "\n",
    "max and min show the the largest and smallest values in a list\n"
   ]
  },
  {
   "cell_type": "code",
   "execution_count": 19,
   "metadata": {},
   "outputs": [
    {
     "name": "stdout",
     "output_type": "stream",
     "text": [
      "100\n",
      " the min number is 10\n",
      " the length of list is 7\n"
     ]
    }
   ],
   "source": [
    "def new_list(numbers):\n",
    "    unique_list=max(numbers)\n",
    "    print(unique_list)\n",
    "    unique_list=min(numbers)\n",
    "    print(f\" the min number is {unique_list}\")\n",
    "    unique_list=len(numbers)\n",
    "    print(f\" the length of list is {unique_list}\")\n",
    "unique_list=[60,70,80,90,100,20,10]\n",
    "new_list(unique_list)\n"
   ]
  }
 ],
 "metadata": {
  "kernelspec": {
   "display_name": "Python 3",
   "language": "python",
   "name": "python3"
  },
  "language_info": {
   "codemirror_mode": {
    "name": "ipython",
    "version": 3
   },
   "file_extension": ".py",
   "mimetype": "text/x-python",
   "name": "python",
   "nbconvert_exporter": "python",
   "pygments_lexer": "ipython3",
   "version": "3.12.5"
  }
 },
 "nbformat": 4,
 "nbformat_minor": 2
}
