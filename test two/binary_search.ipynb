{
 "cells": [
  {
   "cell_type": "code",
   "execution_count": 1,
   "metadata": {},
   "outputs": [
    {
     "name": "stdout",
     "output_type": "stream",
     "text": [
      "Element found at index:  3\n"
     ]
    }
   ],
   "source": [
    "def binary_search(arr,low,high,target):\n",
    "    if low > high:\n",
    "        return -1\n",
    "    mid = (high + low)//2\n",
    "    if arr[mid]==target:\n",
    "        return mid\n",
    "    elif arr[mid]<target:\n",
    "        return binary_search(arr, mid+1,high,target)\n",
    "    else:\n",
    "        return binary_search(arr,mid-1,low,target)\n",
    "\n",
    "arr =[3,7,15,23,31,39,47]\n",
    "target =23\n",
    "\n",
    "\n",
    "result = binary_search(arr,0,len(arr)-1,target)\n",
    "\n",
    "if result != -1:\n",
    "    print(\"Element found at index: \",result)\n",
    "else:\n",
    "    print(\"Element not found\")\n",
    "\n",
    "        \n"
   ]
  },
  {
   "cell_type": "markdown",
   "metadata": {},
   "source": [
    "Linear search has a time complexity of O(n) in it's avarge case awhile binary search has an average case complexity of O(logn)\n",
    "\n",
    "Linear search is preferred when working on unsorted lists"
   ]
  },
  {
   "cell_type": "markdown",
   "metadata": {},
   "source": [
    "O(logn)"
   ]
  }
 ],
 "metadata": {
  "kernelspec": {
   "display_name": "Python 3",
   "language": "python",
   "name": "python3"
  },
  "language_info": {
   "codemirror_mode": {
    "name": "ipython",
    "version": 3
   },
   "file_extension": ".py",
   "mimetype": "text/x-python",
   "name": "python",
   "nbconvert_exporter": "python",
   "pygments_lexer": "ipython3",
   "version": "3.12.5"
  }
 },
 "nbformat": 4,
 "nbformat_minor": 2
}
