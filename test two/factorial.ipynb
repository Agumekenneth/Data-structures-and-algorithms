{
 "cells": [
  {
   "cell_type": "code",
   "execution_count": 1,
   "metadata": {},
   "outputs": [
    {
     "name": "stdout",
     "output_type": "stream",
     "text": [
      "120\n",
      "The factorial is a negaive integer\n"
     ]
    }
   ],
   "source": [
    "def factorial(n):\n",
    "    if n==0:\n",
    "        return 1\n",
    "    elif n<0:\n",
    "        return \"The factorial is a negaive integer\"\n",
    "\n",
    "    else:\n",
    "        return n* factorial(n-1)\n",
    "print(factorial(5))\n",
    "print(factorial(-3))\n",
    "\n",
    "        "
   ]
  },
  {
   "cell_type": "markdown",
   "metadata": {},
   "source": [
    "# Recursion\n",
    "Recursion refers to the situation of a function to repeatedly call it's self over and over again directly or indirectly to solve a problem\n",
    "\n",
    "# Properties \n",
    "- Recusive functions have a base case \n",
    "- They have a recursive case"
   ]
  },
  {
   "cell_type": "markdown",
   "metadata": {},
   "source": [
    "It has a time complexity of O(1) which is it's best case meaning it's executed first regardless of the input size"
   ]
  }
 ],
 "metadata": {
  "kernelspec": {
   "display_name": "Python 3",
   "language": "python",
   "name": "python3"
  },
  "language_info": {
   "codemirror_mode": {
    "name": "ipython",
    "version": 3
   },
   "file_extension": ".py",
   "mimetype": "text/x-python",
   "name": "python",
   "nbconvert_exporter": "python",
   "pygments_lexer": "ipython3",
   "version": "3.12.5"
  }
 },
 "nbformat": 4,
 "nbformat_minor": 2
}
