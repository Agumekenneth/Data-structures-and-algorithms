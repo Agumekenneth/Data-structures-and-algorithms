{
 "cells": [
  {
   "cell_type": "code",
   "execution_count": 1,
   "metadata": {},
   "outputs": [
    {
     "name": "stdout",
     "output_type": "stream",
     "text": [
      "[10, 29, 14, 37, 14]\n",
      "[10, 14, 29, 37, 14]\n",
      "[10, 14, 14, 37, 29]\n",
      "[10, 14, 14, 29, 37]\n",
      "[10, 14, 14, 29, 37]\n",
      "Sorted arr:  [10, 14, 14, 29, 37]\n"
     ]
    }
   ],
   "source": [
    "def selection_sort(arr):\n",
    "    n = len(arr)\n",
    "    for i in range(n):\n",
    "        min_index = i\n",
    "        for j in range(i+1,n):\n",
    "            if arr[j]< arr[min_index]:\n",
    "                min_index = j\n",
    "        arr[i],arr[min_index]= arr[min_index],arr[i]\n",
    "        print(arr)\n",
    "arr =[29,10,14,37,14]   \n",
    "selection_sort(arr)   \n",
    "print(\"Sorted arr: \", arr)         "
   ]
  },
  {
   "cell_type": "markdown",
   "metadata": {},
   "source": [
    "- Stability is whe two elements with equal values maintai their relative order in the sorted output \n",
    "\n",
    "sable algorithm,insertion sort\n",
    "\n",
    "Unsable algorithm, selection sort"
   ]
  }
 ],
 "metadata": {
  "kernelspec": {
   "display_name": "Python 3",
   "language": "python",
   "name": "python3"
  },
  "language_info": {
   "codemirror_mode": {
    "name": "ipython",
    "version": 3
   },
   "file_extension": ".py",
   "mimetype": "text/x-python",
   "name": "python",
   "nbconvert_exporter": "python",
   "pygments_lexer": "ipython3",
   "version": "3.12.5"
  }
 },
 "nbformat": 4,
 "nbformat_minor": 2
}
