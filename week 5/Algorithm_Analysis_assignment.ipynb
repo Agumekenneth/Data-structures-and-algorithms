{
 "cells": [
  {
   "cell_type": "markdown",
   "metadata": {},
   "source": [
    "# ALGORITHM ANALYSIS AND COMPLEXITY"
   ]
  },
  {
   "cell_type": "markdown",
   "metadata": {},
   "source": [
    "# Algorithm Anaysis\n",
    "- This refers to the determination pf how long or how much is required by an algorithm to solve a particular or the same problem. Or It can be referred to as  the process of finding the computational complexity of algorithms\n",
    "\n",
    "Algorithm complexity\n",
    "- Algorithm complexity is a function, f(n) where the running time and memory storage are required for input data of size n. This can generally be referred to as the running time of an algorithm.\n",
    "\n",
    "Time complexity\n",
    "- This refers to the number of times each stament should be excuted. Therfore, it doesnt measure the actual time required to excute a code \n",
    "\n",
    "Sapce complexity\n",
    "- This referes to the amount of memory an algorthm requires to solve or excute  a problem\n",
    "\n",
    "Correctness\n",
    "- This can be referred to as a property of an algorithm that produces an output as expected or as required.\n",
    "\n",
    "Termination\n",
    "- This refers to  the end of executions of an algorithm.\n",
    "\n",
    "Effectiveness\n",
    "- This refres to the easy with which an algorithm produces output that is desired. ie. it should be easy to understand, perform tracing and the steps of the logical execution are well organised.\n"
   ]
  },
  {
   "cell_type": "markdown",
   "metadata": {},
   "source": [
    "# Categories of Algorithm complexity"
   ]
  },
  {
   "cell_type": "markdown",
   "metadata": {},
   "source": [
    "CONSTANT TIME O(1)\n"
   ]
  },
  {
   "cell_type": "markdown",
   "metadata": {},
   "source": [
    "This is where the running time is independent of the input size. It is the best case scenario"
   ]
  },
  {
   "cell_type": "markdown",
   "metadata": {},
   "source": [
    "LOGARITHMIC TIME O(logn)"
   ]
  },
  {
   "cell_type": "markdown",
   "metadata": {},
   "source": [
    "This is where the running time grows logarithmically with  the input size. It is seen with algorithms that divide the input in half at each step. It's run time is proportional to the algorithm of it's input size."
   ]
  },
  {
   "cell_type": "markdown",
   "metadata": {},
   "source": [
    "LINEAR TIME O(n)"
   ]
  },
  {
   "cell_type": "markdown",
   "metadata": {},
   "source": [
    "This is where the running time grows proportionally with input size.. It is common for algorithms that process each input element"
   ]
  },
  {
   "cell_type": "markdown",
   "metadata": {},
   "source": [
    "QUADRATIC TIME O(n^2)"
   ]
  },
  {
   "cell_type": "markdown",
   "metadata": {},
   "source": [
    "This is where time taken by the algorithm increases quadratically with the size of the input data. The runtime is proportional to the square of the input size."
   ]
  },
  {
   "cell_type": "markdown",
   "metadata": {},
   "source": [
    "EXPONENTIAL TIME O(2^n)"
   ]
  },
  {
   "cell_type": "markdown",
   "metadata": {},
   "source": [
    "This is where the growth rate doubles with each addition to the input. It's runtime grows exponentially as the size of the input increases. It is typical for algorithms solving problems with recursive combinations."
   ]
  },
  {
   "cell_type": "markdown",
   "metadata": {},
   "source": [
    "FACTORIAL TIME O(n!)"
   ]
  },
  {
   "cell_type": "markdown",
   "metadata": {},
   "source": [
    "This is where the runtime grows proportionally to the factorial of the input size n. It's runtime is a result of multiplying all whole  numbers from 1 to n together"
   ]
  },
  {
   "cell_type": "markdown",
   "metadata": {},
   "source": [
    "# LOOPING STRUCTURES AND COMPLEXITY ANALYSIS"
   ]
  },
  {
   "cell_type": "markdown",
   "metadata": {},
   "source": [
    "Simple loops(Linear and logarithmic)"
   ]
  },
  {
   "cell_type": "markdown",
   "metadata": {},
   "source": [
    "- These are fundamental programming construct's that allow you to repeat a block of code multiple times."
   ]
  },
  {
   "cell_type": "code",
   "execution_count": 2,
   "metadata": {},
   "outputs": [
    {
     "name": "stdout",
     "output_type": "stream",
     "text": [
      "0\n",
      "1\n",
      "2\n",
      "3\n",
      "4\n",
      "0\n",
      "1\n",
      "2\n",
      "3\n",
      "4\n"
     ]
    }
   ],
   "source": [
    "#Example\n",
    "for i in range(5):\n",
    "    print(i)\n",
    "\n",
    "\n",
    "count = 0\n",
    "while count < 5:\n",
    "    print(count)\n",
    "    count += 1"
   ]
  },
  {
   "cell_type": "markdown",
   "metadata": {},
   "source": [
    "Nested loops(Linear and logarithmic)"
   ]
  },
  {
   "cell_type": "code",
   "execution_count": null,
   "metadata": {},
   "outputs": [],
   "source": []
  },
  {
   "cell_type": "markdown",
   "metadata": {},
   "source": [
    "- Nested loops are a common programming construct where one loop is placed inside another loop. This allows for repeated execution of a block of code. In the context of algorithm analysis, nested loops can have different time complexities depending on how they are structured.\n",
    "\n",
    "- In linear nested loops the number of iterations of the inner loop is directly proportional to the number of iterations of the outer loop. This results in a time complexity of O(n^2), where n is the size of the input\n",
    "\n",
    "Example\n",
    "\n",
    "for i in range(n):\n",
    "\n",
    "    for j in range(n):\n",
    "        \n",
    "        # Code block executed n^2 times\n"
   ]
  },
  {
   "cell_type": "markdown",
   "metadata": {},
   "source": [
    "# Big-O Notation"
   ]
  },
  {
   "cell_type": "markdown",
   "metadata": {},
   "source": [
    "It describes the upper bound of an algorithm's running time. Therefore, Big-O notation is used to describe the performance or complexity of an algorithm. Specifically, it describes the worst-case scenario in terms of time or space complexity.\n",
    "\n",
    "\n",
    "#importance sof Big-O notation\n",
    "- The Big O notation can be used to compare the efficiency of different algorithms or data structures\n",
    "- It provides a way to describe how the runtime or space requirements of an algorithm grow as the input size increases.\n",
    "- Allows programmers to compare different algorithms and choose the most efficient one for a specific problem\n",
    "- It enables developers to optimize code and improve overall performance\n",
    "- Big O Notation is important because it helps in analyzing the efficiency of algorithms"
   ]
  },
  {
   "cell_type": "markdown",
   "metadata": {},
   "source": [
    "How to detremine Big-O Notation"
   ]
  },
  {
   "cell_type": "markdown",
   "metadata": {},
   "source": [
    "Big O notation only describes the asymptotic behavior of a function as it grows infinitely large. Therefore the steps for determining Big-O Notation are as described below.\n",
    "- 1: Indentifying the dorminant term\n",
    "\n",
    "Examine the function and identify the term with the highest order of growth as the input size increases while ignoring any constant factors or lower-order terms.\n",
    "\n",
    "- 2: Determine the growth of order\n",
    "Growth of the dorminant term determines the growth of Big-O Notaton.\n",
    "\n",
    "- 3: Write the Big-O Notation\n",
    "The Big O notation is written as O(f(n)), where f(n) represents the dominant term.\n",
    "- 4: Simplfying The Notation(This can also be optional)\n",
    "In some cases, the Big O notation can be simplified by removing constant factors or by using a more concise notation.\n"
   ]
  },
  {
   "cell_type": "markdown",
   "metadata": {},
   "source": [
    "Eamples."
   ]
  },
  {
   "cell_type": "markdown",
   "metadata": {},
   "source": [
    "Function: f(n) = 3n3 + 2n2 + 5n + 1\n",
    "\n",
    "Dominant Term: 3n3\n",
    "\n",
    "Order of Growth: Cubic (n3)\n",
    "\n",
    "Big O Notation: O(n3)\n",
    "\n",
    "Simplified Notation: O(n3)"
   ]
  },
  {
   "cell_type": "markdown",
   "metadata": {},
   "source": [
    "# Algorithm RunTime Efficiency"
   ]
  },
  {
   "cell_type": "markdown",
   "metadata": {},
   "source": [
    "Best-case \n",
    "- This represents the minimium time an algorthm takes to run for a given input size. Thus this occurrs when an algorithm performs the fewest number of operations"
   ]
  },
  {
   "cell_type": "markdown",
   "metadata": {},
   "source": [
    "Worst-case \n",
    "- This represents the longest time taken by an algorithm to execute a given task."
   ]
  },
  {
   "cell_type": "markdown",
   "metadata": {},
   "source": [
    "Average-Case Analysis\n",
    "- This represents the random time complexities of an algorithm for random inputs. Therfore it considers all possible cases and the calculates their possiblity of occurring."
   ]
  },
  {
   "cell_type": "markdown",
   "metadata": {},
   "source": [
    "Comparison of different complexity functions"
   ]
  },
  {
   "cell_type": "code",
   "execution_count": null,
   "metadata": {},
   "outputs": [],
   "source": []
  }
 ],
 "metadata": {
  "kernelspec": {
   "display_name": "Python 3",
   "language": "python",
   "name": "python3"
  },
  "language_info": {
   "codemirror_mode": {
    "name": "ipython",
    "version": 3
   },
   "file_extension": ".py",
   "mimetype": "text/x-python",
   "name": "python",
   "nbconvert_exporter": "python",
   "pygments_lexer": "ipython3",
   "version": "3.12.5"
  }
 },
 "nbformat": 4,
 "nbformat_minor": 2
}
