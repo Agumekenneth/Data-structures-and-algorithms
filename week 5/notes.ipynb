{
 "cells": [
  {
   "cell_type": "markdown",
   "metadata": {},
   "source": [
    "B30309 S24B36/017"
   ]
  },
  {
   "cell_type": "markdown",
   "metadata": {},
   "source": [
    "# INTRODUCTION TO DATA STRUCTURES AND ALGORITHMS"
   ]
  },
  {
   "cell_type": "markdown",
   "metadata": {},
   "source": [
    "Data structures and alogorithms are fundermental concepts in programming which enable efficient problem solving and optimization.\n",
    "- In simple terms, data structures organize and store data in a way that enables a programmer to modify and access it.\n",
    "\n",
    "- Algorithms are are procedural steps that are used in  searching, sorting manipulating data so as to solve problems.\n",
    "\n",
    "Therefore data structures and algorithms contribute to improved software performance ie. less memory consumption and handling large amounts of data etc.\n",
    "\n"
   ]
  },
  {
   "cell_type": "markdown",
   "metadata": {},
   "source": [
    "# Abstract Data Types(ADT) and Data Structures"
   ]
  },
  {
   "cell_type": "markdown",
   "metadata": {},
   "source": [
    "Abstract Data Types are conceptual models that define a set of operations and behaviours for a data type without specifying how these operations are implemented or how data is organized in a memory\n",
    "\n",
    "#Role of Abstract Data Types in programming\n",
    "-  They help in encapsulating data through hiding the underlying implementation details and only exposing the necessary operations which makes it easy to modidy the data structure\n",
    "-  They help in modularity where ADTs are combined to form more complex data structures for easy reusability and maintenance without affecting the programmer using ADT.\n",
    "-  They are flexible in that they can be implemented in different ways while maintaining the same interface thus making them adaptable to various use cases.\n",
    "\n",
    "#Differences btn ADTs and Data Structures\n",
    "-  ADTs are high-level and abstract thus focusing on the logical view of data and operations  while hiding their implementation details while Data structures are low-level and concrete thus detailing every physicl representation of data in the memory\n",
    "-  ADTs can be implemeted in several ways thus enabling one to use any format without changing the meaning while Data Structures have a specific implementation and efficiency \n"
   ]
  },
  {
   "cell_type": "code",
   "execution_count": 7,
   "metadata": {},
   "outputs": [
    {
     "name": "stdout",
     "output_type": "stream",
     "text": [
      "STACK\n",
      "stack [1, 2, 3]\n",
      "popped element 3\n",
      "top most element 2\n",
      "QUEUE\n",
      "queue: deque([1, 2, 3])\n",
      "queue is now a list [1, 2, 3]\n",
      "removed element: 1\n",
      "front element 2\n"
     ]
    }
   ],
   "source": [
    "#Examples of ADTs and how  they are implemented\n",
    "# A stack which follows a principle of last in, first out\n",
    "print(\"STACK\")\n",
    "stack =[]# intializes creation of an empty list into which elemnts are to be added\n",
    "# Addition of elemnts within the list\n",
    "stack.append(1)\n",
    "stack.append(2)\n",
    "stack.append(3)\n",
    "print(\"stack\",stack)\n",
    "\n",
    "#remove elements from a stack\n",
    "if stack:\n",
    "    popped = stack.pop()\n",
    "    print(\"popped element\",popped)\n",
    "\n",
    "if stack:\n",
    "    print(\"top most element\",stack[-1])#prints out the top element\n",
    "\n",
    "print(\"QUEUE\")\n",
    "# Queues follow a principal of first in, first out\n",
    "#Queuefrom collections import deque\n",
    "from collections import deque\n",
    "queue =deque()\n",
    "queue.append(1)\n",
    "queue.append(2)\n",
    "queue.append(3)\n",
    "print(\"queue:\",queue)\n",
    "print(\"queue is now a list\",list(queue))\n",
    "\n",
    "if queue:\n",
    "    removed_element = queue.popleft()\n",
    "    print(\"removed element:\",removed_element)\n",
    "\n",
    "if queue:\n",
    "    print(\"front element\",queue[0])\n",
    "\n",
    "#Therefore ADTs can be implemneted using stacks, queues,dictionaries and linked lists etc\n"
   ]
  },
  {
   "cell_type": "markdown",
   "metadata": {},
   "source": [
    "# Types of Data Structures"
   ]
  },
  {
   "cell_type": "markdown",
   "metadata": {},
   "source": [
    "ARRAYS"
   ]
  },
  {
   "cell_type": "code",
   "execution_count": 10,
   "metadata": {},
   "outputs": [
    {
     "name": "stdout",
     "output_type": "stream",
     "text": [
      "[1, 2, 3, 4, 5, 6, 7, 8, 9]\n",
      "[[1, 2, 3], [4, 5, 6], [7, 8, 9]]\n",
      "1\n"
     ]
    }
   ],
   "source": [
    "#An array can be defined as a collection of elements stored in contiguous memory locations\n",
    "\n",
    "array = [1,2,3,4,5,6,7,8,9]\n",
    "print(array)\n",
    "\n",
    "# they also contain 2D arrays\n",
    "array1 =[\n",
    "    [1,2,3],\n",
    "    [4,5,6],\n",
    "    [7,8,9]\n",
    "]\n",
    "print(array1)\n",
    "print(array1[0][0])# how you print out elements within a 2D array\n"
   ]
  },
  {
   "cell_type": "markdown",
   "metadata": {},
   "source": [
    "LINKED LISTS"
   ]
  },
  {
   "cell_type": "markdown",
   "metadata": {},
   "source": [
    "Data structure where size can be changed\n",
    "\n",
    "It uses a pointer"
   ]
  },
  {
   "cell_type": "markdown",
   "metadata": {},
   "source": [
    "node-a structure that contains the following\n",
    "\n",
    "data(Value sorted in the node)\n",
    "\n",
    "pointer(reference to the next node)\n",
    "\n",
    "head-the first node in a linked list\n",
    "\n",
    "tail-the last nodenin a linked list"
   ]
  },
  {
   "cell_type": "code",
   "execution_count": 11,
   "metadata": {},
   "outputs": [
    {
     "name": "stdout",
     "output_type": "stream",
     "text": [
      "linked_list\n",
      "1->2->3->none\n",
      "1->1.5->2->3->none\n",
      "1->2->3->none\n"
     ]
    }
   ],
   "source": [
    "linked_list={\n",
    "    0:(1,1),\n",
    "    1:(2,2),\n",
    "    2:(3,-1)\n",
    "}\n",
    "#print(linked_list)\n",
    "def dipslay_linked_list():\n",
    "    index = 0\n",
    "    while index!=-1:\n",
    "        value,next_index =linked_list[index]\n",
    "        print(value,end='->')\n",
    "        index =next_index\n",
    "    print(\"none\")\n",
    "print(\"linked_list\")\n",
    "dipslay_linked_list()\n",
    "\n",
    "linked_list[1]=(1.5,2)\n",
    "linked_list[2]=(2,3)\n",
    "linked_list[3] = (3,-1)\n",
    "dipslay_linked_list()\n",
    "\n",
    "#remove data from a linked list\n",
    "del linked_list[1]\n",
    "linked_list[0] = (1,2)\n",
    "dipslay_linked_list()\n"
   ]
  },
  {
   "cell_type": "markdown",
   "metadata": {},
   "source": [
    " STACKS"
   ]
  },
  {
   "cell_type": "code",
   "execution_count": 12,
   "metadata": {},
   "outputs": [
    {
     "name": "stdout",
     "output_type": "stream",
     "text": [
      "STACK\n",
      "stack ['apple', 'banana', 'grapes']\n",
      "popped element grapes\n",
      "top most element banana\n"
     ]
    }
   ],
   "source": [
    "# A stack which follows a principle of last in, first out\n",
    "print(\"STACK\")\n",
    "stack =[]# intializes creation of an empty list into which elemnts are to be added\n",
    "# Addition of elemnts within the list\n",
    "stack.append('apple')\n",
    "stack.append('banana')\n",
    "stack.append('grapes')\n",
    "print(\"stack\",stack)\n",
    "\n",
    "#remove elements from a stack\n",
    "if stack:\n",
    "    popped = stack.pop()\n",
    "    print(\"popped element\",popped)\n",
    "\n",
    "if stack:\n",
    "    print(\"top most element\",stack[-1])#prints out the top element\n"
   ]
  },
  {
   "cell_type": "markdown",
   "metadata": {},
   "source": [
    "QUEUES"
   ]
  },
  {
   "cell_type": "code",
   "execution_count": 13,
   "metadata": {},
   "outputs": [
    {
     "name": "stdout",
     "output_type": "stream",
     "text": [
      "queue: deque(['streamA', 'streamB', 'streamC'])\n",
      "queue is now a list ['streamA', 'streamB', 'streamC']\n",
      "removed element: streamA\n",
      "front element streamB\n"
     ]
    }
   ],
   "source": [
    "# Queues follow a principal of first in, first out\n",
    "#Queuefrom collections import deque\n",
    "from collections import deque\n",
    "queue =deque()\n",
    "queue.append('streamA')\n",
    "queue.append('streamB')\n",
    "queue.append('streamC')\n",
    "print(\"queue:\",queue)\n",
    "print(\"queue is now a list\",list(queue))\n",
    "\n",
    "if queue:\n",
    "    removed_element = queue.popleft()\n",
    "    print(\"removed element:\",removed_element)\n",
    "\n",
    "if queue:\n",
    "    print(\"front element\",queue[0])"
   ]
  },
  {
   "cell_type": "markdown",
   "metadata": {},
   "source": [
    "RECURSION\n",
    "\n",
    "- This is a function that calls itself directly or indirectly to solve a smaller instance of a problem"
   ]
  },
  {
   "cell_type": "code",
   "execution_count": 15,
   "metadata": {},
   "outputs": [
    {
     "name": "stdout",
     "output_type": "stream",
     "text": [
      "15\n"
     ]
    }
   ],
   "source": [
    "# Recursive function to find the sum of numbers from 0 to n\n",
    "def findSum(n):\n",
    "    #base case\n",
    "    if n ==0:\n",
    "        return 0\n",
    "    # Recursive case\n",
    "\n",
    "    return n + findSum(n - 1)\n",
    "n =5\n",
    "print(findSum(n))\n"
   ]
  },
  {
   "cell_type": "markdown",
   "metadata": {},
   "source": [
    "TREES\n",
    "- These refer to a hierarchical data structures composed of nodes connected by edges or These are hierarchical structures that are used to represent and organize data in the form of parent child relationship."
   ]
  },
  {
   "cell_type": "code",
   "execution_count": 16,
   "metadata": {},
   "outputs": [],
   "source": [
    "class Node:\n",
    "    def __init__(self, data):\n",
    "        self.data = data\n",
    "        self.children = []\n"
   ]
  },
  {
   "cell_type": "markdown",
   "metadata": {},
   "source": [
    "GRAPHS\n",
    " - These refer to data structures that consist of a set of nodes(vertices) and edges that connect pairs of nodes."
   ]
  },
  {
   "cell_type": "code",
   "execution_count": 19,
   "metadata": {},
   "outputs": [
    {
     "name": "stdout",
     "output_type": "stream",
     "text": [
      "0 1 1 0\n",
      "1 0 1 0\n",
      "1 1 0 1\n",
      "0 0 1 0\n"
     ]
    }
   ],
   "source": [
    "# Function to add an edge between vertices i and j\n",
    "def add_edge(mat, i, j):\n",
    "    mat[i][j] = mat[j][i] = 1  # Since the graph is undirected, both mat[i][j] and mat[j][i] are set to 1\n",
    "\n",
    "# Function to display the adjacency matrix\n",
    "def display_matrix(mat):\n",
    "    for row in mat:\n",
    "        print(\" \".join(map(str, row)))  # Join and print each row of the matrix\n",
    "\n",
    "if __name__ == \"__main__\":\n",
    "    V = 4  # Number of vertices in the graph\n",
    "    mat = [[0] * V for _ in range(V)]  # Initialize a VxV matrix with zeros (no edges)\n",
    "\n",
    "    # List of edges to be added to the graph (pairs of connected vertices)\n",
    "    edges = [(0, 1), (0, 2), (1, 2), (2, 3)]\n",
    "\n",
    "    # Add edges to the matrix\n",
    "    for i, j in edges:\n",
    "        add_edge(mat, i, j)\n",
    "\n",
    "    # Display the final adjacency matrix\n",
    "    display_matrix(mat)\n"
   ]
  },
  {
   "cell_type": "markdown",
   "metadata": {},
   "source": [
    "# Operations on Data Structures"
   ]
  },
  {
   "cell_type": "markdown",
   "metadata": {},
   "source": [
    "Traversing\n",
    "- This refers to systematically visiting and processing each element or node within a data structure\n"
   ]
  },
  {
   "cell_type": "markdown",
   "metadata": {},
   "source": [
    "Seraching \n",
    " - This is a process of finding the required information from a collection of items stored as elements in the computer memory"
   ]
  },
  {
   "cell_type": "markdown",
   "metadata": {},
   "source": [
    "Insertion\n",
    "  - This refers to the process of adding a new element to a data structure"
   ]
  },
  {
   "cell_type": "markdown",
   "metadata": {},
   "source": [
    "Deletion\n",
    "  - This is the process of removing an element from a data structure "
   ]
  },
  {
   "cell_type": "markdown",
   "metadata": {},
   "source": [
    "Updating\n",
    "  - This refers to a process of modfying an element in a data structure"
   ]
  },
  {
   "cell_type": "markdown",
   "metadata": {},
   "source": [
    "Sorting\n",
    "  - This is a process of arranging elements of a data structure in a specific order"
   ]
  },
  {
   "cell_type": "markdown",
   "metadata": {},
   "source": [
    "Merging\n",
    "  - This is defined as a process of combining two or more sorted lists into a single sorted list."
   ]
  },
  {
   "cell_type": "markdown",
   "metadata": {},
   "source": [
    "# Algorithms"
   ]
  },
  {
   "cell_type": "markdown",
   "metadata": {},
   "source": [
    "- This refers to procedures used to solve compentational problems.\n",
    "\n",
    "#Role\n",
    "- An algorithm is used to solve problems ranging from simple sorting and searching to complex tasks i.e. AI and machine learning\n",
    "\n"
   ]
  },
  {
   "cell_type": "markdown",
   "metadata": {},
   "source": [
    "#Pseudocode\n",
    "\n",
    "# addition\n",
    "Algorithm: SumArray\n",
    "\n",
    "BEGIN\n",
    "\n",
    "    INPUT: Array of numbers, arr[0..n-1]\n",
    "\n",
    "    OUTPUT: Sum of all elements in arr\n",
    "\n",
    "    1. Initialize sum to 0\n",
    "\n",
    "    2. FOR each element in arr:\n",
    "\n",
    "        a. Add the element to sum\n",
    "\n",
    "    3. RETURN sum\n",
    "    \n",
    "END\n"
   ]
  },
  {
   "cell_type": "markdown",
   "metadata": {},
   "source": [
    "#Matrix multiplication algorithm\n"
   ]
  },
  {
   "cell_type": "markdown",
   "metadata": {},
   "source": [
    "#Types of Algorithms\n",
    "\n",
    "Brute Force Algorithm\n",
    "- This algorithm is able to try out several numbers so as to crack a password or cobination. i.e. If it is a 2 pin password the algorithm will try it out  99 times.\n",
    "\n",
    "Recursive Algorithm\n",
    "- This repeats the same process until it reaches the minimum point \n",
    "\n",
    "Divide and Conquer Algorithm\n",
    "- This breaks the problem into sub-problems in order to solve a single sub-problem, and merges the solutions to get the final solution\n",
    "\n",
    "Dynamic Programming Algorithm\n",
    "- This algorithm uses the past to solve the future problems. This is done by using the already found solution to avoid a repetitive calculation of the same part of the problem\n",
    "\n",
    "Greedy Algorithm\n",
    "- This uses the solution that is built in several parts. The solution for the next part is built based on the immediate benefit of the next part.\n",
    "\n",
    "Backtracking Algorithm\n",
    "-  This builds a solution by searching among the possible solutions. When using this algorithm, we keep on building the solution following a certain criteria. Whenever a solution fails we trace back to the failure point and build on the next solution thus continuing the process until we find the possible solution"
   ]
  },
  {
   "cell_type": "markdown",
   "metadata": {},
   "source": [
    "# Algorithm Representation "
   ]
  },
  {
   "cell_type": "markdown",
   "metadata": {},
   "source": [
    "Pseudocode\n",
    "\n",
    "Pseudocode is  a method of describing a process of writing programming code and algorithms using a natural languange that is human readable and doesnot follow strict syntax \n",
    "\n",
    "#pseudocode\n",
    "\n",
    "- Thy provide improved problem-solving by breaking complex problems into smaller,manageable steps \n",
    "- It helps instructuring the logic in a step-by-step manner,making it easier to follow and implement\n"
   ]
  },
  {
   "cell_type": "markdown",
   "metadata": {},
   "source": [
    "#Flowchart representation of an algorithm\n",
    "\n",
    "S Oval\n",
    "- The start and end points of the algorithm. The flowchart typically begins and ends with these symbols.\n",
    "\n",
    "Rectangle\n",
    "- Represents a step or action in the algorithm, such as a calculation or assignment.\n",
    "\n",
    "Diamond\n",
    "- Represents a decision point where the flow can branch based on a condition (yes/no, true/false).\n",
    "\n",
    "Parallelogram\n",
    "- Used to represent input to the algorithm (like reading data) or output (like displaying results).\n",
    "\n",
    "Arrow (Flowline)\n",
    "- Shows the direction of the flow of the process, connecting the various steps.\n",
    "\n",
    "Connector (Circle or Small Oval)\n",
    "- Used to connect different parts of the flowchart, especially if it’s too large to fit on one page."
   ]
  },
  {
   "cell_type": "markdown",
   "metadata": {},
   "source": [
    "#Example\n",
    "\n",
    "n! = n × (n - 1) × (n - 2) × ... × 1\n",
    "\n",
    "\n",
    "Start: Begin the process.\n",
    "\n",
    "Input: Get a number n from the user.\n",
    "\n",
    "Initialize: Set a variable fact = 1 to hold the result.\n",
    "\n",
    "Loop: Multiply fact by n and decrement n until n reaches 1.\n",
    "\n",
    "Output: Display the result (factorial of n).\n",
    "\n",
    "End: End the process."
   ]
  },
  {
   "cell_type": "code",
   "execution_count": 22,
   "metadata": {},
   "outputs": [],
   "source": [
    "#   [Start] \n",
    "#      |\n",
    "# [Input n] \n",
    "#      |\n",
    "# [Initialize fact = 1] \n",
    "#      |\n",
    "# [Is n > 1?] --No--> [Output fact] --> [End]\n",
    "#      |\n",
    "#     Yes\n",
    "#      |\n",
    "# [Multiply fact by n]\n",
    "#      |\n",
    "# [Decrement n by 1]\n",
    "#      |\n",
    "# [Is n > 1?] --No--> [Output fact] --> [End]\n",
    "#      |\n",
    "#     Yes\n",
    "#      |\n",
    "# [Repeat the process]\n"
   ]
  },
  {
   "cell_type": "markdown",
   "metadata": {},
   "source": [
    "# Guidelines for Flowcharts"
   ]
  },
  {
   "cell_type": "markdown",
   "metadata": {},
   "source": [
    "For one to draw a flowchart that is well represented, it should always contain;\n",
    "\n",
    "Oval\n",
    "- Used to represent the start or end of a process (also called terminator).\n",
    "Rectangle\n",
    "- Represents a process or action step.\n",
    "Parallelogram\n",
    "- Denotes input or output operations.\n",
    "Diamond\n",
    "- Represents a decision or branching point (yes/no, true/false).\n",
    "Arrow\n",
    "- Indicates the flow or direction of the process.\n",
    "Circle\n",
    "- Used to represent connectors or to join different parts of the flowchart (often used when the chart spans multiple pages).\n",
    "\n",
    "The above symbols should always be included \n",
    "\n",
    "The steps should be labelled properly for easy reading and presentations \n",
    "\n",
    "The flow charts should be kept simple ie. they should be easily understood\n",
    "\n",
    "One should always follow the logic as the steps should be shown from the first to the last.\n",
    "\n",
    "And lastly, ensure the flowchart is accurately representing the process as meant to be described.\n",
    "\n",
    "\n"
   ]
  },
  {
   "cell_type": "markdown",
   "metadata": {},
   "source": [
    "# Conclusion\n",
    "\n",
    "In the nutshell, learning data structures and algorithms is essential in effeiceint problem-solving in both the computer science and the data science fields where it helps in establishing the foundation of software development , optimised data storage and retrival etc."
   ]
  }
 ],
 "metadata": {
  "kernelspec": {
   "display_name": "Python 3",
   "language": "python",
   "name": "python3"
  },
  "language_info": {
   "codemirror_mode": {
    "name": "ipython",
    "version": 3
   },
   "file_extension": ".py",
   "mimetype": "text/x-python",
   "name": "python",
   "nbconvert_exporter": "python",
   "pygments_lexer": "ipython3",
   "version": "3.12.5"
  }
 },
 "nbformat": 4,
 "nbformat_minor": 2
}
